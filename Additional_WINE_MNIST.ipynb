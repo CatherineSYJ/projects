{
  "nbformat": 4,
  "nbformat_minor": 0,
  "metadata": {
    "kernelspec": {
      "display_name": "Python 3",
      "language": "python",
      "name": "python3"
    },
    "language_info": {
      "codemirror_mode": {
        "name": "ipython",
        "version": 3
      },
      "file_extension": ".py",
      "mimetype": "text/x-python",
      "name": "python",
      "nbconvert_exporter": "python",
      "pygments_lexer": "ipython3",
      "version": "3.7.3"
    },
    "colab": {
      "name": "Additional_WINE_MNIST.ipynb",
      "provenance": []
    }
  },
  "cells": [
    {
      "cell_type": "code",
      "metadata": {
        "id": "XdGI0B77JiIR"
      },
      "source": [
        "# Useful starting lines\n",
        "%matplotlib inline\n",
        "import numpy as np\n",
        "import matplotlib.pyplot as plt\n",
        "import pandas as pd\n",
        "import seaborn as sns\n",
        "import math \n",
        "from numpy import linalg as la\n",
        "%load_ext autoreload\n",
        "%autoreload 2"
      ],
      "execution_count": null,
      "outputs": []
    },
    {
      "cell_type": "markdown",
      "metadata": {
        "id": "U_PrTqeFJiIV"
      },
      "source": [
        "In this notebook multiclass logistic regression or softmax regression is considered. The negative log likelihood  is derived and is differentiated to find a gradient that can be used in the Gradient Descent  and Stochastic Gradient Descent algorithm. This classifier can determine based on some features  we must extract from our dataset which class and item belongs to rather than whether it just belongs to a class or does not (binary decision).\n",
        "\n",
        "It is possible  to use a binary classifier when there are more than two classes this can be done by what is known as one vs all classification where the number of times we must run the classifier is equal to the number of classes. For each class we determine  some weights then the most probable outcome is then determined. Softmax allows us to complete this process in a single step. \n",
        "\n",
        "The main focus here is on search and optimization algorithms, having covered the other aspects previously. On larger and more complicated datasets this is the more relevant  issue. It can be seen that even on the moderately sized mnist algorithm choice does not have a large impact however it is important the see the bigger picture and recognise for datasets that are likely to be encountered which of the algorithms are computationally  tractable. "
      ]
    },
    {
      "cell_type": "markdown",
      "metadata": {
        "id": "xKBfKwn-JiIW"
      },
      "source": [
        "### Import the data for wine\n"
      ]
    },
    {
      "cell_type": "code",
      "metadata": {
        "id": "vTIiJDScJiIX"
      },
      "source": [
        "# Import the data using pandas library \n",
        "wines_pd = pd.read_csv('wine.data')"
      ],
      "execution_count": null,
      "outputs": []
    },
    {
      "cell_type": "markdown",
      "metadata": {
        "id": "7oRfnqm3JiIa"
      },
      "source": [
        "### Clean and prepare the data \n"
      ]
    },
    {
      "cell_type": "code",
      "metadata": {
        "id": "avOYCHyFJiIa"
      },
      "source": [
        "class_id = pd.get_dummies(wines_pd[\"Class Identifier\"], drop_first = False)\n",
        "wines_pd = pd.concat([class_id,wines_pd], axis = 1)\n",
        "\n",
        "\n",
        "wine = wines_pd.values\n",
        "\n",
        "y1                                = wine[:,0]\n",
        "y2                                = wine[:,1]\n",
        "y3                                = wine[:,2]\n",
        "Y                                 = wine[:,3]\n",
        "Alcohol                           = wine[:,4]\n",
        "Malic_acid                        = wine[:,5]\n",
        "Ash                               = wine[:,6]\n",
        "Alcalanity_of_ash                 = wine[:,7]\n",
        "Magnesium                         = wine[:,8]\n",
        "Total_phenols                     = wine[:,9]\n",
        "Flavanoids                        = wine[:,10]\n",
        "Nonflavanoid_phenols              = wine[:,11]\n",
        "Proanthocyanins                   = wine[:,12]\n",
        "Color_intensity                   = wine[:,13]\n",
        "Hue                               = wine[:,14]\n",
        "OD280OD315_of_diluted_wines       = wine[:,15]\n",
        "Proline                           = wine[:,16]\n",
        "\n",
        "# Subtract one from the class labels so index can start from 0\n",
        "# This is so when we use the argmax function the index matches the label\n",
        "Y = wine[:,3] - 1\n",
        "\n",
        "# One hot encoding of class labels\n",
        "y = np.c_[y1,y2,y3]"
      ],
      "execution_count": null,
      "outputs": []
    },
    {
      "cell_type": "markdown",
      "metadata": {
        "id": "r2AZngR0JiIe"
      },
      "source": [
        "### Select feautures and rescale"
      ]
    },
    {
      "cell_type": "code",
      "metadata": {
        "id": "GsZBbxPVJiIf"
      },
      "source": [
        "from helpers import sample_data,load_data, standardise\n",
        "\n",
        "# Choose your identifier\n",
        "X = np.c_[Alcohol,Malic_acid,Ash,Alcalanity_of_ash,Magnesium,Total_phenols,Flavanoids,Nonflavanoid_phenols,Proanthocyanins,Color_intensity,Hue,OD280OD315_of_diluted_wines,Proline]\n",
        "\n",
        "# Standardize\n",
        "x, mean_x, std_x = standardise(X)\n",
        "\n",
        "# Augamented feauture vector\n",
        "x = np.c_[np.ones((y.shape[0], 1)), x]"
      ],
      "execution_count": null,
      "outputs": []
    },
    {
      "cell_type": "markdown",
      "metadata": {
        "id": "wUd78-tGJiIi"
      },
      "source": [
        "### Derivation of the negative log likelehood and gradient for the softmax function"
      ]
    },
    {
      "cell_type": "markdown",
      "metadata": {
        "id": "eu-WIfEUJiIj"
      },
      "source": [
        "$$\\log{\\bigg(\\frac{\\pi_{ij}}{\\pi_{iJ}}\\bigg)}=\\log{\\bigg(\\frac{\\pi_{ij}}{1-\\sum_{j=1}^{J-1}\\pi_{ij}}\\bigg)=\\sum_{k=0}^{K}x_{ik}\\omega_{kj}}$$\n",
        "\n",
        "$$i = 1,2,...,N$$\n",
        "$$j = 1,2,...,J-1$$\n",
        "\n",
        "Solving for $\\pi_{ij}$, we have:\n",
        "\n",
        "$$\\pi_{ij} = \\frac{e^{\\sum_{k=0}^{K}x_{ik}\\omega_{kj}}}{1+\\sum_{j=1}^{J-1}e^{\\sum_{k=0}^{K}x_{ik}\\omega_{kj}}}$$ \n",
        "$j<J$\n",
        "\n",
        "$$\\pi_{iJ} = \\frac{1}{1+\\sum_{j=1}^{J-1}e^{\\sum_{k=0}^{K}x_{ik}\\omega_{kj}}}$$\n",
        "\n",
        "\n"
      ]
    },
    {
      "cell_type": "markdown",
      "metadata": {
        "id": "323tNpdtJiIj"
      },
      "source": [
        "Calculating the log likelehood"
      ]
    },
    {
      "cell_type": "markdown",
      "metadata": {
        "id": "qh3_hDrQJiIk"
      },
      "source": [
        "$$f(y|\\omega) =\\prod_{i=1}^{N}\\left[\\frac{n_i!}{\\prod_{j=1}^{J}y_{ij}!}\\cdot\\prod_{j=1}^{J}\\pi_{ij}^{y_{ij}}\\right] $$\n",
        " \n",
        "\n",
        "$$L(\\omega|y)\\simeq\\prod_{i=1}^{N}\\prod_{j=1}^{J}\\pi_{ij}^{y_{ij}}  $$\n",
        "\n",
        "$$ \\prod_{i=1}^{N}\\prod_{j=1}^{J-1}\\pi_{ij}^{y_{ij}}\\cdot\\pi_{iJ}^{n_i-\\sum_{j=1}^{J-1}y_{ij}}$$\n",
        "\n",
        "$$=\\prod_{i=1}^{N}\\prod_{j=1}^{J-1}\\pi_{ij}^{y_{ij}}\\frac{\\pi_{iJ}^{n_i}}{\\pi_{iJ}^{\\sum_{j=1}^{J-1}y_{ij}}}   $$\n",
        "\n",
        "$$=\\prod_{i=1}^{N}\\prod_{j=1}^{J-1}\\pi_{ij}^{y_{ij}}\\frac{\\pi_{iJ}^{n_i}}{\\prod_{j=1}^{J-1}\\pi_{iJ}^{y_{ij}}} $$\n",
        "\n",
        "\n",
        "$$\\prod_{i=1}^{N}\\prod_{j=1}^{J-1}\\left(\\frac{\\pi_{ij}}{\\pi_{iJ}}\\right)^{y_{ij}}\\cdot\\pi_{iJ}^{n_i}   $$\n",
        "\n",
        "$$\\prod_{i=1}^{N}\\prod_{j=1}^{J-1}\\left(e^{\\sum_{k=0}^{K}x_{ik}\\omega_{kj}}\\right)^{y_{ij}} \\cdot\\left(\\frac{1}{1+\\sum_{j=1}^{J-1}e^{\\sum_{k=0}^{K}x_{ik}\\omega_{kj}}}\\right)^{n_i}  $$\n",
        "\n",
        "$$=\\prod_{i=1}^{N}\\prod_{j=1}^{J-1}e^{y_{ij}\\sum_{k=0}^{K}x_{ik}\\omega_{kj}}\\cdot\\left(1+\\sum_{j=1}^{J-1}e^{\\sum_{k=0}^{K}x_{ik}\\omega_{kj}}\\right)^{-n_i}   $$\n",
        "\n",
        "$$l\\left(\\omega\\right)=\\sum_{i=1}^{N}\\sum_{j=1}^{J-1}\\left(y_{ij}\\sum_{k=0}^{K}x_{ik}\\omega_{kj}\\right)-n_i\\log\\left(1+\\sum_{j=1}^{J-1}e^{\\sum_{k=0}^{K}x_{ik}\\omega_{kj}}\\right) $$\n",
        "\n"
      ]
    },
    {
      "cell_type": "markdown",
      "metadata": {
        "id": "TebhFE3TJiIl"
      },
      "source": [
        "Calculating the gradient "
      ]
    },
    {
      "cell_type": "markdown",
      "metadata": {
        "id": "5oi5jVroJiIl"
      },
      "source": [
        "$$\\frac{\\partial\\left(\\omega\\right)}{\\partial\\omega_{kj}}=\\sum_{i=1}^{N}y_{ij}x_{ik}-n_i\\cdot\\frac{1}{1+\\sum_{j=1}^{J-1}e^{\\sum_{k=0}^{K}x_{ik}\\omega_{kj}}} \\cdot\\frac{\\partial}{\\partial\\omega_{kj}}\\left(1+\\sum_{j=1}^{J-1}e^{\\sum_{k=0}^{K}x_{ik}\\omega_{kj}}\\right) $$\n",
        "\n",
        "$$ = \\sum_{i=1}^{N}y_{ij}x_{ik}-n_i\\cdot\\frac{1}{1+\\sum_{j=1}^{J-1}e^{\\sum_{k=0}^{K}x_{ik}\\omega_{kj}}}\\cdot{e^{\\sum_{k=0}^{K}x_{ik}\\omega_{kj}}}\\cdot\\frac{\\partial}{\\partial\\omega_{kj}}\\sum_{k=1}^{K}x_{ik}\\omega_{kj}   $$\n",
        "\n",
        "\n",
        "$$= \\sum_{i=1}^{N}y_{ij}x_{ik}-n_i\\cdot\\frac{1}{1+\\sum_{j=1}^{J-1}e^{\\sum_{k=0}^{K}x_{ik}\\omega_{kj}}}\\cdot{e^{\\sum_{k=0}^{K}x_{ik}\\omega_{kj}}}\\cdot{x_{ik}}  $$\n",
        "\n",
        "\n",
        "$$ = \\sum_{i=1}^{N}y_{ij}x_{ik}-n_i\\pi_{ij}x_{ik}$$"
      ]
    },
    {
      "cell_type": "markdown",
      "metadata": {
        "id": "kVm3CptpJiIm"
      },
      "source": [
        "### Model building "
      ]
    },
    {
      "cell_type": "code",
      "metadata": {
        "id": "zV1I9WPxJiIm"
      },
      "source": [
        "# Softmax function that prevents overflow\n",
        "\n",
        "def softmax(t):\n",
        "    t -= np.max(t)\n",
        "    softmax = (np.exp(t).T / np.sum(np.exp(t),axis=1)).T\n",
        "    return softmax\n"
      ],
      "execution_count": null,
      "outputs": []
    },
    {
      "cell_type": "markdown",
      "metadata": {
        "id": "PoCeFok9JiIq"
      },
      "source": [
        "$$p(y=c|x,W) = \\frac{\\exp(w_c^Tx)}{\\sum_{c'=1}^{C}\\exp(w_{c'}^Tx)}    $$\n"
      ]
    },
    {
      "cell_type": "code",
      "metadata": {
        "id": "wbNaYvvZJiIr"
      },
      "source": [
        "# Function that returns the loss and gradient for regularized softmax regression\n",
        "\n",
        "def penalised_softmax_regression(y, x, w, alpha):\n",
        "    len_x = x.shape[0]\n",
        "    likelehood = softmax(np.dot(x,w))\n",
        "    loss = (-1 / len_x) * np.sum(y * np.log(likelehood)) + (alpha/2)*np.sum(w*w)\n",
        "    grad = (-1 / len_x) * np.dot(x.T,(y - likelehood)) + alpha*w\n",
        "    return loss, grad"
      ],
      "execution_count": null,
      "outputs": []
    },
    {
      "cell_type": "code",
      "metadata": {
        "id": "N9SJxueRJiIv"
      },
      "source": [
        "# One update using Gradient Descent \n",
        "\n",
        "def learning_by_penalised_gradient(y, x, w, tau, alpha):\n",
        "    loss,grad = penalised_softmax_regression(y, x, w, alpha)\n",
        "    w = w - tau*(grad)\n",
        "    return loss, w"
      ],
      "execution_count": null,
      "outputs": []
    },
    {
      "cell_type": "code",
      "metadata": {
        "id": "LyjR6OAvJiIy"
      },
      "source": [
        "# Calculates the accuracy of the model by considering whether the predicted class is\n",
        "# is equal to the true class\n",
        "\n",
        "def accuracy(x,w,Y):\n",
        "    likelehood = softmax(np.dot(x,w))\n",
        "    predicted_class = np.argmax(likelehood,axis=1)\n",
        "    acc = sum(predicted_class == Y)/(float(len(Y)))\n",
        "    return acc"
      ],
      "execution_count": null,
      "outputs": []
    },
    {
      "cell_type": "markdown",
      "metadata": {
        "id": "B_oiDZ5ZJiI0"
      },
      "source": [
        "### Gradient Descent vs Stochastic Gradient Descent "
      ]
    },
    {
      "cell_type": "markdown",
      "metadata": {
        "id": "GNJ7ccDZJiI1"
      },
      "source": [
        "Here we look at the difference between Gradient Descent and Stochastic Gradient descent. These two techniques are directly used or are the basis for many of the optimization algorithms in machine learning. "
      ]
    },
    {
      "cell_type": "code",
      "metadata": {
        "id": "UoO7eVEHJiI1"
      },
      "source": [
        "# Gradient descent \n",
        "\n",
        "w = np.zeros([x.shape[1],3])\n",
        "max_iter = 50\n",
        "tau = 1e-1\n",
        "alpha = 0\n",
        "threshold = 1e-8\n",
        "losses = []\n",
        "\n",
        "for iter in range(max_iter):\n",
        "# get loss and update w.\n",
        "    loss, w = learning_by_penalised_gradient(y, x, w, tau, alpha)    \n",
        "    losses.append(loss)\n",
        "    if len(losses) > 1 and np.abs(losses[-1] - losses[-2]) < threshold:\n",
        "        break"
      ],
      "execution_count": null,
      "outputs": []
    },
    {
      "cell_type": "code",
      "metadata": {
        "id": "yhgG9URzJiI4",
        "outputId": "a88325e0-0890-46f1-9da6-d757a40e4f6b"
      },
      "source": [
        "# Plot of the losses\n",
        "plt.plot(losses)"
      ],
      "execution_count": null,
      "outputs": [
        {
          "output_type": "execute_result",
          "data": {
            "text/plain": [
              "[<matplotlib.lines.Line2D at 0x7fcee7282110>]"
            ]
          },
          "metadata": {
            "tags": []
          },
          "execution_count": 10
        },
        {
          "output_type": "display_data",
          "data": {
            "image/png": "[encoded data removed]",
            "text/plain": [
              "<Figure size 432x288 with 1 Axes>"
            ]
          },
          "metadata": {
            "tags": [],
            "needs_background": "light"
          }
        }
      ]
    },
    {
      "cell_type": "code",
      "metadata": {
        "id": "3LMy1hYUJiI8",
        "outputId": "38af994c-4317-4fab-c70d-ddbccdba3f56"
      },
      "source": [
        "losses[-1]"
      ],
      "execution_count": null,
      "outputs": [
        {
          "output_type": "execute_result",
          "data": {
            "text/plain": [
              "0.14655995499429791"
            ]
          },
          "metadata": {
            "tags": []
          },
          "execution_count": 11
        }
      ]
    },
    {
      "cell_type": "markdown",
      "metadata": {
        "id": "dasJTgXfJiI_"
      },
      "source": [
        "This is expected to be seen, the losses descreasing at each iteration. For convex functions this method guarantees to find the global minimum with a judicious choice of learning rate. "
      ]
    },
    {
      "cell_type": "code",
      "metadata": {
        "id": "pqchk6huJiJA"
      },
      "source": [
        "def batch_iter(y, tx, batch_size, num_batches=1, shuffle=True):\n",
        "    \"\"\"\n",
        "    Generate a minibatch iterator for a dataset.\n",
        "    Takes as input two iterables (here the output desired values 'y' and the input data 'tx')\n",
        "    Outputs an iterator which gives mini-batches of `batch_size` matching elements from `y` and `tx`.\n",
        "    Data can be randomly shuffled to avoid ordering in the original data messing with the randomness of the minibatches.\n",
        "    Example of use :\n",
        "    for minibatch_y, minibatch_tx in batch_iter(y, tx, 32):\n",
        "        <DO-SOMETHING>\n",
        "    \"\"\"\n",
        "    data_size = len(y)\n",
        "\n",
        "    if shuffle:\n",
        "        shuffle_indices = np.random.permutation(np.arange(data_size))\n",
        "        shuffled_y = y[shuffle_indices]\n",
        "        shuffled_tx = tx[shuffle_indices]\n",
        "    else:\n",
        "        shuffled_y = y\n",
        "        shuffled_tx = tx\n",
        "    for batch_num in range(num_batches):\n",
        "        start_index = batch_num * batch_size\n",
        "        end_index = min((batch_num + 1) * batch_size, data_size)\n",
        "        if start_index != end_index:\n",
        "            yield shuffled_y[start_index:end_index], shuffled_tx[start_index:end_index]"
      ],
      "execution_count": null,
      "outputs": []
    },
    {
      "cell_type": "markdown",
      "metadata": {
        "id": "kEh7MfQWJiJE"
      },
      "source": [
        "Stochastic Gradient Descent works similarly to normal Gradient Descent however instead of the entire data set being used to update the weights we use a batch randomly selected from the sample that approximates the true gradient. It is much faster however convergence to the minimum is not gauranteed but just likely under some conditions. It is just the expectation that it will converge to the true value. "
      ]
    },
    {
      "cell_type": "code",
      "metadata": {
        "id": "XXsNqhPdJiJG"
      },
      "source": [
        "def stochastic_gradient_descent(\n",
        "        y, tx, initial_w, batch_size, max_iters, gamma):\n",
        "    \"\"\"Stochastic gradient descent.\"\"\"\n",
        "    # Define parameters to store w and loss\n",
        "    ws = [initial_w]\n",
        "    losses = []\n",
        "    w = initial_w\n",
        "    \n",
        "    for n_iter in range(max_iters):\n",
        "        for y_batch, tx_batch in batch_iter(y, tx, batch_size=batch_size, num_batches=1):\n",
        "            # compute a stochastic gradient and loss\n",
        "            _,grad = penalised_softmax_regression(y_batch, tx_batch, w, 0)\n",
        "            # update w through the stochastic gradient update\n",
        "            w = w - gamma * grad\n",
        "            # calculate loss\n",
        "            loss,_ = penalised_softmax_regression(y, x, w, 0)\n",
        "            # store w and loss\n",
        "            ws.append(w)\n",
        "            losses.append(loss)\n",
        "\n",
        "    return losses, ws"
      ],
      "execution_count": null,
      "outputs": []
    },
    {
      "cell_type": "code",
      "metadata": {
        "id": "5U8pZr1rJiJJ"
      },
      "source": [
        "# SGD\n",
        "max_iters = 50\n",
        "gamma = 1e-1\n",
        "batch_size = 15\n",
        "\n",
        "# Initialization\n",
        "w_initial = np.zeros((x.shape[1], 3))\n",
        "\n",
        "# Start SGD.\n",
        "sgd_losses, sgd_ws = stochastic_gradient_descent(\n",
        "    y, x, w_initial, batch_size, max_iters, gamma)"
      ],
      "execution_count": null,
      "outputs": []
    },
    {
      "cell_type": "code",
      "metadata": {
        "id": "1Du8bSpzJiJM",
        "outputId": "1a69ccd1-2a92-440e-b730-4f1511e9e0dc"
      },
      "source": [
        "# Plot the losses against the iterations \n",
        "plt.plot(sgd_losses)"
      ],
      "execution_count": null,
      "outputs": [
        {
          "output_type": "execute_result",
          "data": {
            "text/plain": [
              "[<matplotlib.lines.Line2D at 0x7fcee7200b10>]"
            ]
          },
          "metadata": {
            "tags": []
          },
          "execution_count": 15
        },
        {
          "output_type": "display_data",
          "data": {
            "image/png": "[encoded data removed]",
            "text/plain": [
              "<Figure size 432x288 with 1 Axes>"
            ]
          },
          "metadata": {
            "tags": [],
            "needs_background": "light"
          }
        }
      ]
    },
    {
      "cell_type": "code",
      "metadata": {
        "id": "S5uCrw9CJiJP",
        "outputId": "f875ba19-e6a0-4d72-97b0-90a5098b1708"
      },
      "source": [
        "sgd_losses[-1]"
      ],
      "execution_count": null,
      "outputs": [
        {
          "output_type": "execute_result",
          "data": {
            "text/plain": [
              "0.1464437683963515"
            ]
          },
          "metadata": {
            "tags": []
          },
          "execution_count": 16
        }
      ]
    },
    {
      "cell_type": "markdown",
      "metadata": {
        "id": "INLIiljaJiJS"
      },
      "source": [
        "This plot is more surprising, monotonic decrease of the loss function is not gauranteed. Maybe in this example the function is well behaved but this is not usually what would be expected and on larger, more complicated datasets like MNIST what would be the typical convergence is observed."
      ]
    },
    {
      "cell_type": "code",
      "metadata": {
        "id": "7nnoyawYJiJT"
      },
      "source": [
        "# Split data with extra one hot coded item\n",
        "\n",
        "def split_data(x, y, Y, ratio, myseed=1):\n",
        "    \"\"\"split the dataset based on the split ratio.\"\"\"\n",
        "    # set seed\n",
        "    np.random.seed(myseed)\n",
        "    # generate random indices\n",
        "    num_row = len(y)\n",
        "    indices = np.random.permutation(num_row)\n",
        "    index_split = int(np.floor(ratio * num_row))\n",
        "    index_tr = indices[: index_split]\n",
        "    index_te = indices[index_split:]\n",
        "    # create split\n",
        "    x_tr = x[index_tr]\n",
        "    x_te = x[index_te]\n",
        "    y_tr = y[index_tr]\n",
        "    y_te = y[index_te]\n",
        "    Y_tr = Y[index_tr]\n",
        "    Y_te = Y[index_te]\n",
        "    return x_tr, x_te, y_tr, y_te, Y_tr, Y_te"
      ],
      "execution_count": null,
      "outputs": []
    },
    {
      "cell_type": "code",
      "metadata": {
        "id": "hfT0Tm2HJiJV"
      },
      "source": [
        "# Gradient descent with out of sample sampling \n",
        "\n",
        "x_tr, x_te, y_tr, y_te, Y_tr, Y_te = split_data(x, y, Y, 0.8, myseed=9)\n",
        "w = np.zeros([x_tr.shape[1],3])\n",
        "max_iter = 50\n",
        "tau = 1e-1\n",
        "alpha = 0\n",
        "threshold = 1e-8\n",
        "losses = []\n",
        "   \n",
        "for iter in range(max_iter):\n",
        "# get loss and update w.\n",
        "    loss, w = learning_by_penalised_gradient(y_tr, x_tr, w, tau, alpha)    \n",
        "    losses.append(loss)\n",
        "    if len(losses) > 1 and np.abs(losses[-1] - losses[-2]) < threshold:\n",
        "        break"
      ],
      "execution_count": null,
      "outputs": []
    },
    {
      "cell_type": "code",
      "metadata": {
        "id": "SV8Mxe1FJiJY",
        "outputId": "2401ee61-0987-41d3-94d9-c8ff43a00edd"
      },
      "source": [
        "# Accuracy of the classifier (test)\n",
        "training_accuracy = accuracy(x_tr,w,Y_tr)\n",
        "print('training accuracy =', training_accuracy)"
      ],
      "execution_count": null,
      "outputs": [
        {
          "output_type": "stream",
          "text": [
            "training accuracy = 0.9859154929577465\n"
          ],
          "name": "stdout"
        }
      ]
    },
    {
      "cell_type": "code",
      "metadata": {
        "id": "7BBqFDxnJiJa",
        "outputId": "5dc5cd5e-b6f2-4bfe-b07e-1c7ac948ccc3"
      },
      "source": [
        "# Accuracy of the classifier (train)\n",
        "testing_accuracy = accuracy(x_te,w,Y_te)\n",
        "print('testing accuracy =',testing_accuracy)"
      ],
      "execution_count": null,
      "outputs": [
        {
          "output_type": "stream",
          "text": [
            "testing accuracy = 1.0\n"
          ],
          "name": "stdout"
        }
      ]
    },
    {
      "cell_type": "markdown",
      "metadata": {
        "id": "0ARnPkztJiJd"
      },
      "source": [
        "### Import the MNIST data and extract the features"
      ]
    },
    {
      "cell_type": "markdown",
      "metadata": {
        "id": "jYj7-oiCJiJd"
      },
      "source": [
        "MNIST is an image classification problem this is significantly different from the previous two. Wine required us to just standardise continuous  variables, in titanic the use of the dummy variables was required but still trivial to implement. Extracting the features  from an image is more complex. The image is 28x28 so there are 784 features already significantly more than the previous 2. "
      ]
    },
    {
      "cell_type": "code",
      "metadata": {
        "id": "Oh7cb4ZsJiJf"
      },
      "source": [
        "def load_mnist(path, kind = 'train'):\n",
        "    \n",
        "    import os\n",
        "    import gzip\n",
        "    import numpy as np\n",
        "\n",
        "    \"\"\"Load MNIST data from `path`\"\"\"\n",
        "    labels_path = os.path.join(path,\n",
        "                               '%s-labels-idx1-ubyte.gz'\n",
        "                               % kind)\n",
        "    images_path = os.path.join(path,\n",
        "                               '%s-images-idx3-ubyte.gz'\n",
        "                               % kind)\n",
        "\n",
        "    with gzip.open(labels_path, 'rb') as lbpath:\n",
        "        labels = np.frombuffer(lbpath.read(), dtype=np.uint8,\n",
        "                               offset=8)\n",
        "\n",
        "    with gzip.open(images_path, 'rb') as imgpath:\n",
        "        images = np.frombuffer(imgpath.read(), dtype=np.uint8,\n",
        "                               offset=16).reshape(len(labels), 784)\n",
        "\n",
        "    return images, labels\n",
        "\n",
        "\n",
        "\n",
        "images_tr, labels_tr = load_mnist('MNIST/')\n",
        "images_tst, labels_tst = load_mnist('MNIST/', 't10k')\n",
        "\n",
        "\n",
        "def indices_to_one_hot(data, nb_classes):\n",
        "    \"\"\"Convert an iterable of indices to one-hot encoded labels.\"\"\"\n",
        "    targets = np.array(data).reshape(-1)\n",
        "    return np.eye(nb_classes)[targets]\n",
        "\n",
        "\n",
        "\n",
        "y = indices_to_one_hot(labels_tr,10 )\n",
        "x = images_tr\n",
        "Y = labels_tr"
      ],
      "execution_count": null,
      "outputs": []
    },
    {
      "cell_type": "code",
      "metadata": {
        "id": "jZe-_3r-JiJj"
      },
      "source": [
        "# Gradient descent \n",
        "\n",
        "w = np.zeros([x.shape[1],10])\n",
        "max_iter = 50\n",
        "tau = 1e-5\n",
        "alpha = 0\n",
        "threshold = 1e-8\n",
        "losses = []\n",
        "\n",
        "for iter in range(max_iter):\n",
        "# get loss and update w.\n",
        "    loss, w = learning_by_penalised_gradient(y, x, w, tau, alpha)    \n",
        "    losses.append(loss)\n",
        "    if len(losses) > 1 and np.abs(losses[-1] - losses[-2]) < threshold:\n",
        "        break"
      ],
      "execution_count": null,
      "outputs": []
    },
    {
      "cell_type": "code",
      "metadata": {
        "id": "k7cqAiJ_JiJm",
        "outputId": "52d9c272-b197-40e1-caa1-d5c0178659f4"
      },
      "source": [
        "plt.plot(losses)"
      ],
      "execution_count": null,
      "outputs": [
        {
          "output_type": "execute_result",
          "data": {
            "text/plain": [
              "[<matplotlib.lines.Line2D at 0x7fcee7183b10>]"
            ]
          },
          "metadata": {
            "tags": []
          },
          "execution_count": 23
        },
        {
          "output_type": "display_data",
          "data": {
            "image/png": "[encoded data removed]",
            "text/plain": [
              "<Figure size 432x288 with 1 Axes>"
            ]
          },
          "metadata": {
            "tags": [],
            "needs_background": "light"
          }
        }
      ]
    },
    {
      "cell_type": "markdown",
      "metadata": {
        "id": "nNbzvYcpJiJo"
      },
      "source": [
        "Here we can see something interesting even for normal gradient descent between 0 and 10 we can see the minimization of our loss function is not smooth whilst always decreasing."
      ]
    },
    {
      "cell_type": "code",
      "metadata": {
        "id": "A4126TLjJiJp",
        "outputId": "8c51a428-f41f-4ab9-aa98-afe4c7b0a58b"
      },
      "source": [
        "# Accuracy found from the weights from gradient descent \n",
        "accuracy(images_tst,w,labels_tst)"
      ],
      "execution_count": null,
      "outputs": [
        {
          "output_type": "execute_result",
          "data": {
            "text/plain": [
              "0.8929"
            ]
          },
          "metadata": {
            "tags": []
          },
          "execution_count": 24
        }
      ]
    },
    {
      "cell_type": "code",
      "metadata": {
        "id": "AOl-OurwJiJr"
      },
      "source": [
        "max_iters = 50\n",
        "gamma = 1e-5\n",
        "batch_size = 15\n",
        "\n",
        "# Initialization\n",
        "w_initial = np.zeros((x.shape[1], 10))\n",
        "\n",
        "# Start SGD.\n",
        "\n",
        "sgd_losses, sgd_ws = stochastic_gradient_descent(\n",
        "    y, x, w_initial, batch_size, max_iters, gamma)\n"
      ],
      "execution_count": null,
      "outputs": []
    },
    {
      "cell_type": "code",
      "metadata": {
        "id": "QT5B9Y6cJiJu",
        "outputId": "dfc6d82b-97cc-4984-f4db-af8c05593471"
      },
      "source": [
        "plt.plot(sgd_losses)"
      ],
      "execution_count": null,
      "outputs": [
        {
          "output_type": "execute_result",
          "data": {
            "text/plain": [
              "[<matplotlib.lines.Line2D at 0x7fcee3ae1f10>]"
            ]
          },
          "metadata": {
            "tags": []
          },
          "execution_count": 33
        },
        {
          "output_type": "display_data",
          "data": {
            "image/png": "[encoded data removed]",
            "text/plain": [
              "<Figure size 432x288 with 1 Axes>"
            ]
          },
          "metadata": {
            "tags": [],
            "needs_background": "light"
          }
        }
      ]
    },
    {
      "cell_type": "markdown",
      "metadata": {
        "id": "xBC6cdCJJiJ0"
      },
      "source": [
        "This is the typical way SGD as is it known in the literature converges. "
      ]
    },
    {
      "cell_type": "code",
      "metadata": {
        "id": "BRu6zgNiJiJ1",
        "outputId": "334a9653-d010-4068-cb1d-107401dfdb0e"
      },
      "source": [
        "# The accuracy calculated from the weights found from stochastic gradient descent \n",
        "#np.argmin(sgd_losses)\n",
        "accuracy(images_tst,sgd_ws[-1],labels_tst)"
      ],
      "execution_count": null,
      "outputs": [
        {
          "output_type": "execute_result",
          "data": {
            "text/plain": [
              "0.8108"
            ]
          },
          "metadata": {
            "tags": []
          },
          "execution_count": 27
        }
      ]
    },
    {
      "cell_type": "code",
      "metadata": {
        "id": "rF_-KeqEJiJ5",
        "outputId": "69206ea4-1bc8-40cd-afa4-47df693bc5a1"
      },
      "source": [
        "import scipy\n",
        "plt.imshow(scipy.reshape(w[:,3],[28,28]))\n",
        "\n",
        "# Take the corresponding column from the weight array \n",
        "# Here we can visualise our weights to see what they look like using the scipy package\n"
      ],
      "execution_count": null,
      "outputs": [
        {
          "output_type": "execute_result",
          "data": {
            "text/plain": [
              "<matplotlib.image.AxesImage at 0x7fcee3bd5090>"
            ]
          },
          "metadata": {
            "tags": []
          },
          "execution_count": 30
        },
        {
          "output_type": "display_data",
          "data": {
            "image/png": "[encoded data removed]",
            "text/plain": [
              "<Figure size 432x288 with 1 Axes>"
            ]
          },
          "metadata": {
            "tags": [],
            "needs_background": "light"
          }
        }
      ]
    },
    {
      "cell_type": "code",
      "metadata": {
        "id": "dZLO5ECXJiJ8",
        "outputId": "6beb9fef-adc2-4e69-9881-372e91ea4681"
      },
      "source": [
        "s_w = sgd_ws[-1]\n",
        "plt.imshow(scipy.reshape(s_w[:,3],[28,28]))"
      ],
      "execution_count": null,
      "outputs": [
        {
          "output_type": "execute_result",
          "data": {
            "text/plain": [
              "<matplotlib.image.AxesImage at 0x7fcee3b2e850>"
            ]
          },
          "metadata": {
            "tags": []
          },
          "execution_count": 31
        },
        {
          "output_type": "display_data",
          "data": {
            "image/png": "[encoded data removed]",
            "text/plain": [
              "<Figure size 432x288 with 1 Axes>"
            ]
          },
          "metadata": {
            "tags": [],
            "needs_background": "light"
          }
        }
      ]
    },
    {
      "cell_type": "markdown",
      "metadata": {
        "id": "mHvECqi-JiJ_"
      },
      "source": [
        "Whilst the results here do not make for compelling use of SGD when data sets are large it and its variants are the only viable and computationally  tractable methods for optimization. Most of the optimization techniques are based of SGD and variants of it such as adam, adagrad and rmsprop. These methods sacrifice some accuracy for speed which is more important in many cases. \n",
        "\n",
        "Another matter concerns the convexity of the loss function, generally in optimization the function is not convex and this method depending on its starting point can get stuck in local minima also the differentiability  of the loss function comes into question (even when they can be found they can be expensive to compute). Stochastic gradient descent and shot gun restart work well in this cases and are very efficient  (working with approximation of the gradients). Many of the algorithms can determine when they are \"stuck\" (no improvement  or repeating values) and reset the starting position or the initial gradient in this case. \n",
        "\n",
        "A faster converging method that could have been used is newton method however it has a flaw in that its evaluation requires the inversion of hessian matrix that is large and this is a computationally  expensive process. Inverting matrices even when possible is not advisable, some numerical method with some regularization should be used in this case. \n",
        "\n",
        "To conclude this shows how optimization algorithms work for dummy problems that are not entirely indicative of real world performance. However an insight can be gained as to how they work and which are most suitable for a given situation. "
      ]
    },
    {
      "cell_type": "markdown",
      "metadata": {
        "id": "apKRI9boJiJ_"
      },
      "source": [
        "Juliani, A. (2016). Simple Softmax Regression in Python — Tutorial. [online] Medium. Available at: https://medium.com/@awjuliani/simple-softmax-in-python-tutorial-d6b4c4ed5c16 [Accessed 7 Dec. 2019]."
      ]
    },
    {
      "cell_type": "markdown",
      "metadata": {
        "id": "gz916UBnJiKA"
      },
      "source": [
        "Czepiel, S. (2019). Maximum Likelehood Estimation of Logistic Regression models: Theory and Implementation. [online] Czep.net. Available at: https://czep.net/stat/mlelr.pdf [Accessed 7 Dec. 2019]."
      ]
    }
  ]
}