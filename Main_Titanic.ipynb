{
  "nbformat": 4,
  "nbformat_minor": 0,
  "metadata": {
    "kernelspec": {
      "display_name": "Python 3",
      "language": "python",
      "name": "python3"
    },
    "language_info": {
      "codemirror_mode": {
        "name": "ipython",
        "version": 3
      },
      "file_extension": ".py",
      "mimetype": "text/x-python",
      "name": "python",
      "nbconvert_exporter": "python",
      "pygments_lexer": "ipython3",
      "version": "3.6.2"
    },
    "colab": {
      "name": "Main_Titanic.ipynb",
      "provenance": []
    }
  },
  "cells": [
    {
      "cell_type": "markdown",
      "metadata": {
        "id": "2ruDf3I7I-cs"
      },
      "source": [
        "# Titanic Project -- Catherine Yijie(SHEN)\n",
        "\n",
        "\n"
      ]
    },
    {
      "cell_type": "markdown",
      "metadata": {
        "id": "tIH21v1UI-ct"
      },
      "source": [
        "# 0. Importing libraries & useful starting lines\n"
      ]
    },
    {
      "cell_type": "markdown",
      "metadata": {
        "id": "9kPUGjnvI-cv"
      },
      "source": [
        "Begin by importing libraries.\n",
        "* **Numpy**: This gives us the benefit of numpy arrays, this allows us the use of vectorised operations, this is faster than using loops. It is also the base for the other packages\n",
        "* **Matplotlib**: for plotting and visualisations\n",
        "* **Pandas** : This library is useful in machine learning, it enables the easy importation and manipulation of data; the pandas's dataframe is very easy and useful to work with, it also works well with other libraries becuase it gives the data some standard structure\n",
        "* **Seaborn**: This package is for plotting and statistics\n",
        "* **Math**: This package allows the use of some basic math functions\n",
        "* **Linalg**: The functions from linalg are useful since vectorised operations are used frequently "
      ]
    },
    {
      "cell_type": "code",
      "metadata": {
        "id": "ZsJR2cepI-cw"
      },
      "source": [
        "# Useful starting lines\n",
        "%matplotlib inline\n",
        "import numpy as np\n",
        "import matplotlib.pyplot as plt\n",
        "import pandas as pd\n",
        "import seaborn as sns\n",
        "import math \n",
        "from numpy import linalg as la\n",
        "%load_ext autoreload\n",
        "%autoreload 2"
      ],
      "execution_count": null,
      "outputs": []
    },
    {
      "cell_type": "markdown",
      "metadata": {
        "id": "_d15wGxjI-c1"
      },
      "source": [
        "# 1. Midterm - Titanic project"
      ]
    },
    {
      "cell_type": "markdown",
      "metadata": {
        "id": "772vlGA9I-c2"
      },
      "source": [
        "This project is a **binary classification problem**, where we have to **predict the likelihood** of passengers  surviving the Titanic accident based on some passenger attributes such as: **Name** , **Gender** , **Age** , **Number of siblings** , **Number of parents/children aboard** , **Class type** , **Fare**.\n",
        "\n",
        "Solving this problem, allows us to answer questions like: *What kind of people were more likely to survive Titanic?* ; *Did older people had better chance of surviving?* etc.\n"
      ]
    },
    {
      "cell_type": "markdown",
      "metadata": {
        "id": "GsCPADuoI-c3"
      },
      "source": [
        "## 1.1 Import the data \n"
      ]
    },
    {
      "cell_type": "markdown",
      "metadata": {
        "id": "OhJm5uwrI-c3"
      },
      "source": [
        "The data was imported from a csv using the pandas library. The datatype was **pandas dataframe**, with dimension of **887 rows** (passengers) and **8 columns  (attributes)** including the headings."
      ]
    },
    {
      "cell_type": "code",
      "metadata": {
        "id": "6JYijyo0I-c4",
        "outputId": "8c58b0ef-6e28-4fa9-be0e-ecb0a2287b38"
      },
      "source": [
        "# Import the data using pandas library \n",
        "training_data = pd.read_csv('titanic.csv')\n",
        "type(training_data)"
      ],
      "execution_count": null,
      "outputs": [
        {
          "output_type": "execute_result",
          "data": {
            "text/plain": [
              "pandas.core.frame.DataFrame"
            ]
          },
          "metadata": {
            "tags": []
          },
          "execution_count": 2
        }
      ]
    },
    {
      "cell_type": "code",
      "metadata": {
        "id": "G5h-fklAI-c9",
        "outputId": "0257c172-88d4-416c-cb88-6d76eff7dbcf"
      },
      "source": [
        "# Check the shape of the training data \n",
        "training_data.shape"
      ],
      "execution_count": null,
      "outputs": [
        {
          "output_type": "execute_result",
          "data": {
            "text/plain": [
              "(887, 8)"
            ]
          },
          "metadata": {
            "tags": []
          },
          "execution_count": 3
        }
      ]
    },
    {
      "cell_type": "code",
      "metadata": {
        "id": "TQFK78w5I-dA",
        "outputId": "5cc6c95c-aadc-4c7f-f4c5-0bbc77336a55"
      },
      "source": [
        "# Check the columns of the data\n",
        "training_data.columns "
      ],
      "execution_count": null,
      "outputs": [
        {
          "output_type": "execute_result",
          "data": {
            "text/plain": [
              "Index(['Survived', 'Pclass', 'Name', 'Sex', 'Age', 'Siblings/Spouses Aboard',\n",
              "       'Parents/Children Aboard', 'Fare'],\n",
              "      dtype='object')"
            ]
          },
          "metadata": {
            "tags": []
          },
          "execution_count": 4
        }
      ]
    },
    {
      "cell_type": "code",
      "metadata": {
        "id": "nb9YotaXI-dE",
        "outputId": "d6f7f799-6c06-4726-a05c-6989ba1eed74"
      },
      "source": [
        "# See first 10 rows of the data and headings \n",
        "training_data.head(10)"
      ],
      "execution_count": null,
      "outputs": [
        {
          "output_type": "execute_result",
          "data": {
            "text/html": [
              "<div>\n",
              "<style>\n",
              "    .dataframe thead tr:only-child th {\n",
              "        text-align: right;\n",
              "    }\n",
              "\n",
              "    .dataframe thead th {\n",
              "        text-align: left;\n",
              "    }\n",
              "\n",
              "    .dataframe tbody tr th {\n",
              "        vertical-align: top;\n",
              "    }\n",
              "</style>\n",
              "<table border=\"1\" class=\"dataframe\">\n",
              "  <thead>\n",
              "    <tr style=\"text-align: right;\">\n",
              "      <th></th>\n",
              "      <th>Survived</th>\n",
              "      <th>Pclass</th>\n",
              "      <th>Name</th>\n",
              "      <th>Sex</th>\n",
              "      <th>Age</th>\n",
              "      <th>Siblings/Spouses Aboard</th>\n",
              "      <th>Parents/Children Aboard</th>\n",
              "      <th>Fare</th>\n",
              "    </tr>\n",
              "  </thead>\n",
              "  <tbody>\n",
              "    <tr>\n",
              "      <th>0</th>\n",
              "      <td>0</td>\n",
              "      <td>3</td>\n",
              "      <td>Mr. Owen Harris Braund</td>\n",
              "      <td>male</td>\n",
              "      <td>22.0</td>\n",
              "      <td>1</td>\n",
              "      <td>0</td>\n",
              "      <td>7.2500</td>\n",
              "    </tr>\n",
              "    <tr>\n",
              "      <th>1</th>\n",
              "      <td>1</td>\n",
              "      <td>1</td>\n",
              "      <td>Mrs. John Bradley (Florence Briggs Thayer) Cum...</td>\n",
              "      <td>female</td>\n",
              "      <td>38.0</td>\n",
              "      <td>1</td>\n",
              "      <td>0</td>\n",
              "      <td>71.2833</td>\n",
              "    </tr>\n",
              "    <tr>\n",
              "      <th>2</th>\n",
              "      <td>1</td>\n",
              "      <td>3</td>\n",
              "      <td>Miss. Laina Heikkinen</td>\n",
              "      <td>female</td>\n",
              "      <td>26.0</td>\n",
              "      <td>0</td>\n",
              "      <td>0</td>\n",
              "      <td>7.9250</td>\n",
              "    </tr>\n",
              "    <tr>\n",
              "      <th>3</th>\n",
              "      <td>1</td>\n",
              "      <td>1</td>\n",
              "      <td>Mrs. Jacques Heath (Lily May Peel) Futrelle</td>\n",
              "      <td>female</td>\n",
              "      <td>35.0</td>\n",
              "      <td>1</td>\n",
              "      <td>0</td>\n",
              "      <td>53.1000</td>\n",
              "    </tr>\n",
              "    <tr>\n",
              "      <th>4</th>\n",
              "      <td>0</td>\n",
              "      <td>3</td>\n",
              "      <td>Mr. William Henry Allen</td>\n",
              "      <td>male</td>\n",
              "      <td>35.0</td>\n",
              "      <td>0</td>\n",
              "      <td>0</td>\n",
              "      <td>8.0500</td>\n",
              "    </tr>\n",
              "    <tr>\n",
              "      <th>5</th>\n",
              "      <td>0</td>\n",
              "      <td>3</td>\n",
              "      <td>Mr. James Moran</td>\n",
              "      <td>male</td>\n",
              "      <td>27.0</td>\n",
              "      <td>0</td>\n",
              "      <td>0</td>\n",
              "      <td>8.4583</td>\n",
              "    </tr>\n",
              "    <tr>\n",
              "      <th>6</th>\n",
              "      <td>0</td>\n",
              "      <td>1</td>\n",
              "      <td>Mr. Timothy J McCarthy</td>\n",
              "      <td>male</td>\n",
              "      <td>54.0</td>\n",
              "      <td>0</td>\n",
              "      <td>0</td>\n",
              "      <td>51.8625</td>\n",
              "    </tr>\n",
              "    <tr>\n",
              "      <th>7</th>\n",
              "      <td>0</td>\n",
              "      <td>3</td>\n",
              "      <td>Master. Gosta Leonard Palsson</td>\n",
              "      <td>male</td>\n",
              "      <td>2.0</td>\n",
              "      <td>3</td>\n",
              "      <td>1</td>\n",
              "      <td>21.0750</td>\n",
              "    </tr>\n",
              "    <tr>\n",
              "      <th>8</th>\n",
              "      <td>1</td>\n",
              "      <td>3</td>\n",
              "      <td>Mrs. Oscar W (Elisabeth Vilhelmina Berg) Johnson</td>\n",
              "      <td>female</td>\n",
              "      <td>27.0</td>\n",
              "      <td>0</td>\n",
              "      <td>2</td>\n",
              "      <td>11.1333</td>\n",
              "    </tr>\n",
              "    <tr>\n",
              "      <th>9</th>\n",
              "      <td>1</td>\n",
              "      <td>2</td>\n",
              "      <td>Mrs. Nicholas (Adele Achem) Nasser</td>\n",
              "      <td>female</td>\n",
              "      <td>14.0</td>\n",
              "      <td>1</td>\n",
              "      <td>0</td>\n",
              "      <td>30.0708</td>\n",
              "    </tr>\n",
              "  </tbody>\n",
              "</table>\n",
              "</div>"
            ],
            "text/plain": [
              "   Survived  Pclass                                               Name  \\\n",
              "0         0       3                             Mr. Owen Harris Braund   \n",
              "1         1       1  Mrs. John Bradley (Florence Briggs Thayer) Cum...   \n",
              "2         1       3                              Miss. Laina Heikkinen   \n",
              "3         1       1        Mrs. Jacques Heath (Lily May Peel) Futrelle   \n",
              "4         0       3                            Mr. William Henry Allen   \n",
              "5         0       3                                    Mr. James Moran   \n",
              "6         0       1                             Mr. Timothy J McCarthy   \n",
              "7         0       3                      Master. Gosta Leonard Palsson   \n",
              "8         1       3   Mrs. Oscar W (Elisabeth Vilhelmina Berg) Johnson   \n",
              "9         1       2                 Mrs. Nicholas (Adele Achem) Nasser   \n",
              "\n",
              "      Sex   Age  Siblings/Spouses Aboard  Parents/Children Aboard     Fare  \n",
              "0    male  22.0                        1                        0   7.2500  \n",
              "1  female  38.0                        1                        0  71.2833  \n",
              "2  female  26.0                        0                        0   7.9250  \n",
              "3  female  35.0                        1                        0  53.1000  \n",
              "4    male  35.0                        0                        0   8.0500  \n",
              "5    male  27.0                        0                        0   8.4583  \n",
              "6    male  54.0                        0                        0  51.8625  \n",
              "7    male   2.0                        3                        1  21.0750  \n",
              "8  female  27.0                        0                        2  11.1333  \n",
              "9  female  14.0                        1                        0  30.0708  "
            ]
          },
          "metadata": {
            "tags": []
          },
          "execution_count": 5
        }
      ]
    },
    {
      "cell_type": "markdown",
      "metadata": {
        "id": "cTSaFpRDI-dI"
      },
      "source": [
        "Looking at the first 10 passenger , a general idea of the data can be realised, what they are, and what values they can take, it will be analysed in more detail in the next section:\n",
        "* **Survived** : **Binary label**, shows if the passenger has survived, it can take two values 0 and 1 (where 0 = die, 1=survived)\n",
        "* **Pclass** : Class the passanger travelled, where the values can be 1, 2, or 3. The  number means higher class.\n",
        "* **Name** : Passanger name (string)\n",
        "* **Sex** : Passanger Gender  (string)\n",
        "* **Age** : PassangerAge in years (continuous values) \n",
        "* **Siblings/Spouses Aboard** : Number of siblings or spouses aboard of the passenger (discrete  values)\n",
        "* **Parents/Children Aboard** : Number of parents or children aboard of the passenger (discrete  values)\n",
        "* **Fare** : Fare of the ticket (continuous values)"
      ]
    },
    {
      "cell_type": "markdown",
      "metadata": {
        "id": "aWTfMIDqI-dJ"
      },
      "source": [
        "##  1.2 Data Validation"
      ]
    },
    {
      "cell_type": "markdown",
      "metadata": {
        "id": "4VrY8CN1I-dL"
      },
      "source": [
        "In machine learning much time is spent for the preparation of the data. Before we can use our model, the data must be formatted correctly. \n",
        "\n",
        "A prerequisite of this is to validate the data. This process  involves, checking for **missing values**, checking if all values are in he right data type, checking for duplicates and checking for **erroneous values** (**Age** includes a negative number)."
      ]
    },
    {
      "cell_type": "code",
      "metadata": {
        "id": "xN70zT4lI-dM",
        "outputId": "25c8f368-79bc-4f9a-a804-f322f81c5c27"
      },
      "source": [
        "# Check the data for missing values \n",
        "training_data.info()"
      ],
      "execution_count": null,
      "outputs": [
        {
          "output_type": "stream",
          "text": [
            "<class 'pandas.core.frame.DataFrame'>\n",
            "RangeIndex: 887 entries, 0 to 886\n",
            "Data columns (total 8 columns):\n",
            "Survived                   887 non-null int64\n",
            "Pclass                     887 non-null int64\n",
            "Name                       887 non-null object\n",
            "Sex                        887 non-null object\n",
            "Age                        887 non-null float64\n",
            "Siblings/Spouses Aboard    887 non-null int64\n",
            "Parents/Children Aboard    887 non-null int64\n",
            "Fare                       887 non-null float64\n",
            "dtypes: float64(2), int64(4), object(2)\n",
            "memory usage: 48.5+ KB\n"
          ],
          "name": "stdout"
        }
      ]
    },
    {
      "cell_type": "code",
      "metadata": {
        "id": "1sA-8sXZI-dR",
        "outputId": "9d8360f7-e880-4a60-ebb5-4715787c77a2"
      },
      "source": [
        "# Find the number of missing values  \n",
        "training_data.isnull().sum()"
      ],
      "execution_count": null,
      "outputs": [
        {
          "output_type": "execute_result",
          "data": {
            "text/plain": [
              "Survived                   0\n",
              "Pclass                     0\n",
              "Name                       0\n",
              "Sex                        0\n",
              "Age                        0\n",
              "Siblings/Spouses Aboard    0\n",
              "Parents/Children Aboard    0\n",
              "Fare                       0\n",
              "dtype: int64"
            ]
          },
          "metadata": {
            "tags": []
          },
          "execution_count": 7
        }
      ]
    },
    {
      "cell_type": "markdown",
      "metadata": {
        "id": "BIhK9FgeI-dV"
      },
      "source": [
        "The dataset contains no missing values, if they are present there are different approaches to deal with this:\n",
        "\n",
        "* **Drop the missing values** with *training_data.dropna()*. This only suggested if the number of missing values is small.\n",
        "\n",
        "* Alternately **replace the missing values** with the mean using *.mean()* and *.fillna* functions "
      ]
    },
    {
      "cell_type": "code",
      "metadata": {
        "id": "R6z1aoHaI-dW",
        "outputId": "03a78ecc-284b-4070-ec19-0ba571d68c89"
      },
      "source": [
        "# If we have missing values we can drop them \n",
        "# This only suggested if the number of missing values is small\n",
        "\n",
        "training_data.dropna().head()\n",
        "\n",
        "# Also we can replace them with the mean using the mean\n",
        "# We simply take the column heading and .mean()\n",
        "# We can use .fillna with the mean values when true "
      ],
      "execution_count": null,
      "outputs": [
        {
          "output_type": "execute_result",
          "data": {
            "text/html": [
              "<div>\n",
              "<style>\n",
              "    .dataframe thead tr:only-child th {\n",
              "        text-align: right;\n",
              "    }\n",
              "\n",
              "    .dataframe thead th {\n",
              "        text-align: left;\n",
              "    }\n",
              "\n",
              "    .dataframe tbody tr th {\n",
              "        vertical-align: top;\n",
              "    }\n",
              "</style>\n",
              "<table border=\"1\" class=\"dataframe\">\n",
              "  <thead>\n",
              "    <tr style=\"text-align: right;\">\n",
              "      <th></th>\n",
              "      <th>Survived</th>\n",
              "      <th>Pclass</th>\n",
              "      <th>Name</th>\n",
              "      <th>Sex</th>\n",
              "      <th>Age</th>\n",
              "      <th>Siblings/Spouses Aboard</th>\n",
              "      <th>Parents/Children Aboard</th>\n",
              "      <th>Fare</th>\n",
              "    </tr>\n",
              "  </thead>\n",
              "  <tbody>\n",
              "    <tr>\n",
              "      <th>0</th>\n",
              "      <td>0</td>\n",
              "      <td>3</td>\n",
              "      <td>Mr. Owen Harris Braund</td>\n",
              "      <td>male</td>\n",
              "      <td>22.0</td>\n",
              "      <td>1</td>\n",
              "      <td>0</td>\n",
              "      <td>7.2500</td>\n",
              "    </tr>\n",
              "    <tr>\n",
              "      <th>1</th>\n",
              "      <td>1</td>\n",
              "      <td>1</td>\n",
              "      <td>Mrs. John Bradley (Florence Briggs Thayer) Cum...</td>\n",
              "      <td>female</td>\n",
              "      <td>38.0</td>\n",
              "      <td>1</td>\n",
              "      <td>0</td>\n",
              "      <td>71.2833</td>\n",
              "    </tr>\n",
              "    <tr>\n",
              "      <th>2</th>\n",
              "      <td>1</td>\n",
              "      <td>3</td>\n",
              "      <td>Miss. Laina Heikkinen</td>\n",
              "      <td>female</td>\n",
              "      <td>26.0</td>\n",
              "      <td>0</td>\n",
              "      <td>0</td>\n",
              "      <td>7.9250</td>\n",
              "    </tr>\n",
              "    <tr>\n",
              "      <th>3</th>\n",
              "      <td>1</td>\n",
              "      <td>1</td>\n",
              "      <td>Mrs. Jacques Heath (Lily May Peel) Futrelle</td>\n",
              "      <td>female</td>\n",
              "      <td>35.0</td>\n",
              "      <td>1</td>\n",
              "      <td>0</td>\n",
              "      <td>53.1000</td>\n",
              "    </tr>\n",
              "    <tr>\n",
              "      <th>4</th>\n",
              "      <td>0</td>\n",
              "      <td>3</td>\n",
              "      <td>Mr. William Henry Allen</td>\n",
              "      <td>male</td>\n",
              "      <td>35.0</td>\n",
              "      <td>0</td>\n",
              "      <td>0</td>\n",
              "      <td>8.0500</td>\n",
              "    </tr>\n",
              "  </tbody>\n",
              "</table>\n",
              "</div>"
            ],
            "text/plain": [
              "   Survived  Pclass                                               Name  \\\n",
              "0         0       3                             Mr. Owen Harris Braund   \n",
              "1         1       1  Mrs. John Bradley (Florence Briggs Thayer) Cum...   \n",
              "2         1       3                              Miss. Laina Heikkinen   \n",
              "3         1       1        Mrs. Jacques Heath (Lily May Peel) Futrelle   \n",
              "4         0       3                            Mr. William Henry Allen   \n",
              "\n",
              "      Sex   Age  Siblings/Spouses Aboard  Parents/Children Aboard     Fare  \n",
              "0    male  22.0                        1                        0   7.2500  \n",
              "1  female  38.0                        1                        0  71.2833  \n",
              "2  female  26.0                        0                        0   7.9250  \n",
              "3  female  35.0                        1                        0  53.1000  \n",
              "4    male  35.0                        0                        0   8.0500  "
            ]
          },
          "metadata": {
            "tags": []
          },
          "execution_count": 8
        }
      ]
    },
    {
      "cell_type": "code",
      "metadata": {
        "id": "jsH20NC1I-da",
        "outputId": "1575a1ac-16e4-4352-d98c-ac7b6a3e1d63"
      },
      "source": [
        "# Find the location of the missing values\n",
        "sns.heatmap(training_data.isnull(), yticklabels = False)"
      ],
      "execution_count": null,
      "outputs": [
        {
          "output_type": "execute_result",
          "data": {
            "text/plain": [
              "<matplotlib.axes._subplots.AxesSubplot at 0xaeb8950>"
            ]
          },
          "metadata": {
            "tags": []
          },
          "execution_count": 9
        },
        {
          "output_type": "display_data",
          "data": {
            "image/png": "[encoded data removed]",
            "text/plain": [
              "<matplotlib.figure.Figure at 0xaeb8210>"
            ]
          },
          "metadata": {
            "tags": []
          }
        }
      ]
    },
    {
      "cell_type": "markdown",
      "metadata": {
        "id": "eSy4JvocI-dd"
      },
      "source": [
        "Use the *training_data.describe()* function to check for **erroneous values**, this returns the summary statistics.   Check the *min* and *max* values, check if there are no strange values (eg. as mentioned above, negative number for ages or very large values)."
      ]
    },
    {
      "cell_type": "code",
      "metadata": {
        "id": "qh4wepopI-df",
        "outputId": "52dec9a1-9e43-4c8d-cd0c-4a83bb258569"
      },
      "source": [
        "# Check if there is erroneous data\n",
        "training_data.describe()"
      ],
      "execution_count": null,
      "outputs": [
        {
          "output_type": "execute_result",
          "data": {
            "text/html": [
              "<div>\n",
              "<style>\n",
              "    .dataframe thead tr:only-child th {\n",
              "        text-align: right;\n",
              "    }\n",
              "\n",
              "    .dataframe thead th {\n",
              "        text-align: left;\n",
              "    }\n",
              "\n",
              "    .dataframe tbody tr th {\n",
              "        vertical-align: top;\n",
              "    }\n",
              "</style>\n",
              "<table border=\"1\" class=\"dataframe\">\n",
              "  <thead>\n",
              "    <tr style=\"text-align: right;\">\n",
              "      <th></th>\n",
              "      <th>Survived</th>\n",
              "      <th>Pclass</th>\n",
              "      <th>Age</th>\n",
              "      <th>Siblings/Spouses Aboard</th>\n",
              "      <th>Parents/Children Aboard</th>\n",
              "      <th>Fare</th>\n",
              "    </tr>\n",
              "  </thead>\n",
              "  <tbody>\n",
              "    <tr>\n",
              "      <th>count</th>\n",
              "      <td>887.000000</td>\n",
              "      <td>887.000000</td>\n",
              "      <td>887.000000</td>\n",
              "      <td>887.000000</td>\n",
              "      <td>887.000000</td>\n",
              "      <td>887.00000</td>\n",
              "    </tr>\n",
              "    <tr>\n",
              "      <th>mean</th>\n",
              "      <td>0.385569</td>\n",
              "      <td>2.305524</td>\n",
              "      <td>29.471443</td>\n",
              "      <td>0.525366</td>\n",
              "      <td>0.383315</td>\n",
              "      <td>32.30542</td>\n",
              "    </tr>\n",
              "    <tr>\n",
              "      <th>std</th>\n",
              "      <td>0.487004</td>\n",
              "      <td>0.836662</td>\n",
              "      <td>14.121908</td>\n",
              "      <td>1.104669</td>\n",
              "      <td>0.807466</td>\n",
              "      <td>49.78204</td>\n",
              "    </tr>\n",
              "    <tr>\n",
              "      <th>min</th>\n",
              "      <td>0.000000</td>\n",
              "      <td>1.000000</td>\n",
              "      <td>0.420000</td>\n",
              "      <td>0.000000</td>\n",
              "      <td>0.000000</td>\n",
              "      <td>0.00000</td>\n",
              "    </tr>\n",
              "    <tr>\n",
              "      <th>25%</th>\n",
              "      <td>0.000000</td>\n",
              "      <td>2.000000</td>\n",
              "      <td>20.250000</td>\n",
              "      <td>0.000000</td>\n",
              "      <td>0.000000</td>\n",
              "      <td>7.92500</td>\n",
              "    </tr>\n",
              "    <tr>\n",
              "      <th>50%</th>\n",
              "      <td>0.000000</td>\n",
              "      <td>3.000000</td>\n",
              "      <td>28.000000</td>\n",
              "      <td>0.000000</td>\n",
              "      <td>0.000000</td>\n",
              "      <td>14.45420</td>\n",
              "    </tr>\n",
              "    <tr>\n",
              "      <th>75%</th>\n",
              "      <td>1.000000</td>\n",
              "      <td>3.000000</td>\n",
              "      <td>38.000000</td>\n",
              "      <td>1.000000</td>\n",
              "      <td>0.000000</td>\n",
              "      <td>31.13750</td>\n",
              "    </tr>\n",
              "    <tr>\n",
              "      <th>max</th>\n",
              "      <td>1.000000</td>\n",
              "      <td>3.000000</td>\n",
              "      <td>80.000000</td>\n",
              "      <td>8.000000</td>\n",
              "      <td>6.000000</td>\n",
              "      <td>512.32920</td>\n",
              "    </tr>\n",
              "  </tbody>\n",
              "</table>\n",
              "</div>"
            ],
            "text/plain": [
              "         Survived      Pclass         Age  Siblings/Spouses Aboard  \\\n",
              "count  887.000000  887.000000  887.000000               887.000000   \n",
              "mean     0.385569    2.305524   29.471443                 0.525366   \n",
              "std      0.487004    0.836662   14.121908                 1.104669   \n",
              "min      0.000000    1.000000    0.420000                 0.000000   \n",
              "25%      0.000000    2.000000   20.250000                 0.000000   \n",
              "50%      0.000000    3.000000   28.000000                 0.000000   \n",
              "75%      1.000000    3.000000   38.000000                 1.000000   \n",
              "max      1.000000    3.000000   80.000000                 8.000000   \n",
              "\n",
              "       Parents/Children Aboard       Fare  \n",
              "count               887.000000  887.00000  \n",
              "mean                  0.383315   32.30542  \n",
              "std                   0.807466   49.78204  \n",
              "min                   0.000000    0.00000  \n",
              "25%                   0.000000    7.92500  \n",
              "50%                   0.000000   14.45420  \n",
              "75%                   0.000000   31.13750  \n",
              "max                   6.000000  512.32920  "
            ]
          },
          "metadata": {
            "tags": []
          },
          "execution_count": 10
        }
      ]
    },
    {
      "cell_type": "markdown",
      "metadata": {
        "id": "HRxSyD-KI-dj"
      },
      "source": [
        "The expected values are checked **categorical variable** (eg. Pclass only 1-2-3). The **unique values** are collected , using *.unique* function. **Discrete values** must be checked ( one cannot have 1.5 Parent/Children aboard)."
      ]
    },
    {
      "cell_type": "code",
      "metadata": {
        "id": "IibADXuwI-dk",
        "outputId": "db0696d7-686d-4093-b626-262b34f21952"
      },
      "source": [
        "# Get the unique values of different coloumns\n",
        "print(training_data.Survived.unique())\n",
        "print(training_data.Pclass.unique())\n",
        "print(training_data['Siblings/Spouses Aboard'].unique())\n",
        "print(training_data['Parents/Children Aboard'].unique())\n"
      ],
      "execution_count": null,
      "outputs": [
        {
          "output_type": "stream",
          "text": [
            "[0 1]\n",
            "[3 1 2]\n",
            "[1 0 3 4 2 5 8]\n",
            "[0 1 2 5 3 4 6]\n"
          ],
          "name": "stdout"
        }
      ]
    },
    {
      "cell_type": "markdown",
      "metadata": {
        "id": "DzOOrn-8I-do"
      },
      "source": [
        "There are **no missing values, nor erroneous values**.\n",
        "\n",
        "It is worth checking for duplicates within columns which is simple using pandas and also take care of entire repeated columns this is prevalent when multiple columns are added or removed from the dataframe."
      ]
    },
    {
      "cell_type": "markdown",
      "metadata": {
        "id": "wzHvsF66I-dp"
      },
      "source": [
        "## 1.3  Exploratory data analysis (EDA)"
      ]
    },
    {
      "cell_type": "markdown",
      "metadata": {
        "id": "k45NPjYrI-dq"
      },
      "source": [
        "The **exploratory data analysis** is performed. It involves looking at  **summary statistics**, and the data using **visual methods** (such as box plot, scatter plot, histogram ect). The data must be understood to select the appropriate plot. \n",
        "\n",
        "*Training_data.describe()* is used,  it can be seen which attributes are continuous, which are categorical and also a feel for the data and the spread of values."
      ]
    },
    {
      "cell_type": "code",
      "metadata": {
        "id": "1V7kPUXqI-dq",
        "outputId": "c41841b6-01e3-4f8b-d5f2-40521644fae9"
      },
      "source": [
        "# See the key features of the data \n",
        "training_data.describe()"
      ],
      "execution_count": null,
      "outputs": [
        {
          "output_type": "execute_result",
          "data": {
            "text/html": [
              "<div>\n",
              "<style>\n",
              "    .dataframe thead tr:only-child th {\n",
              "        text-align: right;\n",
              "    }\n",
              "\n",
              "    .dataframe thead th {\n",
              "        text-align: left;\n",
              "    }\n",
              "\n",
              "    .dataframe tbody tr th {\n",
              "        vertical-align: top;\n",
              "    }\n",
              "</style>\n",
              "<table border=\"1\" class=\"dataframe\">\n",
              "  <thead>\n",
              "    <tr style=\"text-align: right;\">\n",
              "      <th></th>\n",
              "      <th>Survived</th>\n",
              "      <th>Pclass</th>\n",
              "      <th>Age</th>\n",
              "      <th>Siblings/Spouses Aboard</th>\n",
              "      <th>Parents/Children Aboard</th>\n",
              "      <th>Fare</th>\n",
              "    </tr>\n",
              "  </thead>\n",
              "  <tbody>\n",
              "    <tr>\n",
              "      <th>count</th>\n",
              "      <td>887.000000</td>\n",
              "      <td>887.000000</td>\n",
              "      <td>887.000000</td>\n",
              "      <td>887.000000</td>\n",
              "      <td>887.000000</td>\n",
              "      <td>887.00000</td>\n",
              "    </tr>\n",
              "    <tr>\n",
              "      <th>mean</th>\n",
              "      <td>0.385569</td>\n",
              "      <td>2.305524</td>\n",
              "      <td>29.471443</td>\n",
              "      <td>0.525366</td>\n",
              "      <td>0.383315</td>\n",
              "      <td>32.30542</td>\n",
              "    </tr>\n",
              "    <tr>\n",
              "      <th>std</th>\n",
              "      <td>0.487004</td>\n",
              "      <td>0.836662</td>\n",
              "      <td>14.121908</td>\n",
              "      <td>1.104669</td>\n",
              "      <td>0.807466</td>\n",
              "      <td>49.78204</td>\n",
              "    </tr>\n",
              "    <tr>\n",
              "      <th>min</th>\n",
              "      <td>0.000000</td>\n",
              "      <td>1.000000</td>\n",
              "      <td>0.420000</td>\n",
              "      <td>0.000000</td>\n",
              "      <td>0.000000</td>\n",
              "      <td>0.00000</td>\n",
              "    </tr>\n",
              "    <tr>\n",
              "      <th>25%</th>\n",
              "      <td>0.000000</td>\n",
              "      <td>2.000000</td>\n",
              "      <td>20.250000</td>\n",
              "      <td>0.000000</td>\n",
              "      <td>0.000000</td>\n",
              "      <td>7.92500</td>\n",
              "    </tr>\n",
              "    <tr>\n",
              "      <th>50%</th>\n",
              "      <td>0.000000</td>\n",
              "      <td>3.000000</td>\n",
              "      <td>28.000000</td>\n",
              "      <td>0.000000</td>\n",
              "      <td>0.000000</td>\n",
              "      <td>14.45420</td>\n",
              "    </tr>\n",
              "    <tr>\n",
              "      <th>75%</th>\n",
              "      <td>1.000000</td>\n",
              "      <td>3.000000</td>\n",
              "      <td>38.000000</td>\n",
              "      <td>1.000000</td>\n",
              "      <td>0.000000</td>\n",
              "      <td>31.13750</td>\n",
              "    </tr>\n",
              "    <tr>\n",
              "      <th>max</th>\n",
              "      <td>1.000000</td>\n",
              "      <td>3.000000</td>\n",
              "      <td>80.000000</td>\n",
              "      <td>8.000000</td>\n",
              "      <td>6.000000</td>\n",
              "      <td>512.32920</td>\n",
              "    </tr>\n",
              "  </tbody>\n",
              "</table>\n",
              "</div>"
            ],
            "text/plain": [
              "         Survived      Pclass         Age  Siblings/Spouses Aboard  \\\n",
              "count  887.000000  887.000000  887.000000               887.000000   \n",
              "mean     0.385569    2.305524   29.471443                 0.525366   \n",
              "std      0.487004    0.836662   14.121908                 1.104669   \n",
              "min      0.000000    1.000000    0.420000                 0.000000   \n",
              "25%      0.000000    2.000000   20.250000                 0.000000   \n",
              "50%      0.000000    3.000000   28.000000                 0.000000   \n",
              "75%      1.000000    3.000000   38.000000                 1.000000   \n",
              "max      1.000000    3.000000   80.000000                 8.000000   \n",
              "\n",
              "       Parents/Children Aboard       Fare  \n",
              "count               887.000000  887.00000  \n",
              "mean                  0.383315   32.30542  \n",
              "std                   0.807466   49.78204  \n",
              "min                   0.000000    0.00000  \n",
              "25%                   0.000000    7.92500  \n",
              "50%                   0.000000   14.45420  \n",
              "75%                   0.000000   31.13750  \n",
              "max                   6.000000  512.32920  "
            ]
          },
          "metadata": {
            "tags": []
          },
          "execution_count": 12
        }
      ]
    },
    {
      "cell_type": "markdown",
      "metadata": {
        "id": "hmt_M0xhI-dv"
      },
      "source": [
        "Summary statistics for some attributes are checked. \n",
        "\n",
        "*Age* is chosen as an example of one continous variable, and *Sex* as a categorical variable.\n"
      ]
    },
    {
      "cell_type": "code",
      "metadata": {
        "id": "5MkVznQaI-dw",
        "outputId": "de2241e8-c076-4d36-9490-b7df25e8d017"
      },
      "source": [
        "# We can see the key summary statistics of our continous data \n",
        "training_data['Survived'].describe()"
      ],
      "execution_count": null,
      "outputs": [
        {
          "output_type": "execute_result",
          "data": {
            "text/plain": [
              "count    887.000000\n",
              "mean       0.385569\n",
              "std        0.487004\n",
              "min        0.000000\n",
              "25%        0.000000\n",
              "50%        0.000000\n",
              "75%        1.000000\n",
              "max        1.000000\n",
              "Name: Survived, dtype: float64"
            ]
          },
          "metadata": {
            "tags": []
          },
          "execution_count": 13
        }
      ]
    },
    {
      "cell_type": "code",
      "metadata": {
        "id": "H6Xb3zo1I-dz",
        "outputId": "6c04e952-26b9-402a-d7fb-3d7374673684"
      },
      "source": [
        "# We can see the key summary statistics of our catagorical data \n",
        "training_data['Sex'].describe()"
      ],
      "execution_count": null,
      "outputs": [
        {
          "output_type": "execute_result",
          "data": {
            "text/plain": [
              "count      887\n",
              "unique       2\n",
              "top       male\n",
              "freq       573\n",
              "Name: Sex, dtype: object"
            ]
          },
          "metadata": {
            "tags": []
          },
          "execution_count": 14
        }
      ]
    },
    {
      "cell_type": "code",
      "metadata": {
        "id": "gbF0ndFWI-d3",
        "outputId": "c5580f6b-d3ab-4eb2-b4fd-96488ddf14d6"
      },
      "source": [
        "# Number of rows \n",
        "print(\"# of passengers in training data: \" + str(len(training_data.index)))"
      ],
      "execution_count": null,
      "outputs": [
        {
          "output_type": "stream",
          "text": [
            "# of passengers in training data: 887\n"
          ],
          "name": "stdout"
        }
      ]
    },
    {
      "cell_type": "markdown",
      "metadata": {
        "id": "7Cb7s92mI-d-"
      },
      "source": [
        "The seaborn package is excellent for plotting it makes use of the regular structure of the pandas datafarme and this simplifies plotting compared with matplotlib. \n"
      ]
    },
    {
      "cell_type": "markdown",
      "metadata": {
        "id": "uGr7MOknI-d_"
      },
      "source": [
        "Some plots that capture the key features of the data are displayed below"
      ]
    },
    {
      "cell_type": "code",
      "metadata": {
        "id": "VGq1CcGeI-eA",
        "outputId": "3edc6146-6d0b-4787-9479-849af7e3b0e6"
      },
      "source": [
        "# Number of people who survive vs died \n",
        "print(training_data[\"Survived\"].value_counts())\n",
        "sns.countplot(x = \"Survived\", data = training_data)"
      ],
      "execution_count": null,
      "outputs": [
        {
          "output_type": "stream",
          "text": [
            "0    545\n",
            "1    342\n",
            "Name: Survived, dtype: int64\n"
          ],
          "name": "stdout"
        },
        {
          "output_type": "execute_result",
          "data": {
            "text/plain": [
              "<matplotlib.axes._subplots.AxesSubplot at 0xac09a10>"
            ]
          },
          "metadata": {
            "tags": []
          },
          "execution_count": 16
        },
        {
          "output_type": "display_data",
          "data": {
            "image/png": "[encoded data removed]",
            "text/plain": [
              "<matplotlib.figure.Figure at 0xac01ef0>"
            ]
          },
          "metadata": {
            "tags": []
          }
        }
      ]
    },
    {
      "cell_type": "markdown",
      "metadata": {
        "id": "DO7PZ89gI-eE"
      },
      "source": [
        "Number of survivors, grouped by gender."
      ]
    },
    {
      "cell_type": "code",
      "metadata": {
        "id": "Zt_UisqPI-eF",
        "outputId": "15f27e05-d2ee-4736-d51c-6cc18ba49cd7"
      },
      "source": [
        "# Number of surving gender \n",
        "# print(training_data[\"Sex\"].value_counts())\n",
        "# training_data.groupby([\"Survived\"]).count()\n",
        "sns.countplot(x = \"Survived\", hue = \"Sex\", data = training_data)"
      ],
      "execution_count": null,
      "outputs": [
        {
          "output_type": "execute_result",
          "data": {
            "text/plain": [
              "<matplotlib.axes._subplots.AxesSubplot at 0xaf00ed0>"
            ]
          },
          "metadata": {
            "tags": []
          },
          "execution_count": 17
        },
        {
          "output_type": "display_data",
          "data": {
            "image/png": "[encoded data removed]",
            "text/plain": [
              "<matplotlib.figure.Figure at 0xabc85d0>"
            ]
          },
          "metadata": {
            "tags": []
          }
        }
      ]
    },
    {
      "cell_type": "markdown",
      "metadata": {
        "id": "rC47SZ5OI-eI"
      },
      "source": [
        "Number of survivors, grouped by the class they travelled in."
      ]
    },
    {
      "cell_type": "code",
      "metadata": {
        "id": "SVnYgB9MI-eJ",
        "outputId": "36d6a765-378a-4551-dd07-ec74c29610a0"
      },
      "source": [
        "# Number of surving gender and Pclass \n",
        "sns.countplot(x = \"Survived\", hue = \"Pclass\", data = training_data)"
      ],
      "execution_count": null,
      "outputs": [
        {
          "output_type": "execute_result",
          "data": {
            "text/plain": [
              "<matplotlib.axes._subplots.AxesSubplot at 0xaf1c450>"
            ]
          },
          "metadata": {
            "tags": []
          },
          "execution_count": 18
        },
        {
          "output_type": "display_data",
          "data": {
            "image/png": "[encoded data removed]",
            "text/plain": [
              "<matplotlib.figure.Figure at 0xaf25490>"
            ]
          },
          "metadata": {
            "tags": []
          }
        }
      ]
    },
    {
      "cell_type": "markdown",
      "metadata": {
        "id": "7yXgBoq6I-eN"
      },
      "source": [
        "Distribution of passanger age."
      ]
    },
    {
      "cell_type": "code",
      "metadata": {
        "id": "us_NGsxLI-eN",
        "outputId": "b8515709-ccde-4ab7-91b4-f8e68a4b22f8"
      },
      "source": [
        "# Histogram of the age of the passengers \n",
        "training_data[\"Age\"].plot.hist()"
      ],
      "execution_count": null,
      "outputs": [
        {
          "output_type": "execute_result",
          "data": {
            "text/plain": [
              "<matplotlib.axes._subplots.AxesSubplot at 0xaf89b70>"
            ]
          },
          "metadata": {
            "tags": []
          },
          "execution_count": 19
        },
        {
          "output_type": "display_data",
          "data": {
            "image/png": "[encoded data removed]",
            "text/plain": [
              "<matplotlib.figure.Figure at 0xb051f90>"
            ]
          },
          "metadata": {
            "tags": []
          }
        }
      ]
    },
    {
      "cell_type": "code",
      "metadata": {
        "id": "mKedc39bI-eR",
        "outputId": "bc6fd32e-773c-4cd5-fbb2-30366a0a99d7"
      },
      "source": [
        "# Histogram of the passenger class \n",
        "sns.countplot(x = \"Pclass\",data = training_data)"
      ],
      "execution_count": null,
      "outputs": [
        {
          "output_type": "execute_result",
          "data": {
            "text/plain": [
              "<matplotlib.axes._subplots.AxesSubplot at 0xb50e5d0>"
            ]
          },
          "metadata": {
            "tags": []
          },
          "execution_count": 20
        },
        {
          "output_type": "display_data",
          "data": {
            "image/png": "[encoded data removed]",
            "text/plain": [
              "<matplotlib.figure.Figure at 0xb4e3630>"
            ]
          },
          "metadata": {
            "tags": []
          }
        }
      ]
    },
    {
      "cell_type": "code",
      "metadata": {
        "id": "41XUjyM8I-eU",
        "outputId": "3ae3cb89-2eab-4db2-db7e-399ef516aab1"
      },
      "source": [
        "# Box plot of Pclass and the age \n",
        "sns.boxplot( x = \"Pclass\", y = \"Age\", data = training_data )"
      ],
      "execution_count": null,
      "outputs": [
        {
          "output_type": "execute_result",
          "data": {
            "text/plain": [
              "<matplotlib.axes._subplots.AxesSubplot at 0xb533cd0>"
            ]
          },
          "metadata": {
            "tags": []
          },
          "execution_count": 21
        },
        {
          "output_type": "display_data",
          "data": {
            "image/png": "[encoded data removed]",
            "text/plain": [
              "<matplotlib.figure.Figure at 0xaf004b0>"
            ]
          },
          "metadata": {
            "tags": []
          }
        }
      ]
    },
    {
      "cell_type": "code",
      "metadata": {
        "id": "uZnuytn6I-ea",
        "outputId": "b380c80e-7222-477d-b89d-e84df5cc4e3d"
      },
      "source": [
        "# Correlation matrix \n",
        "training_data.corr()"
      ],
      "execution_count": null,
      "outputs": [
        {
          "output_type": "execute_result",
          "data": {
            "text/html": [
              "<div>\n",
              "<style>\n",
              "    .dataframe thead tr:only-child th {\n",
              "        text-align: right;\n",
              "    }\n",
              "\n",
              "    .dataframe thead th {\n",
              "        text-align: left;\n",
              "    }\n",
              "\n",
              "    .dataframe tbody tr th {\n",
              "        vertical-align: top;\n",
              "    }\n",
              "</style>\n",
              "<table border=\"1\" class=\"dataframe\">\n",
              "  <thead>\n",
              "    <tr style=\"text-align: right;\">\n",
              "      <th></th>\n",
              "      <th>Survived</th>\n",
              "      <th>Pclass</th>\n",
              "      <th>Age</th>\n",
              "      <th>Siblings/Spouses Aboard</th>\n",
              "      <th>Parents/Children Aboard</th>\n",
              "      <th>Fare</th>\n",
              "    </tr>\n",
              "  </thead>\n",
              "  <tbody>\n",
              "    <tr>\n",
              "      <th>Survived</th>\n",
              "      <td>1.000000</td>\n",
              "      <td>-0.336528</td>\n",
              "      <td>-0.059665</td>\n",
              "      <td>-0.037082</td>\n",
              "      <td>0.080097</td>\n",
              "      <td>0.256179</td>\n",
              "    </tr>\n",
              "    <tr>\n",
              "      <th>Pclass</th>\n",
              "      <td>-0.336528</td>\n",
              "      <td>1.000000</td>\n",
              "      <td>-0.391492</td>\n",
              "      <td>0.085026</td>\n",
              "      <td>0.020252</td>\n",
              "      <td>-0.548919</td>\n",
              "    </tr>\n",
              "    <tr>\n",
              "      <th>Age</th>\n",
              "      <td>-0.059665</td>\n",
              "      <td>-0.391492</td>\n",
              "      <td>1.000000</td>\n",
              "      <td>-0.297669</td>\n",
              "      <td>-0.193741</td>\n",
              "      <td>0.112329</td>\n",
              "    </tr>\n",
              "    <tr>\n",
              "      <th>Siblings/Spouses Aboard</th>\n",
              "      <td>-0.037082</td>\n",
              "      <td>0.085026</td>\n",
              "      <td>-0.297669</td>\n",
              "      <td>1.000000</td>\n",
              "      <td>0.414244</td>\n",
              "      <td>0.158839</td>\n",
              "    </tr>\n",
              "    <tr>\n",
              "      <th>Parents/Children Aboard</th>\n",
              "      <td>0.080097</td>\n",
              "      <td>0.020252</td>\n",
              "      <td>-0.193741</td>\n",
              "      <td>0.414244</td>\n",
              "      <td>1.000000</td>\n",
              "      <td>0.215470</td>\n",
              "    </tr>\n",
              "    <tr>\n",
              "      <th>Fare</th>\n",
              "      <td>0.256179</td>\n",
              "      <td>-0.548919</td>\n",
              "      <td>0.112329</td>\n",
              "      <td>0.158839</td>\n",
              "      <td>0.215470</td>\n",
              "      <td>1.000000</td>\n",
              "    </tr>\n",
              "  </tbody>\n",
              "</table>\n",
              "</div>"
            ],
            "text/plain": [
              "                         Survived    Pclass       Age  \\\n",
              "Survived                 1.000000 -0.336528 -0.059665   \n",
              "Pclass                  -0.336528  1.000000 -0.391492   \n",
              "Age                     -0.059665 -0.391492  1.000000   \n",
              "Siblings/Spouses Aboard -0.037082  0.085026 -0.297669   \n",
              "Parents/Children Aboard  0.080097  0.020252 -0.193741   \n",
              "Fare                     0.256179 -0.548919  0.112329   \n",
              "\n",
              "                         Siblings/Spouses Aboard  Parents/Children Aboard  \\\n",
              "Survived                               -0.037082                 0.080097   \n",
              "Pclass                                  0.085026                 0.020252   \n",
              "Age                                    -0.297669                -0.193741   \n",
              "Siblings/Spouses Aboard                 1.000000                 0.414244   \n",
              "Parents/Children Aboard                 0.414244                 1.000000   \n",
              "Fare                                    0.158839                 0.215470   \n",
              "\n",
              "                             Fare  \n",
              "Survived                 0.256179  \n",
              "Pclass                  -0.548919  \n",
              "Age                      0.112329  \n",
              "Siblings/Spouses Aboard  0.158839  \n",
              "Parents/Children Aboard  0.215470  \n",
              "Fare                     1.000000  "
            ]
          },
          "metadata": {
            "tags": []
          },
          "execution_count": 22
        }
      ]
    },
    {
      "cell_type": "markdown",
      "metadata": {
        "id": "i2IxgEhbI-eh"
      },
      "source": [
        "Correlation between attributes are displayed it is not advised to simply remove attributed solely based on this without understanding however it must be looked at closely since this will distort the results of our model. \n",
        "\n",
        "Consider serial multicollinearity, it would mean that than the rank of the matrix would be less that its dimension this would lead to problems when finding the inverse of the moment matrix (The problem will be ill posed)."
      ]
    },
    {
      "cell_type": "code",
      "metadata": {
        "id": "Ff6yAIUGI-ei",
        "outputId": "eae6ae5b-2ae7-4087-d1e2-33cf5d8657a6"
      },
      "source": [
        "training_data[training_data['Survived'] == 1].corr()"
      ],
      "execution_count": null,
      "outputs": [
        {
          "output_type": "execute_result",
          "data": {
            "text/html": [
              "<div>\n",
              "<style>\n",
              "    .dataframe thead tr:only-child th {\n",
              "        text-align: right;\n",
              "    }\n",
              "\n",
              "    .dataframe thead th {\n",
              "        text-align: left;\n",
              "    }\n",
              "\n",
              "    .dataframe tbody tr th {\n",
              "        vertical-align: top;\n",
              "    }\n",
              "</style>\n",
              "<table border=\"1\" class=\"dataframe\">\n",
              "  <thead>\n",
              "    <tr style=\"text-align: right;\">\n",
              "      <th></th>\n",
              "      <th>Survived</th>\n",
              "      <th>Pclass</th>\n",
              "      <th>Age</th>\n",
              "      <th>Siblings/Spouses Aboard</th>\n",
              "      <th>Parents/Children Aboard</th>\n",
              "      <th>Fare</th>\n",
              "    </tr>\n",
              "  </thead>\n",
              "  <tbody>\n",
              "    <tr>\n",
              "      <th>Survived</th>\n",
              "      <td>NaN</td>\n",
              "      <td>NaN</td>\n",
              "      <td>NaN</td>\n",
              "      <td>NaN</td>\n",
              "      <td>NaN</td>\n",
              "      <td>NaN</td>\n",
              "    </tr>\n",
              "    <tr>\n",
              "      <th>Pclass</th>\n",
              "      <td>NaN</td>\n",
              "      <td>1.000000</td>\n",
              "      <td>-0.437923</td>\n",
              "      <td>-0.033300</td>\n",
              "      <td>0.021584</td>\n",
              "      <td>-0.538125</td>\n",
              "    </tr>\n",
              "    <tr>\n",
              "      <th>Age</th>\n",
              "      <td>NaN</td>\n",
              "      <td>-0.437923</td>\n",
              "      <td>1.000000</td>\n",
              "      <td>-0.138740</td>\n",
              "      <td>-0.308689</td>\n",
              "      <td>0.181396</td>\n",
              "    </tr>\n",
              "    <tr>\n",
              "      <th>Siblings/Spouses Aboard</th>\n",
              "      <td>NaN</td>\n",
              "      <td>-0.033300</td>\n",
              "      <td>-0.138740</td>\n",
              "      <td>1.000000</td>\n",
              "      <td>0.282498</td>\n",
              "      <td>0.122886</td>\n",
              "    </tr>\n",
              "    <tr>\n",
              "      <th>Parents/Children Aboard</th>\n",
              "      <td>NaN</td>\n",
              "      <td>0.021584</td>\n",
              "      <td>-0.308689</td>\n",
              "      <td>0.282498</td>\n",
              "      <td>1.000000</td>\n",
              "      <td>0.116519</td>\n",
              "    </tr>\n",
              "    <tr>\n",
              "      <th>Fare</th>\n",
              "      <td>NaN</td>\n",
              "      <td>-0.538125</td>\n",
              "      <td>0.181396</td>\n",
              "      <td>0.122886</td>\n",
              "      <td>0.116519</td>\n",
              "      <td>1.000000</td>\n",
              "    </tr>\n",
              "  </tbody>\n",
              "</table>\n",
              "</div>"
            ],
            "text/plain": [
              "                         Survived    Pclass       Age  \\\n",
              "Survived                      NaN       NaN       NaN   \n",
              "Pclass                        NaN  1.000000 -0.437923   \n",
              "Age                           NaN -0.437923  1.000000   \n",
              "Siblings/Spouses Aboard       NaN -0.033300 -0.138740   \n",
              "Parents/Children Aboard       NaN  0.021584 -0.308689   \n",
              "Fare                          NaN -0.538125  0.181396   \n",
              "\n",
              "                         Siblings/Spouses Aboard  Parents/Children Aboard  \\\n",
              "Survived                                     NaN                      NaN   \n",
              "Pclass                                 -0.033300                 0.021584   \n",
              "Age                                    -0.138740                -0.308689   \n",
              "Siblings/Spouses Aboard                 1.000000                 0.282498   \n",
              "Parents/Children Aboard                 0.282498                 1.000000   \n",
              "Fare                                    0.122886                 0.116519   \n",
              "\n",
              "                             Fare  \n",
              "Survived                      NaN  \n",
              "Pclass                  -0.538125  \n",
              "Age                      0.181396  \n",
              "Siblings/Spouses Aboard  0.122886  \n",
              "Parents/Children Aboard  0.116519  \n",
              "Fare                     1.000000  "
            ]
          },
          "metadata": {
            "tags": []
          },
          "execution_count": 23
        }
      ]
    },
    {
      "cell_type": "markdown",
      "metadata": {
        "id": "DOn1hvVfI-em"
      },
      "source": [
        "The correlation between attributes, within classes. \n",
        "Attributes which are strongly correlated are candidates to be removed. "
      ]
    },
    {
      "cell_type": "code",
      "metadata": {
        "scrolled": false,
        "id": "gl6BRXT8I-em",
        "outputId": "ee169044-c14d-4068-e027-710547115abe"
      },
      "source": [
        "# First entries of surviving passengers\n",
        "training_data[training_data['Survived'] == 0].head(6)"
      ],
      "execution_count": null,
      "outputs": [
        {
          "output_type": "execute_result",
          "data": {
            "text/html": [
              "<div>\n",
              "<style>\n",
              "    .dataframe thead tr:only-child th {\n",
              "        text-align: right;\n",
              "    }\n",
              "\n",
              "    .dataframe thead th {\n",
              "        text-align: left;\n",
              "    }\n",
              "\n",
              "    .dataframe tbody tr th {\n",
              "        vertical-align: top;\n",
              "    }\n",
              "</style>\n",
              "<table border=\"1\" class=\"dataframe\">\n",
              "  <thead>\n",
              "    <tr style=\"text-align: right;\">\n",
              "      <th></th>\n",
              "      <th>Survived</th>\n",
              "      <th>Pclass</th>\n",
              "      <th>Name</th>\n",
              "      <th>Sex</th>\n",
              "      <th>Age</th>\n",
              "      <th>Siblings/Spouses Aboard</th>\n",
              "      <th>Parents/Children Aboard</th>\n",
              "      <th>Fare</th>\n",
              "    </tr>\n",
              "  </thead>\n",
              "  <tbody>\n",
              "    <tr>\n",
              "      <th>0</th>\n",
              "      <td>0</td>\n",
              "      <td>3</td>\n",
              "      <td>Mr. Owen Harris Braund</td>\n",
              "      <td>male</td>\n",
              "      <td>22.0</td>\n",
              "      <td>1</td>\n",
              "      <td>0</td>\n",
              "      <td>7.2500</td>\n",
              "    </tr>\n",
              "    <tr>\n",
              "      <th>4</th>\n",
              "      <td>0</td>\n",
              "      <td>3</td>\n",
              "      <td>Mr. William Henry Allen</td>\n",
              "      <td>male</td>\n",
              "      <td>35.0</td>\n",
              "      <td>0</td>\n",
              "      <td>0</td>\n",
              "      <td>8.0500</td>\n",
              "    </tr>\n",
              "    <tr>\n",
              "      <th>5</th>\n",
              "      <td>0</td>\n",
              "      <td>3</td>\n",
              "      <td>Mr. James Moran</td>\n",
              "      <td>male</td>\n",
              "      <td>27.0</td>\n",
              "      <td>0</td>\n",
              "      <td>0</td>\n",
              "      <td>8.4583</td>\n",
              "    </tr>\n",
              "    <tr>\n",
              "      <th>6</th>\n",
              "      <td>0</td>\n",
              "      <td>1</td>\n",
              "      <td>Mr. Timothy J McCarthy</td>\n",
              "      <td>male</td>\n",
              "      <td>54.0</td>\n",
              "      <td>0</td>\n",
              "      <td>0</td>\n",
              "      <td>51.8625</td>\n",
              "    </tr>\n",
              "    <tr>\n",
              "      <th>7</th>\n",
              "      <td>0</td>\n",
              "      <td>3</td>\n",
              "      <td>Master. Gosta Leonard Palsson</td>\n",
              "      <td>male</td>\n",
              "      <td>2.0</td>\n",
              "      <td>3</td>\n",
              "      <td>1</td>\n",
              "      <td>21.0750</td>\n",
              "    </tr>\n",
              "    <tr>\n",
              "      <th>12</th>\n",
              "      <td>0</td>\n",
              "      <td>3</td>\n",
              "      <td>Mr. William Henry Saundercock</td>\n",
              "      <td>male</td>\n",
              "      <td>20.0</td>\n",
              "      <td>0</td>\n",
              "      <td>0</td>\n",
              "      <td>8.0500</td>\n",
              "    </tr>\n",
              "  </tbody>\n",
              "</table>\n",
              "</div>"
            ],
            "text/plain": [
              "    Survived  Pclass                           Name   Sex   Age  \\\n",
              "0          0       3         Mr. Owen Harris Braund  male  22.0   \n",
              "4          0       3        Mr. William Henry Allen  male  35.0   \n",
              "5          0       3                Mr. James Moran  male  27.0   \n",
              "6          0       1         Mr. Timothy J McCarthy  male  54.0   \n",
              "7          0       3  Master. Gosta Leonard Palsson  male   2.0   \n",
              "12         0       3  Mr. William Henry Saundercock  male  20.0   \n",
              "\n",
              "    Siblings/Spouses Aboard  Parents/Children Aboard     Fare  \n",
              "0                         1                        0   7.2500  \n",
              "4                         0                        0   8.0500  \n",
              "5                         0                        0   8.4583  \n",
              "6                         0                        0  51.8625  \n",
              "7                         3                        1  21.0750  \n",
              "12                        0                        0   8.0500  "
            ]
          },
          "metadata": {
            "tags": []
          },
          "execution_count": 24
        }
      ]
    },
    {
      "cell_type": "markdown",
      "metadata": {
        "id": "Etf8iSlvI-ep"
      },
      "source": [
        "## 1.4 Preparing the data\n",
        "\n",
        "**Feature engineering**. Some features are not in the correct format and cannot be used in our logistic regression model.  \n",
        "\n",
        "String variables like the names of passengers provide no insight and do not have any predictive power so are removed. \n",
        "\n",
        "Some are useful but need to be transformed to **0-1 (binary)** variables such as Sex. Pandas is very helpful here as we can readily create dummy variables and add and remove attributes. In the literature this is known as feauture extraction. "
      ]
    },
    {
      "cell_type": "markdown",
      "metadata": {
        "id": "6xuvC1XNI-eq"
      },
      "source": [
        "Changes made to the data:\n",
        "\n",
        "**1)** **Sex** is changed to a **binary variable  0-1 (where 0 is female and 1 is male)**, there are only two options and absence from one class implies presence in the other thus the inclusion of a single column is sufficient.\n",
        "\n",
        "**2)** For **Pclass** the same procedure was followed, but here there is **3 categories / different values**, so **2 columns of 0-1 values (if Pcl2 = 1, the passengers  travelled in 2nd class; for Pc2 = 1 they travelled in 2nd class; and if both Pcl1 = Pcl2 = 0 then they travelled in 1st class)** are neccassery.\n",
        "\n",
        "**3)**  Concatenate the new columns and drop those not suitable for the model.\n",
        "\n",
        "**4)**  Split the data into the class labels (survival column) and the passenger attributes. \n",
        "\n",
        "**5)**  To use the advantages of numpy **convert dataframe into numpy arrays** .\n",
        "\n",
        "\n"
      ]
    },
    {
      "cell_type": "code",
      "metadata": {
        "id": "3sRrQI2qI-eq",
        "outputId": "ddad4127-834c-4bb1-dbfa-cc437c9bbc3b"
      },
      "source": [
        "# String to catagorical variables using dummies\n",
        "sex = pd.get_dummies(training_data[\"Sex\"], drop_first = True)\n",
        "Pcl = pd.get_dummies(training_data[\"Pclass\"], drop_first = True)\n",
        "\n",
        "# Add new columns to the data \n",
        "training_data = pd.concat([training_data,sex,Pcl], axis = 1)\n",
        "\n",
        "# Remove the string data \n",
        "training_data.drop([\"Name\",\"Sex\",\"Pclass\"], axis = 1, inplace = True)\n",
        "training_data.head(10)"
      ],
      "execution_count": null,
      "outputs": [
        {
          "output_type": "execute_result",
          "data": {
            "text/html": [
              "<div>\n",
              "<style>\n",
              "    .dataframe thead tr:only-child th {\n",
              "        text-align: right;\n",
              "    }\n",
              "\n",
              "    .dataframe thead th {\n",
              "        text-align: left;\n",
              "    }\n",
              "\n",
              "    .dataframe tbody tr th {\n",
              "        vertical-align: top;\n",
              "    }\n",
              "</style>\n",
              "<table border=\"1\" class=\"dataframe\">\n",
              "  <thead>\n",
              "    <tr style=\"text-align: right;\">\n",
              "      <th></th>\n",
              "      <th>Survived</th>\n",
              "      <th>Age</th>\n",
              "      <th>Siblings/Spouses Aboard</th>\n",
              "      <th>Parents/Children Aboard</th>\n",
              "      <th>Fare</th>\n",
              "      <th>male</th>\n",
              "      <th>2</th>\n",
              "      <th>3</th>\n",
              "    </tr>\n",
              "  </thead>\n",
              "  <tbody>\n",
              "    <tr>\n",
              "      <th>0</th>\n",
              "      <td>0</td>\n",
              "      <td>22.0</td>\n",
              "      <td>1</td>\n",
              "      <td>0</td>\n",
              "      <td>7.2500</td>\n",
              "      <td>1</td>\n",
              "      <td>0</td>\n",
              "      <td>1</td>\n",
              "    </tr>\n",
              "    <tr>\n",
              "      <th>1</th>\n",
              "      <td>1</td>\n",
              "      <td>38.0</td>\n",
              "      <td>1</td>\n",
              "      <td>0</td>\n",
              "      <td>71.2833</td>\n",
              "      <td>0</td>\n",
              "      <td>0</td>\n",
              "      <td>0</td>\n",
              "    </tr>\n",
              "    <tr>\n",
              "      <th>2</th>\n",
              "      <td>1</td>\n",
              "      <td>26.0</td>\n",
              "      <td>0</td>\n",
              "      <td>0</td>\n",
              "      <td>7.9250</td>\n",
              "      <td>0</td>\n",
              "      <td>0</td>\n",
              "      <td>1</td>\n",
              "    </tr>\n",
              "    <tr>\n",
              "      <th>3</th>\n",
              "      <td>1</td>\n",
              "      <td>35.0</td>\n",
              "      <td>1</td>\n",
              "      <td>0</td>\n",
              "      <td>53.1000</td>\n",
              "      <td>0</td>\n",
              "      <td>0</td>\n",
              "      <td>0</td>\n",
              "    </tr>\n",
              "    <tr>\n",
              "      <th>4</th>\n",
              "      <td>0</td>\n",
              "      <td>35.0</td>\n",
              "      <td>0</td>\n",
              "      <td>0</td>\n",
              "      <td>8.0500</td>\n",
              "      <td>1</td>\n",
              "      <td>0</td>\n",
              "      <td>1</td>\n",
              "    </tr>\n",
              "    <tr>\n",
              "      <th>5</th>\n",
              "      <td>0</td>\n",
              "      <td>27.0</td>\n",
              "      <td>0</td>\n",
              "      <td>0</td>\n",
              "      <td>8.4583</td>\n",
              "      <td>1</td>\n",
              "      <td>0</td>\n",
              "      <td>1</td>\n",
              "    </tr>\n",
              "    <tr>\n",
              "      <th>6</th>\n",
              "      <td>0</td>\n",
              "      <td>54.0</td>\n",
              "      <td>0</td>\n",
              "      <td>0</td>\n",
              "      <td>51.8625</td>\n",
              "      <td>1</td>\n",
              "      <td>0</td>\n",
              "      <td>0</td>\n",
              "    </tr>\n",
              "    <tr>\n",
              "      <th>7</th>\n",
              "      <td>0</td>\n",
              "      <td>2.0</td>\n",
              "      <td>3</td>\n",
              "      <td>1</td>\n",
              "      <td>21.0750</td>\n",
              "      <td>1</td>\n",
              "      <td>0</td>\n",
              "      <td>1</td>\n",
              "    </tr>\n",
              "    <tr>\n",
              "      <th>8</th>\n",
              "      <td>1</td>\n",
              "      <td>27.0</td>\n",
              "      <td>0</td>\n",
              "      <td>2</td>\n",
              "      <td>11.1333</td>\n",
              "      <td>0</td>\n",
              "      <td>0</td>\n",
              "      <td>1</td>\n",
              "    </tr>\n",
              "    <tr>\n",
              "      <th>9</th>\n",
              "      <td>1</td>\n",
              "      <td>14.0</td>\n",
              "      <td>1</td>\n",
              "      <td>0</td>\n",
              "      <td>30.0708</td>\n",
              "      <td>0</td>\n",
              "      <td>1</td>\n",
              "      <td>0</td>\n",
              "    </tr>\n",
              "  </tbody>\n",
              "</table>\n",
              "</div>"
            ],
            "text/plain": [
              "   Survived   Age  Siblings/Spouses Aboard  Parents/Children Aboard     Fare  \\\n",
              "0         0  22.0                        1                        0   7.2500   \n",
              "1         1  38.0                        1                        0  71.2833   \n",
              "2         1  26.0                        0                        0   7.9250   \n",
              "3         1  35.0                        1                        0  53.1000   \n",
              "4         0  35.0                        0                        0   8.0500   \n",
              "5         0  27.0                        0                        0   8.4583   \n",
              "6         0  54.0                        0                        0  51.8625   \n",
              "7         0   2.0                        3                        1  21.0750   \n",
              "8         1  27.0                        0                        2  11.1333   \n",
              "9         1  14.0                        1                        0  30.0708   \n",
              "\n",
              "   male  2  3  \n",
              "0     1  0  1  \n",
              "1     0  0  0  \n",
              "2     0  0  1  \n",
              "3     0  0  0  \n",
              "4     1  0  1  \n",
              "5     1  0  1  \n",
              "6     1  0  0  \n",
              "7     1  0  1  \n",
              "8     0  0  1  \n",
              "9     0  1  0  "
            ]
          },
          "metadata": {
            "tags": []
          },
          "execution_count": 25
        }
      ]
    },
    {
      "cell_type": "code",
      "metadata": {
        "id": "Y_U1Q_nlI-et"
      },
      "source": [
        "# Generate the matrices from the Titanic data\n",
        "titanic_x = training_data.drop(\"Survived\", axis=1)\n",
        "titanic_y = training_data[\"Survived\"] \n",
        "\n",
        "# Convert dataframe to numpy array\n",
        "# X_old = titanic_x.to_numpy()\n",
        "# y = titanic_y.to_numpy()\n",
        "X_old = titanic_x.values\n",
        "y     = titanic_y.values\n",
        "\n",
        "# Take from np array the identifier \n",
        "Age   = X_old[:,0]\n",
        "Sibsp = X_old[:,1]\n",
        "Pch   = X_old[:,2]\n",
        "Fare  = X_old[:,3]\n",
        "Sex   = X_old[:,4]\n",
        "Pcl2  = X_old[:,5]\n",
        "Pcl3  = X_old[:,6]"
      ],
      "execution_count": null,
      "outputs": []
    },
    {
      "cell_type": "markdown",
      "metadata": {
        "id": "1x-zpRqPI-ex"
      },
      "source": [
        "**Standardization** is useful in machine learning as it brings everything onto the **same scale**. It reduces the effect of a single attribute on the model. It means that our cost function is more smooth so our gradient descent algorithm will work faster. \n",
        "\n",
        "The technical detail of this is that the data should be heterogeneous, for a model where the attributes are of different types and are on different scales an advance technique is random forest this method works well with such data (where we have categorical  and continuous data). \n",
        "\n",
        "Some consideration should be given to standardization when using dummy variables. There are differences of opinion on this matter some say that non dummy variables should be standardized twice we found this to not significantly change our result. In a model with more complicated relationships this could have an effect.\n",
        "\n",
        "Age, Fare, Sex, and the newly created Pcl2 and Pcl3 were standardised.\n"
      ]
    },
    {
      "cell_type": "code",
      "metadata": {
        "id": "YhaNPqITI-ex"
      },
      "source": [
        "def standardise(x):\n",
        "    \"\"\"Standardize the original data set.\"\"\"\n",
        "    mean_x = np.mean(x, axis=0)\n",
        "    x = x - mean_x\n",
        "    std_x = np.std(x, axis=0)\n",
        "    x = x / std_x\n",
        "    return x, mean_x, std_x"
      ],
      "execution_count": null,
      "outputs": []
    },
    {
      "cell_type": "markdown",
      "metadata": {
        "id": "rLzbV8roI-e0"
      },
      "source": [
        "Feature selection is a task in itself. It is an important part of machine learning but beyond the scope of this project. Here all features are chosen this can lead to problems.\n",
        "\n",
        "Including those features that are not contributing or redundant in the model will cause randomness or noise to be attributed to these features it can also lead to numerical instability. It is possible the model will overfit and our solution will not generalize. "
      ]
    },
    {
      "cell_type": "code",
      "metadata": {
        "id": "ZBrS59jVI-e0"
      },
      "source": [
        "# Select which variable you wish to perform the logisitc regression \n",
        "X = np.c_[Age,Sibsp,Pch,Fare,Sex,Pcl2,Pcl3]\n",
        "\n",
        "# Consider the 1,0 variables and standardization\n",
        "\n",
        "# Standardize the data \n",
        "x, mean_x, std_x = standardise(X)\n",
        "\n",
        "# Avoid double scalar as python works with nd arrays \n",
        "y = y.reshape(len(y),1)"
      ],
      "execution_count": null,
      "outputs": []
    },
    {
      "cell_type": "markdown",
      "metadata": {
        "id": "rteWeFWYI-e3"
      },
      "source": [
        "It is not sufficient to minimize the error for the model on the data we train we must also minimize the error on the testing data, it is possible we overfit our model and it predicts the data it was trained on well but does not generalize.\n",
        "\n",
        "K fold Cross validation ensures that the accuracy of the model should not differ significantly for training or testing sets but this is not required for a basic data set such as this one. In titanic there is no specific testing data but we separate some data from the dataset and use this as our testing set this is common practise. Here we choose k to just be 2. This is also why it is called out of sample testing.\n",
        "\n",
        "Reducing the variance within both samples is the aim. Choosing the split ratio is a difficult choice and depends on factors such as the size of the dataset, also one should consider the complexity of the function (typically this is unknown) when choosing the training testing split a more complex function will need more samples. It is useful to consider the number of points required to accurately interpolate a polynomial increases with the degree.  \n",
        "\n"
      ]
    },
    {
      "cell_type": "code",
      "metadata": {
        "id": "vZN2teCiI-e4"
      },
      "source": [
        "# Function to split the data into testing and training sets \n",
        "\n",
        "def split_data(x, y, ratio, myseed=1):\n",
        "    \"\"\"split the dataset based on the split ratio.\"\"\"\n",
        "    # set seed\n",
        "    np.random.seed(myseed)\n",
        "    # generate random indices\n",
        "    num_row = len(y)\n",
        "    indices = np.random.permutation(num_row)\n",
        "    index_split = int(np.floor(ratio * num_row))\n",
        "    index_tr = indices[: index_split]\n",
        "    index_te = indices[index_split:]\n",
        "    # create split\n",
        "    x_tr = x[index_tr]\n",
        "    x_te = x[index_te]\n",
        "    y_tr = y[index_tr]\n",
        "    y_te = y[index_te]\n",
        "    return x_tr, x_te, y_tr, y_te"
      ],
      "execution_count": null,
      "outputs": []
    },
    {
      "cell_type": "markdown",
      "metadata": {
        "id": "IkV808B9I-e6"
      },
      "source": [
        "This function builds a polynomial up to a specified degree. This allows augmentation  of the input and returns a polynomial basis function. The issue of overfitting will now need to be dealt with however if a complex relationship exists we will importantly be able to capture this."
      ]
    },
    {
      "cell_type": "code",
      "metadata": {
        "id": "oJuL0BYCI-e7"
      },
      "source": [
        "# Polynomial basis building function \n",
        "\n",
        "def build_poly(x, degree):\n",
        "    \"\"\"polynomial basis functions for input data x, for j=0 up to j=degree.\"\"\"\n",
        "    poly = np.ones((len(x), 1))\n",
        "    for deg in range(1, degree+1):\n",
        "        poly = np.c_[poly, np.power(x, deg)]\n",
        "    return poly"
      ],
      "execution_count": null,
      "outputs": []
    },
    {
      "cell_type": "markdown",
      "metadata": {
        "id": "bKIJ1cAjI-e-"
      },
      "source": [
        "## 1.5 Model building "
      ]
    },
    {
      "cell_type": "markdown",
      "metadata": {
        "id": "UHTJlFMuI-e_"
      },
      "source": [
        "This is a probabilistic classifier. Using the discriminative approach we fit it to the model of the form p(y,x). \n",
        "\n",
        "This is a linear classifier, the difference between this and non-linear classifiers is that we only consider linear combinations of the features. Logistic regression and softmax regression are both linear classifiers. \n",
        "\n",
        "The typical example given for when linear classifiers fail is with XOR function the where the data it is not linearly separable.\n",
        "\n",
        "Supervised machine learning is where there are pairs of values (our input and output) we try to find the relationship between via some function the difference between this and unsupervised machine learning is that there are no labels and we do not know the relationship we are looking for. \n",
        "\n",
        "It is evident that the features age, fare ect are used to see if they affect a person's chance of survival (class labels).  "
      ]
    },
    {
      "cell_type": "markdown",
      "metadata": {
        "id": "uHwGJ_QzI-fA"
      },
      "source": [
        "### 1.5.1 Sigmoid function"
      ]
    },
    {
      "cell_type": "markdown",
      "metadata": {
        "id": "btDhyzeSI-fA"
      },
      "source": [
        "Logistic regression is a special case of normal regression where the values that we want to predict are **categorical**. In the **binary** case they take only two values. Linear regression will fail here because the MSE cost function is not suited for this purpose. For example imbalanced classes will have a disproportionate effect on our weights. \n",
        "\n",
        "Logistic regression differs in that predicted values are mapped to a number between [0,1] which is the probability of belonging to a specific class. \n",
        "\n",
        "This is done with the **sigmoid function**. We choose a **threshold in our model of 1/2** to determine which class an item belongs to using weights we find using the data based on some attributes."
      ]
    },
    {
      "cell_type": "markdown",
      "metadata": {
        "id": "xXx5SzYpI-fB"
      },
      "source": [
        "$$\n",
        "\\sigma( w^T x + b) = \\frac{1}{1 + e^{-(w^T x + b)}}\n",
        "$$"
      ]
    },
    {
      "cell_type": "code",
      "metadata": {
        "collapsed": true,
        "id": "RpsngG3nI-fC"
      },
      "source": [
        "# sigmoid function \n",
        "\n",
        "def sigmoid(t):\n",
        "    s = 1/(1+np.exp(-t))\n",
        "    return s\n",
        "    raise NotImplementedError           "
      ],
      "execution_count": null,
      "outputs": []
    },
    {
      "cell_type": "markdown",
      "metadata": {
        "id": "lLtYRy1gI-fF"
      },
      "source": [
        "The loss function of MSE is unsuitable, a new function for the logistic regression is derived using the **Maximum likelihood estimation technique**. \n",
        "\n",
        "The analytic method we use for linear regression is no longer possible (not that this is advisable even when it is possible, numerical methods are preferred), we cannot write a formulae to minimize the loss in a closed form this is because of the sigmoid function. For this reason a method where weights are iteratively updated to find the optimum is implemented. \n",
        "\n",
        "The losses are useful to evaluate the performance of our optimization algorithm. Losses can be plot at each iteration to see the convergence and can be used as a visualize check for our learning rate. "
      ]
    },
    {
      "cell_type": "markdown",
      "metadata": {
        "id": "brWwkut4I-fF"
      },
      "source": [
        "$$NLL(w)= - \\sum_{i=1}^{N}\\left[y_i\\log{\\mu_i}+(1-y_i)\\log{(1-\\mu_i)} \\right] $$"
      ]
    },
    {
      "cell_type": "code",
      "metadata": {
        "collapsed": true,
        "id": "pwoUx9F4I-fG"
      },
      "source": [
        "# Loss function \n",
        "\n",
        "def calculate_loss(y, tx, w):   \n",
        "    loss = np.log(1 + np.exp(tx.dot(w))) - y * (tx.dot(w))\n",
        "    Loss = np.mean(loss)\n",
        "    return Loss \n",
        "    raise NotImplementedError"
      ],
      "execution_count": null,
      "outputs": []
    },
    {
      "cell_type": "markdown",
      "metadata": {
        "id": "HF4Rbg7SI-fJ"
      },
      "source": [
        "l2 regularization must be preferred  over standard logistic  regression as it helps avoid overfitting. It means the model we create is less brittle and will perform similarly  on both the testing and training data. \n",
        "\n",
        "Two advance methods that work to minimize bias-variance trade off are mixture models and ensemble learning. \n",
        "The question of selecting the \"correct\" bias term still stands later cross validation will be explored using this alpha can be determined. \n",
        "\n",
        "Minor alterations must be made to our loss and cost functions but in this case they are inconsequential with regards to gradient descent as the regularization term is differentiable. \n",
        "\n",
        "If interested in normal logistic regression simply force the alpha value to 0."
      ]
    },
    {
      "cell_type": "code",
      "metadata": {
        "collapsed": true,
        "id": "MfLMiUj2I-fJ"
      },
      "source": [
        "# Function that returns loss and grad \n",
        "\n",
        "def penalised_logistic_regression(y, tx, w, alpha):\n",
        "    loss = np.log(1 + np.exp(tx.dot(w))) - (y * (tx.dot(w))) + (0.5 * alpha * la.norm(w))\n",
        "    Loss = np.mean(loss)\n",
        "    grad = np.matmul(tx.T,(sigmoid(tx.dot(w))-y)) + alpha*w\n",
        "    return Loss, grad\n",
        "    raise NotImplementedError"
      ],
      "execution_count": null,
      "outputs": []
    },
    {
      "cell_type": "markdown",
      "metadata": {
        "id": "C9qfC6-tI-fO"
      },
      "source": [
        "$$ g = \\frac{d}{dw}f(w) = \\sum_{i}(\\mu_i-y_i)x_i=X^T(\\mu-y)   $$"
      ]
    },
    {
      "cell_type": "markdown",
      "metadata": {
        "id": "zbOCIx7RI-fP"
      },
      "source": [
        "The weights iteratively update via the method of gradient descent\n",
        "\n",
        "The negative derivative of the loss function is our search direction. This is the simplest method in convex optimization and guarantees global convergence under some conditions (differentiability and Lipchitz continuousness).\n",
        "\n",
        "Choosing the hyperparameter of the learning rate is a non-trivial task when using gradient descent.\n",
        "\n",
        "There are several techniques such as the the method of exact line search to find this value. We could also use the heavy ball method which includes a momentum term that increases the rate of convergence as it decreases zigzagging to find the learning rate. Here trial and error is used. "
      ]
    },
    {
      "cell_type": "code",
      "metadata": {
        "collapsed": true,
        "id": "RUjhLjWzI-fP"
      },
      "source": [
        "# One update of the gradient descent algorithm\n",
        "\n",
        "def learning_by_penalised_gradient(y, tx, w, tau, alpha):\n",
        "    loss,grad = penalised_logistic_regression(y, tx, w, alpha)\n",
        "    w = w - tau*(grad)\n",
        "    return loss, w"
      ],
      "execution_count": null,
      "outputs": []
    },
    {
      "cell_type": "markdown",
      "metadata": {
        "id": "Z8Xguwr3I-fU"
      },
      "source": [
        "The initial weights for the model are 0 but they can start from a random number. Also selected is a threshold value such that if the difference between two successive iterations is not met the iterations continue until some max iterations that we specifiy. "
      ]
    },
    {
      "cell_type": "code",
      "metadata": {
        "collapsed": true,
        "id": "35Tn1xpoI-fW"
      },
      "source": [
        "# Regularized logistic regression\n",
        "\n",
        "def logistic_regression_penalised_gradient_descent(y, tx, alpha): # ridge_regression\n",
        "    # init parameters\n",
        "    max_iter = 10000\n",
        "    tau = 0.01\n",
        "    threshold = 1e-8\n",
        "    losses = []\n",
        "    w = np.zeros((tx.shape[1], 1))\n",
        "\n",
        "    # start the logistic regression\n",
        "    for iter in range(max_iter):\n",
        "        # get loss and update w.\n",
        "        loss, w = learning_by_penalised_gradient(y, tx, w, tau, alpha)    \n",
        "        \n",
        "        losses.append(loss)\n",
        "        if len(losses) > 1 and np.abs(losses[-1] - losses[-2]) < threshold:\n",
        "            break\n",
        "    return w"
      ],
      "execution_count": null,
      "outputs": []
    },
    {
      "cell_type": "markdown",
      "metadata": {
        "id": "PAYKkCBNI-fd"
      },
      "source": [
        "The accuracy (more accurately misclassification rate) is calculated. This is not the only metric which is important, in fact it is very poor and affected by imbalanced classes and other issues,  measures such as precision and recall are far more useful but here the models performance is considered solely  on the basis of its predictive ability. \n",
        "\n",
        "Identifying the effects of individual attributes is also possible but one would need to consider subsets of all features.  "
      ]
    },
    {
      "cell_type": "code",
      "metadata": {
        "collapsed": true,
        "id": "T0lR4NgfI-fd"
      },
      "source": [
        "# Function to calculate the accuracy of our classifier with 0.5 decision boundary \n",
        "\n",
        "def compute_accuracy(y, tx, w):\n",
        "       \n",
        "        est_y = np.array(sigmoid(tx.dot(w)))\n",
        "        \n",
        "        est_y = est_y > 0.5\n",
        "        est_y = est_y.astype(int)\n",
        "        \n",
        "        acc_y = est_y == y\n",
        "        acc_y = acc_y.astype(int)\n",
        "        \n",
        "        len_y = float(len(y))\n",
        "        accuracy = sum(acc_y)\n",
        "        \n",
        "        accuracy = accuracy/len_y\n",
        "       \n",
        "        return accuracy"
      ],
      "execution_count": null,
      "outputs": []
    },
    {
      "cell_type": "code",
      "metadata": {
        "collapsed": true,
        "id": "y7eHpEsjI-fh"
      },
      "source": [
        "# Function to calculate the confusion matrix \n",
        "# Calculate the the number of false positive, false negative , true positive, true negative \n",
        "# Then package into a numpy array\n",
        "\n",
        "def compute_tp(y,tx,w):\n",
        "     \n",
        "        est_y = np.array(sigmoid(tx.dot(w)))\n",
        "        \n",
        "        est_y = est_y > 0.5\n",
        "        est_y = est_y.astype(int)\n",
        "        tp = est_y + y\n",
        "        tp = tp == 2\n",
        "        tp = tp.astype(int)\n",
        "        tp = sum(tp)\n",
        "           \n",
        "        return tp \n",
        "    \n",
        "def compute_tn(y,tx,w):\n",
        "     \n",
        "        est_y = np.array(sigmoid(tx.dot(w)))\n",
        "        \n",
        "        est_y = est_y > 0.5\n",
        "        est_y = est_y.astype(int)\n",
        "        tn = est_y + y\n",
        "        tn = tn == 0\n",
        "        tn = tn.astype(int)     \n",
        "        tn = sum(tn)\n",
        "            \n",
        "        return tn     \n",
        "\n",
        "def compute_fn(y,tx,w):\n",
        "    \n",
        "        est_y = np.array(sigmoid(tx.dot(w)))\n",
        "        \n",
        "        est_y = est_y > 0.5\n",
        "        est_y = est_y.astype(int)\n",
        "        fn1 = est_y == 0\n",
        "        fn2 = y == 1\n",
        "        fn1 = fn1.astype(int)       \n",
        "        fn2 = fn2.astype(int)\n",
        "        fn = fn1 + fn2\n",
        "        fn = fn == 2\n",
        "        fn = sum(fn)\n",
        "        \n",
        "        return fn\n",
        "    \n",
        "def compute_fp(y,tx,w):\n",
        "    \n",
        "        est_y = np.array(sigmoid(tx.dot(w)))\n",
        "        \n",
        "        est_y = est_y > 0.5\n",
        "        est_y = est_y.astype(int)\n",
        "        fp1 = est_y == 1\n",
        "        fp2 = y == 0\n",
        "        fp1 = fp1.astype(int)       \n",
        "        fp2 = fp2.astype(int)\n",
        "        fp = fp1 + fp2\n",
        "        fp = fp == 2\n",
        "        fp = sum(fp)\n",
        "        \n",
        "        return fp\n",
        "    \n",
        "def confusion(y,tx,w):\n",
        "        tp = compute_tp(y,tx,w) \n",
        "        tn = compute_tn(y,tx,w)\n",
        "        fn = compute_fn(y,tx,w)\n",
        "        fp = compute_fp(y,tx,w)\n",
        "        confusion = np.array([tp,fp,fn,tn])\n",
        "        confusion = confusion.reshape(2,2)\n",
        "        return confusion \n",
        "        \n"
      ],
      "execution_count": null,
      "outputs": []
    },
    {
      "cell_type": "markdown",
      "metadata": {
        "id": "J6EGYDGrI-fl"
      },
      "source": [
        "Hyperparameters are the model parameters which cannot be learned from the data. \n",
        "\n",
        "Using ridge regression we hope to find the optimal parameters by considering the variance - bias trade off this is a significant part in many models. The regularization term helps achieve this essentially the function should be of the correct complexity to capture the relationship between predictor class id but without fitting to the random noise. \n",
        "\n",
        "Here we just use grid search to find the optimal value of alpha. What is important is that we are looking in the correct range it is likely here we are not. \n",
        "\n",
        "There are several techniques including advance genetic algorithms as well as calculating values for pairs of hyperparameters usually in a grid form that should be explored. \n"
      ]
    },
    {
      "cell_type": "code",
      "metadata": {
        "collapsed": true,
        "id": "D51H2Ga2I-fm"
      },
      "source": [
        "def ridge_regression_demo(x, y, degree, ratio, seed):\n",
        "    \"\"\"ridge regression demo.\"\"\"\n",
        "    \n",
        "    # define parameter\n",
        "    alphas = np.logspace(-5, 0, 15)\n",
        "    \n",
        "    # split data\n",
        "    x_tr, x_te, y_tr, y_te = split_data(x, y, ratio, seed)\n",
        "    \n",
        "    # form tx\n",
        "    tx_tr = build_poly(x_tr, degree)\n",
        "    tx_te = build_poly(x_te, degree)\n",
        "    \n",
        "    # ridge regression with different lambda\n",
        "    acc_tr = []\n",
        "    acc_te = []\n",
        "    weights = [] \n",
        "    \n",
        "    for ind, alpha in enumerate(alphas):\n",
        "       \n",
        "    # ridge regression\n",
        "        weight = logistic_regression_penalised_gradient_descent(y_tr, tx_tr, alpha)\n",
        "        acc_tr.append(compute_accuracy(y_tr, tx_tr, weight))\n",
        "        acc_te.append(compute_accuracy(y_te, tx_te, weight))\n",
        "        weights.append(weight)\n",
        "        weight_optimal = weights[np.argmax(acc_te)]\n",
        "  \n",
        "    return np.c_[np.array(acc_tr),np.array(acc_te),alphas], weight_optimal,confusion(y_te,tx_te,weight_optimal)"
      ],
      "execution_count": null,
      "outputs": []
    },
    {
      "cell_type": "code",
      "metadata": {
        "collapsed": true,
        "id": "Qlq7qcKwI-fp"
      },
      "source": [
        "# Additional function that was created due to a problem encountered in the notebook not encountered in spyder \n",
        "\n",
        "def ridge_regression_demon(x, y, degree, ratio, seed):\n",
        "    \"\"\"ridge regression demo.\"\"\"\n",
        "    \n",
        "    # define parameter\n",
        "    alphas = np.logspace(-5, 0, 15)\n",
        "    \n",
        "    # split data\n",
        "    x_tr, x_te, y_tr, y_te = split_data(x, y, ratio, seed)\n",
        "    \n",
        "    # form tx\n",
        "    tx_tr = build_poly(x_tr, degree)\n",
        "    tx_te = build_poly(x_te, degree)\n",
        "    \n",
        "    # ridge regression with different lambda\n",
        "    acc_tr = []\n",
        "    acc_te = []\n",
        "    weights = [] \n",
        "    \n",
        "    for ind, alpha in enumerate(alphas):\n",
        "       \n",
        "    # ridge regression\n",
        "        weight = logistic_regression_penalised_gradient_descent(y_tr, tx_tr, alpha)\n",
        "        acc_tr.append(compute_accuracy(y_tr, tx_tr, weight))\n",
        "        acc_te.append(compute_accuracy(y_te, tx_te, weight))\n",
        "        weights.append(weight)\n",
        "        weight_optimal = weights[np.argmax(acc_te)]\n",
        "  \n",
        "    return np.c_[np.array(acc_tr),np.array(acc_te),alphas], weight_optimal,compute_accuracy(y_te,tx_te,weight_optimal)"
      ],
      "execution_count": null,
      "outputs": []
    },
    {
      "cell_type": "markdown",
      "metadata": {
        "collapsed": true,
        "id": "vUz6TUrsI-fr"
      },
      "source": [
        "## 1.6 Evaluation / Accuracy"
      ]
    },
    {
      "cell_type": "markdown",
      "metadata": {
        "id": "WcqW_nKNI-fs"
      },
      "source": [
        "**Test model and adjust the hyperparameters to get the best misclassification rate**. Increasing model complexity has little effect of the models accuracy. The polynomial basis function of degree one seems to work best. \n",
        "\n",
        "Refining of the hyperparaters is time consuming and given the limited benefit it can be concluded that time spent better preparing the data, extracting more useful features or even collecting more where possible. \n",
        "\n",
        "Selecting the value of alpha correctly **should** prevent overfitting of the data. "
      ]
    },
    {
      "cell_type": "markdown",
      "metadata": {
        "id": "5tBRmz-jI-fs"
      },
      "source": [
        "### READ ME\n",
        "\n",
        "The values in the code snippet below will not update unless you choose to **restart and run all**\n",
        "SEE BELOW\n"
      ]
    },
    {
      "cell_type": "code",
      "metadata": {
        "id": "_bb8xOQqI-ft",
        "outputId": "304bb523-fc43-4df8-bd40-e46b91cec1b1"
      },
      "source": [
        "# Do not use this unless you run the notebook from the start \n",
        "\n",
        "seed = 143          # Seed value allows us to reproduce our results\n",
        "degree = 1          # Degree of the polynomial\n",
        "split_ratio = 0.9   # Testing training split \n",
        "\n",
        "res,weight_optimal,confusion = ridge_regression_demo(x, y, degree, split_ratio, seed)\n",
        "res # 1st column training acc 2nd test acc 3rd alpha value"
      ],
      "execution_count": null,
      "outputs": [
        {
          "output_type": "execute_result",
          "data": {
            "text/plain": [
              "array([[  7.38095238e-01,   8.20224719e-01,   1.00000000e-05],\n",
              "       [  7.38095238e-01,   8.20224719e-01,   2.27584593e-05],\n",
              "       [  7.38095238e-01,   8.20224719e-01,   5.17947468e-05],\n",
              "       [  7.38095238e-01,   8.20224719e-01,   1.17876863e-04],\n",
              "       [  7.38095238e-01,   8.20224719e-01,   2.68269580e-04],\n",
              "       [  7.38095238e-01,   8.20224719e-01,   6.10540230e-04],\n",
              "       [  7.38095238e-01,   8.20224719e-01,   1.38949549e-03],\n",
              "       [  7.38095238e-01,   8.20224719e-01,   3.16227766e-03],\n",
              "       [  7.38095238e-01,   8.20224719e-01,   7.19685673e-03],\n",
              "       [  7.38095238e-01,   8.20224719e-01,   1.63789371e-02],\n",
              "       [  7.38095238e-01,   8.20224719e-01,   3.72759372e-02],\n",
              "       [  7.36842105e-01,   8.20224719e-01,   8.48342898e-02],\n",
              "       [  7.36842105e-01,   8.20224719e-01,   1.93069773e-01],\n",
              "       [  7.35588972e-01,   8.20224719e-01,   4.39397056e-01],\n",
              "       [  7.30576441e-01,   8.20224719e-01,   1.00000000e+00]])"
            ]
          },
          "metadata": {
            "tags": []
          },
          "execution_count": 40
        }
      ]
    },
    {
      "cell_type": "markdown",
      "metadata": {
        "id": "TVqJfSKUI-fx"
      },
      "source": [
        "The sign of the optimal weights shows how each attributes contributes to the probability of surviving the accident:\n",
        "* **Negative value for the age** shows the **older the passenger the less probability he/she had to survive**\n",
        "* For **Siblings and Parents also has negative value**, so the **more relative the passenger had, the less probability he/she had to survive**\n",
        "* **Fare had positive value**, so the **more the ticket cost, the more chance he/she had to survive**\n",
        "* **Negative value** for gender means **female had better chance to survive** (since gender=0 is female)\n",
        "*  For travel class, our model predicts, that the **higher class you travel in the higher chance you survive**.\n",
        "\n",
        "These results are in accordance with the explanatory data analysis. "
      ]
    },
    {
      "cell_type": "code",
      "metadata": {
        "id": "sqJVG3NBI-fx",
        "outputId": "28b59202-0474-4c67-939e-06687cb7b1f4"
      },
      "source": [
        "# Optimal weight\n",
        "weight_optimal"
      ],
      "execution_count": null,
      "outputs": [
        {
          "output_type": "execute_result",
          "data": {
            "text/plain": [
              "array([[-0.62722969],\n",
              "       [-0.42325944],\n",
              "       [-0.74256709],\n",
              "       [-0.33392409],\n",
              "       [ 0.18696559],\n",
              "       [-1.27346298],\n",
              "       [-0.24563836],\n",
              "       [-1.6382981 ]])"
            ]
          },
          "metadata": {
            "tags": []
          },
          "execution_count": 41
        }
      ]
    },
    {
      "cell_type": "code",
      "metadata": {
        "id": "Qjcwx5llI-f0",
        "outputId": "d043e7bb-3093-46f0-c42a-b7710e7e1680"
      },
      "source": [
        "# Confusion matrix\n",
        "confusion "
      ],
      "execution_count": null,
      "outputs": [
        {
          "output_type": "execute_result",
          "data": {
            "text/plain": [
              "array([[24, 10],\n",
              "       [ 6, 49]])"
            ]
          },
          "metadata": {
            "tags": []
          },
          "execution_count": 42
        }
      ]
    },
    {
      "cell_type": "markdown",
      "metadata": {
        "id": "DRLNAgudI-f4"
      },
      "source": [
        "The confusion matrix. A special type of contingency table. From here quantities used in statistical  tests can be calculated such as, precision, recall and f value.  "
      ]
    },
    {
      "cell_type": "markdown",
      "metadata": {
        "id": "EW0zhaQzI-f4"
      },
      "source": [
        "### READ ME\n",
        "\n",
        "The values in the code snippet below will update without restarting the kernal"
      ]
    },
    {
      "cell_type": "code",
      "metadata": {
        "id": "mQROBBg_I-f6",
        "outputId": "b429b018-81f6-4419-b60a-60836b8cbf59"
      },
      "source": [
        "# If you wish to change values use this function it will update\n",
        "\n",
        "seed = 145          # Seed value allows us to reproduce our results\n",
        "degree = 1          # Degree of the polynomial\n",
        "split_ratio = 0.9   # Testing training split \n",
        "\n",
        "res,weight_optimal,accuracy = ridge_regression_demon(x, y, degree, split_ratio, seed)\n",
        "res # 1st column training acc 2nd test acc 3rd alpha value"
      ],
      "execution_count": null,
      "outputs": [
        {
          "output_type": "execute_result",
          "data": {
            "text/plain": [
              "array([[  7.46867168e-01,   7.41573034e-01,   1.00000000e-05],\n",
              "       [  7.46867168e-01,   7.41573034e-01,   2.27584593e-05],\n",
              "       [  7.46867168e-01,   7.41573034e-01,   5.17947468e-05],\n",
              "       [  7.46867168e-01,   7.41573034e-01,   1.17876863e-04],\n",
              "       [  7.46867168e-01,   7.41573034e-01,   2.68269580e-04],\n",
              "       [  7.46867168e-01,   7.41573034e-01,   6.10540230e-04],\n",
              "       [  7.46867168e-01,   7.41573034e-01,   1.38949549e-03],\n",
              "       [  7.46867168e-01,   7.41573034e-01,   3.16227766e-03],\n",
              "       [  7.46867168e-01,   7.41573034e-01,   7.19685673e-03],\n",
              "       [  7.46867168e-01,   7.41573034e-01,   1.63789371e-02],\n",
              "       [  7.46867168e-01,   7.41573034e-01,   3.72759372e-02],\n",
              "       [  7.46867168e-01,   7.41573034e-01,   8.48342898e-02],\n",
              "       [  7.45614035e-01,   7.30337079e-01,   1.93069773e-01],\n",
              "       [  7.38095238e-01,   7.30337079e-01,   4.39397056e-01],\n",
              "       [  7.34335840e-01,   7.19101124e-01,   1.00000000e+00]])"
            ]
          },
          "metadata": {
            "tags": []
          },
          "execution_count": 43
        }
      ]
    },
    {
      "cell_type": "code",
      "metadata": {
        "id": "sCKXwVulI-f8",
        "outputId": "13897254-9148-4910-ff22-6f7863213921"
      },
      "source": [
        "# Accuracy\n",
        "accuracy"
      ],
      "execution_count": null,
      "outputs": [
        {
          "output_type": "execute_result",
          "data": {
            "text/plain": [
              "array([ 0.74157303])"
            ]
          },
          "metadata": {
            "tags": []
          },
          "execution_count": 44
        }
      ]
    },
    {
      "cell_type": "code",
      "metadata": {
        "id": "poxOVEioI-gA",
        "outputId": "3cfa132a-d0f3-411c-df95-684576193989"
      },
      "source": [
        "# Optimal weight\n",
        "weight_optimal"
      ],
      "execution_count": null,
      "outputs": [
        {
          "output_type": "execute_result",
          "data": {
            "text/plain": [
              "array([[-0.57049938],\n",
              "       [-0.38783146],\n",
              "       [-0.73905477],\n",
              "       [-0.29267848],\n",
              "       [ 0.31295878],\n",
              "       [-1.27285398],\n",
              "       [-0.23408539],\n",
              "       [-1.590352  ]])"
            ]
          },
          "metadata": {
            "tags": []
          },
          "execution_count": 45
        }
      ]
    },
    {
      "cell_type": "markdown",
      "metadata": {
        "id": "2rsiVlRXI-gF"
      },
      "source": [
        "When evaluating our models accuracy it is useful to consider the accuracy of an untrained model. Most people die so an accuracy of around 62 % should be expected (accuracy of an untrained model). \n",
        "\n",
        "Using a linear classifier of this nature with such data preparation while the accuracy will vary from sample to \n",
        "sample but something around 80% can be expected. "
      ]
    },
    {
      "cell_type": "markdown",
      "metadata": {
        "id": "0VnulxCfI-gF"
      },
      "source": [
        "Feature selection is an important part of model building at this early stage to include all the variables as the tools and knowledge to reliably choose and make judgements about which attributes  are significant are beyond the scope of this task. \n",
        "\n",
        "A possible next step is to use a method where feature selection is part of the algorithm such as the L1 regularization  or lasso. \n",
        "L1 regularization makes use of sparsity to indicate to use which features  are significant in our model. \n",
        "\n",
        "There are a large number of possible  combinations of features $2^n$ where n is the number of features for a small number we can see selecting a subset of features using an exhaustive  search will not be computationally  tractable. \n",
        "\n",
        "One can consider the statistical significance of features but these will change depending on the features they appear alongside. This further demonstrates the inexact nature of machine learning and why it is reliant on heuristics and metaheuristics. "
      ]
    },
    {
      "cell_type": "markdown",
      "metadata": {
        "id": "aHVFzyXzI-gG"
      },
      "source": [
        "Advanced optimization methods we could use instead of gradient descent is the faster converging newton method however due to numerical instability  of inversion stochastic gradient descent and variations of it such as adam and rmsprop are commonly used. Some of these adaptively change  the learning rate. With these however there is no guarantee of convergence and a choice of the other hyperparameters is still required. As model and algorithm complexity is increased it becomes harder to understand and interpret the model we are using. Using a simple model in most cases is best.  "
      ]
    },
    {
      "cell_type": "markdown",
      "metadata": {
        "id": "b2_lx1goI-gG"
      },
      "source": [
        "An interesting idea in computation is the no free lunch theorem. It summarises many of the difficulties faced in machine learning and why selecting the correct model and parameters is seen to be more an art than an exact science."
      ]
    },
    {
      "cell_type": "markdown",
      "metadata": {
        "id": "Bpp-vPUWI-gG"
      },
      "source": [
        "To conclude logistic regression was used to solve a binary classification problem. Difficulties were faced mainly in determining the appropriate hyperparameters and feature selection, possible solutions to both have been outlined in the body of the report.  "
      ]
    },
    {
      "cell_type": "code",
      "metadata": {
        "id": "AjQRX36gI-gJ"
      },
      "source": [
        ""
      ],
      "execution_count": null,
      "outputs": []
    }
  ]
}