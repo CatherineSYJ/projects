{
  "nbformat": 4,
  "nbformat_minor": 0,
  "metadata": {
    "kernelspec": {
      "name": "python3",
      "display_name": "Python 3"
    },
    "language_info": {
      "codemirror_mode": {
        "name": "ipython",
        "version": 3
      },
      "file_extension": ".py",
      "mimetype": "text/x-python",
      "name": "python",
      "nbconvert_exporter": "python",
      "pygments_lexer": "ipython3",
      "version": "3.7.3"
    },
    "colab": {
      "name": "cifar10 and adversarial attack.ipynb",
      "provenance": [],
      "collapsed_sections": []
    },
    "accelerator": "GPU",
    "widgets": {
      "application/vnd.jupyter.widget-state+json": {
        "d7d6d3fe66874e088df22dbf7309d0cf": {
          "model_module": "@jupyter-widgets/controls",
          "model_name": "HBoxModel",
          "state": {
            "_view_name": "HBoxView",
            "_dom_classes": [],
            "_model_name": "HBoxModel",
            "_view_module": "@jupyter-widgets/controls",
            "_model_module_version": "1.5.0",
            "_view_count": null,
            "_view_module_version": "1.5.0",
            "box_style": "",
            "layout": "IPY_MODEL_41846fb076314eafb65d1aaf5b1f6e1b",
            "_model_module": "@jupyter-widgets/controls",
            "children": [
              "IPY_MODEL_b79adb5698144ba6b01ca434c5d41d95",
              "IPY_MODEL_ee5edf32e9ce4fb8bc3b5784c6a26e2b"
            ]
          }
        },
        "41846fb076314eafb65d1aaf5b1f6e1b": {
          "model_module": "@jupyter-widgets/base",
          "model_name": "LayoutModel",
          "state": {
            "_view_name": "LayoutView",
            "grid_template_rows": null,
            "right": null,
            "justify_content": null,
            "_view_module": "@jupyter-widgets/base",
            "overflow": null,
            "_model_module_version": "1.2.0",
            "_view_count": null,
            "flex_flow": null,
            "width": null,
            "min_width": null,
            "border": null,
            "align_items": null,
            "bottom": null,
            "_model_module": "@jupyter-widgets/base",
            "top": null,
            "grid_column": null,
            "overflow_y": null,
            "overflow_x": null,
            "grid_auto_flow": null,
            "grid_area": null,
            "grid_template_columns": null,
            "flex": null,
            "_model_name": "LayoutModel",
            "justify_items": null,
            "grid_row": null,
            "max_height": null,
            "align_content": null,
            "visibility": null,
            "align_self": null,
            "height": null,
            "min_height": null,
            "padding": null,
            "grid_auto_rows": null,
            "grid_gap": null,
            "max_width": null,
            "order": null,
            "_view_module_version": "1.2.0",
            "grid_template_areas": null,
            "object_position": null,
            "object_fit": null,
            "grid_auto_columns": null,
            "margin": null,
            "display": null,
            "left": null
          }
        },
        "b79adb5698144ba6b01ca434c5d41d95": {
          "model_module": "@jupyter-widgets/controls",
          "model_name": "IntProgressModel",
          "state": {
            "_view_name": "ProgressView",
            "style": "IPY_MODEL_cdaa26a9a1164966b51d0bb3b536118e",
            "_dom_classes": [],
            "description": "",
            "_model_name": "IntProgressModel",
            "bar_style": "success",
            "max": 1,
            "_view_module": "@jupyter-widgets/controls",
            "_model_module_version": "1.5.0",
            "value": 1,
            "_view_count": null,
            "_view_module_version": "1.5.0",
            "orientation": "horizontal",
            "min": 0,
            "description_tooltip": null,
            "_model_module": "@jupyter-widgets/controls",
            "layout": "IPY_MODEL_18a54bc061bc4ee783c137fc9c4b16f1"
          }
        },
        "ee5edf32e9ce4fb8bc3b5784c6a26e2b": {
          "model_module": "@jupyter-widgets/controls",
          "model_name": "HTMLModel",
          "state": {
            "_view_name": "HTMLView",
            "style": "IPY_MODEL_188179b0630e4ebe9e468a6b08dc11a6",
            "_dom_classes": [],
            "description": "",
            "_model_name": "HTMLModel",
            "placeholder": "​",
            "_view_module": "@jupyter-widgets/controls",
            "_model_module_version": "1.5.0",
            "value": "170500096it [00:06, 27389620.23it/s]",
            "_view_count": null,
            "_view_module_version": "1.5.0",
            "description_tooltip": null,
            "_model_module": "@jupyter-widgets/controls",
            "layout": "IPY_MODEL_57f69c956a5941f690397a8a5b088368"
          }
        },
        "cdaa26a9a1164966b51d0bb3b536118e": {
          "model_module": "@jupyter-widgets/controls",
          "model_name": "ProgressStyleModel",
          "state": {
            "_view_name": "StyleView",
            "_model_name": "ProgressStyleModel",
            "description_width": "",
            "_view_module": "@jupyter-widgets/base",
            "_model_module_version": "1.5.0",
            "_view_count": null,
            "_view_module_version": "1.2.0",
            "bar_color": null,
            "_model_module": "@jupyter-widgets/controls"
          }
        },
        "18a54bc061bc4ee783c137fc9c4b16f1": {
          "model_module": "@jupyter-widgets/base",
          "model_name": "LayoutModel",
          "state": {
            "_view_name": "LayoutView",
            "grid_template_rows": null,
            "right": null,
            "justify_content": null,
            "_view_module": "@jupyter-widgets/base",
            "overflow": null,
            "_model_module_version": "1.2.0",
            "_view_count": null,
            "flex_flow": null,
            "width": null,
            "min_width": null,
            "border": null,
            "align_items": null,
            "bottom": null,
            "_model_module": "@jupyter-widgets/base",
            "top": null,
            "grid_column": null,
            "overflow_y": null,
            "overflow_x": null,
            "grid_auto_flow": null,
            "grid_area": null,
            "grid_template_columns": null,
            "flex": null,
            "_model_name": "LayoutModel",
            "justify_items": null,
            "grid_row": null,
            "max_height": null,
            "align_content": null,
            "visibility": null,
            "align_self": null,
            "height": null,
            "min_height": null,
            "padding": null,
            "grid_auto_rows": null,
            "grid_gap": null,
            "max_width": null,
            "order": null,
            "_view_module_version": "1.2.0",
            "grid_template_areas": null,
            "object_position": null,
            "object_fit": null,
            "grid_auto_columns": null,
            "margin": null,
            "display": null,
            "left": null
          }
        },
        "188179b0630e4ebe9e468a6b08dc11a6": {
          "model_module": "@jupyter-widgets/controls",
          "model_name": "DescriptionStyleModel",
          "state": {
            "_view_name": "StyleView",
            "_model_name": "DescriptionStyleModel",
            "description_width": "",
            "_view_module": "@jupyter-widgets/base",
            "_model_module_version": "1.5.0",
            "_view_count": null,
            "_view_module_version": "1.2.0",
            "_model_module": "@jupyter-widgets/controls"
          }
        },
        "57f69c956a5941f690397a8a5b088368": {
          "model_module": "@jupyter-widgets/base",
          "model_name": "LayoutModel",
          "state": {
            "_view_name": "LayoutView",
            "grid_template_rows": null,
            "right": null,
            "justify_content": null,
            "_view_module": "@jupyter-widgets/base",
            "overflow": null,
            "_model_module_version": "1.2.0",
            "_view_count": null,
            "flex_flow": null,
            "width": null,
            "min_width": null,
            "border": null,
            "align_items": null,
            "bottom": null,
            "_model_module": "@jupyter-widgets/base",
            "top": null,
            "grid_column": null,
            "overflow_y": null,
            "overflow_x": null,
            "grid_auto_flow": null,
            "grid_area": null,
            "grid_template_columns": null,
            "flex": null,
            "_model_name": "LayoutModel",
            "justify_items": null,
            "grid_row": null,
            "max_height": null,
            "align_content": null,
            "visibility": null,
            "align_self": null,
            "height": null,
            "min_height": null,
            "padding": null,
            "grid_auto_rows": null,
            "grid_gap": null,
            "max_width": null,
            "order": null,
            "_view_module_version": "1.2.0",
            "grid_template_areas": null,
            "object_position": null,
            "object_fit": null,
            "grid_auto_columns": null,
            "margin": null,
            "display": null,
            "left": null
          }
        }
      }
    }
  },
  "cells": [
    {
      "cell_type": "markdown",
      "metadata": {
        "id": "06E-vqbxU6I0"
      },
      "source": [
        "###Adversarial Attacks###\n",
        "\n",
        "In this report Adversarial Attacks on Neural Networks are considered. \n",
        "\n",
        "- Initially three models are trained using common Convolutional Neural Network architectures. \n",
        "\n",
        "- Then using the resulting weights the Fast Gradient Sign Method is implemented.\n",
        "\n",
        "- The results are then compared for different levels of pertubation for all three architectures. \n"
      ]
    },
    {
      "cell_type": "code",
      "metadata": {
        "id": "wkSnNVhA6Fg7",
        "outputId": "24bcaa8e-b9d6-4e54-cace-886fc7bee6c7",
        "colab": {
          "base_uri": "https://localhost:8080/",
          "height": 36
        }
      },
      "source": [
        "import os\n",
        "from google.colab import drive\n",
        "#drive.mount('/content/gdrive')\n",
        "drive.mount(\"/content/gdrive\", force_remount=True)\n",
        "path = \"/content/gdrive/My Drive/Colab Notebooks\"\n",
        "os.chdir(path)"
      ],
      "execution_count": null,
      "outputs": [
        {
          "output_type": "stream",
          "text": [
            "Mounted at /content/gdrive\n"
          ],
          "name": "stdout"
        }
      ]
    },
    {
      "cell_type": "code",
      "metadata": {
        "id": "33SCqsPCptdY",
        "outputId": "d9b93729-9fdd-4516-c721-0656780360e4",
        "colab": {
          "base_uri": "https://localhost:8080/",
          "height": 92
        }
      },
      "source": [
        "!nvcc --version"
      ],
      "execution_count": null,
      "outputs": [
        {
          "output_type": "stream",
          "text": [
            "nvcc: NVIDIA (R) Cuda compiler driver\n",
            "Copyright (c) 2005-2018 NVIDIA Corporation\n",
            "Built on Sat_Aug_25_21:08:01_CDT_2018\n",
            "Cuda compilation tools, release 10.0, V10.0.130\n"
          ],
          "name": "stdout"
        }
      ]
    },
    {
      "cell_type": "code",
      "metadata": {
        "id": "zH-YddhXqxc8",
        "outputId": "3d05fceb-6bac-4503-d381-297536a7bdef",
        "colab": {
          "base_uri": "https://localhost:8080/",
          "height": 36
        }
      },
      "source": [
        "import os\n",
        "print(os.getcwd())"
      ],
      "execution_count": null,
      "outputs": [
        {
          "output_type": "stream",
          "text": [
            "/content/gdrive/My Drive/Colab Notebooks\n"
          ],
          "name": "stdout"
        }
      ]
    },
    {
      "cell_type": "markdown",
      "metadata": {
        "id": "KXjgsA8EU3NC"
      },
      "source": [
        "Begin by importing the neccassery libraries for defining and training a Neural Network.\n",
        "\n",
        "- Pytorch is the main library for Neural Networks it provides us with the framework for creating our Neural Network architecture and has the useful feature of automatic differentiation useful in the backpropagation algorithm. Along with this it has many other useful functions like we can use different optimizers and change batch sizes and so on. Also we can move the calcuations to the GPU this decreases training time considerably and is one of the breakthroughs for CNNs. \n",
        "\n",
        "- Torchvision is a package that allows us to import datasets that are well known relativily easily and means that we do not need to waste time preprocessing the data and it is ready to to use as input for our model. \n",
        "\n",
        "- Numpy allows us to do the numerical computations effeciently and is needed for all the matrix computations. \n",
        "\n",
        "- Matplotlib is a library that provides with a toolkit for creating visualizations and very useful for displaying images and can be used to display feature maps and filters. "
      ]
    },
    {
      "cell_type": "markdown",
      "metadata": {
        "id": "9byGaFAITBdT"
      },
      "source": [
        "## Importing all the libraries ##"
      ]
    },
    {
      "cell_type": "code",
      "metadata": {
        "id": "rrxStl8xTBdW"
      },
      "source": [
        "# Import libraries \n",
        "import torch\n",
        "from torch import nn\n",
        "import torch.nn.functional as F\n",
        "import torch.optim as optim\n",
        "import torchvision\n",
        "import numpy as np\n",
        "import matplotlib.pyplot as plt\n",
        "from torchsummary import summary"
      ],
      "execution_count": null,
      "outputs": []
    },
    {
      "cell_type": "markdown",
      "metadata": {
        "id": "C9itkLhsTBdZ"
      },
      "source": [
        "### Defining our Neural Net ###\n"
      ]
    },
    {
      "cell_type": "markdown",
      "metadata": {
        "id": "kKiP_scfgVvi"
      },
      "source": [
        "\n",
        "Convolutional Neural Networks are the default choice for computer vision. Why it might be asked another ANN architecture not be used. For instance Multilayer Perceptrons. In such a case the image would need to be flattened this means even a small 28x28 image which has 784 pixels where each pixel is a feature, our input layer needs 784 inputs if we even have a few layers it is evident that the number of connections and thus weights will be quite large and the amount of time that is taken to train such a model will be execesive. \n",
        "\n",
        "Convolutional Neural Nets make use of the heirachical structure of the data in this case images. They are made of low level features like lines which combine together to form shapes. They have many useful feautures that make them suitable for image classification. There structure is not too different from ANNs however there are some key differences namely, the convolutional layer, pooling layers and drop out layers. Each serve a different purpose and together they are very powerful and unrivaled in the area of computer vision. \n",
        "\n",
        "Part of their strength is that the data requires very little preprocessing and the filters learn by themselves the important features this is very different from normal neural nets where they are largely uninterpretible and we can not clearly see what decisions the model is making here we can clearly see in the filters and feature maps what our model \"sees\" and what it uses to identify certain things.  \n",
        "\n",
        "There structure is roughly as follows. An input layer which unlike MLP does not need to be flattened so it can take a 2D input for a greyscale image like MNIST or 3D for a 3 channel image RGB such as CIFAR-10. The output layer has the number of classes. The interesting part is the hidden layers. A Neural Net is convolutional if at least one of its hidden layers is convolutional. What follows a convolutional layer is normally a pooling layer. There are different arrangements and combinations of convolutional and pooling layers, they can even be stacked ontop of eachother. We also have dropout layers they serve the purpose of preventing overfitting by randomly shutting of certain neurons during testing. Before the final layer we then have some fully connected layers and then the output layer which depends on the data in this case softmax for classification. \n",
        "\n",
        "I will now go through each of the different types of layers in detail:\n",
        "\n",
        "- Input Layer \n",
        "\n",
        "This is the first layer in our Neural Net its size is determined by the size of the input. If we limit the discussion to images that the resolution of the image determines the input layer. It is possible the layer be larger say if padding was used. \n",
        "\n",
        "- Convolutional Layer \n",
        "\n",
        "In a CNN at least one of the hidden layers is a convolutional layer. The convolutional layer takes is not fully connected it is connected to a limited number of neurons from the previous layer. This is for several reasons. Images tend to be made up low level feautures which combine together. Therefore it is only neccassery to capture a portion of input which can be combined and used to create high level features at a later stage. CNN's becuase they are not fully connected self regularize. Convolutional layers work by selecting a filter size then finding weights for these filters. \n",
        "\n",
        "- Pooling Layer \n",
        "\n",
        "Pooling layers are similar to Convolutional layers they work by aggregating the output of a layer using some function, the most popular is max pool. This takes the pixel with the highest intensity. This is a dimension reduction technique. \n",
        "\n",
        "- Dropout Layer \n",
        "\n",
        "Dropout layers are used to regulurize our network i.e to stop it from overfitting. It works by stopping the network having an over reliance on any single neuron. It can be implemented in several different ways. We can shut off neurons during the training stage selectivly or we can randomly do this also. \n",
        "\n",
        "- Fully connected regime \n",
        "\n",
        "As part of a CNN's architecture the last layers are usually dense. These final fully connected layers combine all the lower level features found by the convolutional layer. \n",
        "\n",
        "- Output Layer\n",
        "\n",
        "This is the final layer in our network and in a classification problem its size is determined by the number of classes. \n",
        "\n",
        "- Batch Normalization\n",
        "\n",
        "This helps with the problem of exploding and vanishing gradients a problem in deep networks. Batch normalization is often combined with convolutional layers and allows us to use saturating activation functions. \n",
        "\n",
        "Hyperparameters \n",
        "\n",
        "- Stride \n",
        "\n",
        "This determines the change from the input to the output size. \n",
        "\n",
        "- Padding \n",
        "\n",
        "These are extra pixels put around the image to maintain the input and output size at each layer.\n",
        "There is zero padding and just using the nearest value. \n",
        "\n",
        "- filter size \n",
        "\n",
        "The filter size is what a neuron sees some times called the receptive field. \n",
        "\n",
        "Other features\n",
        "\n",
        "- Loss function \n",
        "\n",
        "The loss or cost function penalizes incorrect predictions. We wish to minimize this so the model makes as few mistakes as possible. \n",
        "\n",
        "\n",
        "- Activation function \n",
        "\n",
        "The function like sigmoid or relu that takes a weighted sum as its input then outputs a number. Its choice is very important and should be carefully considered. \n",
        "\n",
        "- Optimizer\n",
        "\n",
        "The optimizer is what helps us to minimize the loss function. Often an anlytic solution does not exist or is computationaly difficult to compute. \n",
        "\n",
        "\n",
        "\n"
      ]
    },
    {
      "cell_type": "markdown",
      "metadata": {
        "id": "U1ynNZXJdkQI"
      },
      "source": [
        "#Net#"
      ]
    },
    {
      "cell_type": "code",
      "metadata": {
        "id": "LW8g_pOAc5lW"
      },
      "source": [
        "# Neural Network Architecture \n",
        "class Net(nn.Module):\n",
        "    def __init__(self):\n",
        "        super(Net, self).__init__()\n",
        "        self.conv1 = nn.Conv2d(3, 64, 3, padding = 1)\n",
        "        self.conv2 = nn.Conv2d(64, 64, 3, padding = 1)\n",
        "        self.conv3 = nn.Conv2d(64, 128, 3, padding = 1)\n",
        "        self.conv4 = nn.Conv2d(128, 128, 3, padding = 1)\n",
        "        self.conv5 = nn.Conv2d(128, 256, 3, padding = 1)\n",
        "        self.conv6 = nn.Conv2d(256, 256, 3, padding = 1)\n",
        "        self.maxpool = nn.MaxPool2d(2, 2)\n",
        "        self.avgpool = nn.AvgPool2d(2, 2)\n",
        "        self.globalavgpool = nn.AvgPool2d(8, 8)\n",
        "        self.bn1 = nn.BatchNorm2d(64)\n",
        "        self.bn2 = nn.BatchNorm2d(128)\n",
        "        self.bn3 = nn.BatchNorm2d(256)\n",
        "        self.dropout50 = nn.Dropout(0.5)\n",
        "        self.dropout10 = nn.Dropout(0.1)\n",
        "        self.fc = nn.Linear(256, 10)\n",
        "\n",
        "# Forward function    \n",
        "    def forward(self, x):\n",
        "        x = F.relu(self.conv1(x))\n",
        "        x = F.relu(self.conv2(x))\n",
        "        x = self.maxpool(x)\n",
        "        x = self.dropout10(x)\n",
        "        x = F.relu(self.conv3(x))\n",
        "        x = F.relu(self.conv4(x))\n",
        "        x = self.avgpool(x)\n",
        "        x = self.dropout10(x)\n",
        "        x = F.relu(self.conv5(x))\n",
        "        x = F.relu(self.conv6(x))\n",
        "        x = self.globalavgpool(x)\n",
        "        x = self.dropout50(x)\n",
        "        x = x.view(x.size(0), -1)\n",
        "        x = self.fc(x)\n",
        "        return x"
      ],
      "execution_count": null,
      "outputs": []
    },
    {
      "cell_type": "markdown",
      "metadata": {
        "id": "MC7E7_z1rD8V"
      },
      "source": [
        "Above is a custom architecture the main feautures of this are \n",
        "\n",
        "- Three stacked convolutional kernals. Stacked convolutional kernals are very useful and serve two main purposes. Dicounting the first layer if we wish to increase the receptive field of a kernal we should stack two layers on top of eachother. Also it adds non-linearity to the model making it more powerful. \n",
        "\n",
        "- Pooling Layers it uses three time average,max and global average pooling. \n",
        "\n",
        "- Uses Relu activation function  this is the default activation function and very fast to compute. It does have some issues but they are mostly addressed by its many variants such as leaky Relu and PRelu\n",
        "\n",
        "- Before the last layer there is a dropout layer to prevent overfitting then the input in flattenend (requires 1D input) so it can be ready for the fully connected layer."
      ]
    },
    {
      "cell_type": "markdown",
      "metadata": {
        "id": "paeK9-tTddtv"
      },
      "source": [
        "#LeNet-5#\n"
      ]
    },
    {
      "cell_type": "code",
      "metadata": {
        "id": "f4D1NJvITBda"
      },
      "source": [
        "# Neural Net architecture for lenet-5\n",
        "class LeNet(nn.Module):\n",
        "    def __init__(self):\n",
        "        super(LeNet, self).__init__()\n",
        "        self.conv1 = nn.Conv2d(3, 6, 5)\n",
        "        self.conv2 = nn.Conv2d(6, 16, 5)\n",
        "        self.fc1   = nn.Linear(16*5*5, 120)\n",
        "        self.fc2   = nn.Linear(120, 84)\n",
        "        self.fc3   = nn.Linear(84, 10)\n",
        "\n",
        "# Forward function \n",
        "    def forward(self, x):\n",
        "        out = F.relu(self.conv1(x))\n",
        "        out = F.max_pool2d(out, 2)\n",
        "        out = F.relu(self.conv2(out))\n",
        "        out = F.max_pool2d(out, 2)\n",
        "        out = out.view(out.size(0), -1)\n",
        "        out = F.relu(self.fc1(out))\n",
        "        out = F.relu(self.fc2(out))\n",
        "        out = self.fc3(out)\n",
        "        return out"
      ],
      "execution_count": null,
      "outputs": []
    },
    {
      "cell_type": "markdown",
      "metadata": {
        "id": "lpKRHHDlrPEP"
      },
      "source": [
        "Above is the architecture of the lenet-5 Neural Net. It is very simple and consists of only a few hidden layers. It is very famous and was used by the banks to check the digits on hand written cheques. "
      ]
    },
    {
      "cell_type": "markdown",
      "metadata": {
        "id": "pqyOxCQydXD8"
      },
      "source": [
        "#ResNet#"
      ]
    },
    {
      "cell_type": "code",
      "metadata": {
        "id": "nKJuyM0bdI9j"
      },
      "source": [
        "# Neural Net architecture for ResNet\n",
        "class BasicBlock(nn.Module):\n",
        "    expansion = 1\n",
        "\n",
        "    def __init__(self, in_planes, planes, stride=1):\n",
        "        super(BasicBlock, self).__init__()\n",
        "        self.conv1 = nn.Conv2d(in_planes, planes, kernel_size=3, stride=stride, padding=1, bias=False)\n",
        "        self.bn1 = nn.BatchNorm2d(planes)\n",
        "        self.conv2 = nn.Conv2d(planes, planes, kernel_size=3, stride=1, padding=1, bias=False)\n",
        "        self.bn2 = nn.BatchNorm2d(planes)\n",
        "\n",
        "        self.shortcut = nn.Sequential()\n",
        "        if stride != 1 or in_planes != self.expansion*planes:\n",
        "            self.shortcut = nn.Sequential(\n",
        "                nn.Conv2d(in_planes, self.expansion*planes, kernel_size=1, stride=stride, bias=False),\n",
        "                nn.BatchNorm2d(self.expansion*planes)\n",
        "            )\n",
        "\n",
        "    def forward(self, x):\n",
        "        out = F.relu(self.bn1(self.conv1(x)))\n",
        "        out = self.bn2(self.conv2(out))\n",
        "        out += self.shortcut(x)\n",
        "        out = F.relu(out)\n",
        "        return out\n",
        "\n",
        "\n",
        "class Bottleneck(nn.Module):\n",
        "    expansion = 4\n",
        "\n",
        "    def __init__(self, in_planes, planes, stride=1):\n",
        "        super(Bottleneck, self).__init__()\n",
        "        self.conv1 = nn.Conv2d(in_planes, planes, kernel_size=1, bias=False)\n",
        "        self.bn1 = nn.BatchNorm2d(planes)\n",
        "        self.conv2 = nn.Conv2d(planes, planes, kernel_size=3, stride=stride, padding=1, bias=False)\n",
        "        self.bn2 = nn.BatchNorm2d(planes)\n",
        "        self.conv3 = nn.Conv2d(planes, self.expansion*planes, kernel_size=1, bias=False)\n",
        "        self.bn3 = nn.BatchNorm2d(self.expansion*planes)\n",
        "\n",
        "        self.shortcut = nn.Sequential()\n",
        "        if stride != 1 or in_planes != self.expansion*planes:\n",
        "            self.shortcut = nn.Sequential(\n",
        "                nn.Conv2d(in_planes, self.expansion*planes, kernel_size=1, stride=stride, bias=False),\n",
        "                nn.BatchNorm2d(self.expansion*planes)\n",
        "            )\n",
        "\n",
        "    def forward(self, x):\n",
        "        out = F.relu(self.bn1(self.conv1(x)))\n",
        "        out = F.relu(self.bn2(self.conv2(out)))\n",
        "        out = self.bn3(self.conv3(out))\n",
        "        out += self.shortcut(x)\n",
        "        out = F.relu(out)\n",
        "        return out\n",
        "\n",
        "\n",
        "class ResNet(nn.Module):\n",
        "    def __init__(self, block, num_blocks, num_classes=10):\n",
        "        super(ResNet, self).__init__()\n",
        "        self.in_planes = 64\n",
        "\n",
        "        self.conv1 = nn.Conv2d(3, 64, kernel_size=3, stride=1, padding=1, bias=False)\n",
        "        self.bn1 = nn.BatchNorm2d(64)\n",
        "        self.layer1 = self._make_layer(block, 64, num_blocks[0], stride=1)\n",
        "        self.layer2 = self._make_layer(block, 128, num_blocks[1], stride=2)\n",
        "        self.layer3 = self._make_layer(block, 256, num_blocks[2], stride=2)\n",
        "        self.layer4 = self._make_layer(block, 512, num_blocks[3], stride=2)\n",
        "        self.linear = nn.Linear(512*block.expansion, num_classes)\n",
        "\n",
        "    def _make_layer(self, block, planes, num_blocks, stride):\n",
        "        strides = [stride] + [1]*(num_blocks-1)\n",
        "        layers = []\n",
        "        for stride in strides:\n",
        "            layers.append(block(self.in_planes, planes, stride))\n",
        "            self.in_planes = planes * block.expansion\n",
        "        return nn.Sequential(*layers)\n",
        "\n",
        "    def forward(self, x):\n",
        "        out = F.relu(self.bn1(self.conv1(x)))\n",
        "        out = self.layer1(out)\n",
        "        out = self.layer2(out)\n",
        "        out = self.layer3(out)\n",
        "        out = self.layer4(out)\n",
        "        out = F.avg_pool2d(out, 4)\n",
        "        out = out.view(out.size(0), -1)\n",
        "        out = self.linear(out)\n",
        "        return out\n",
        "\n",
        "\n",
        "def ResNet18():\n",
        "    return ResNet(BasicBlock, [2,2,2,2])"
      ],
      "execution_count": null,
      "outputs": []
    },
    {
      "cell_type": "markdown",
      "metadata": {
        "id": "McCx0I7LrSxe"
      },
      "source": [
        "This is the ResNet architecture. It is somewhat more complicated then the preceding Networks. Also it is not a simple FeedFoward Network, where layers are only connected to preceeding layers. We have skip layers now. "
      ]
    },
    {
      "cell_type": "markdown",
      "metadata": {
        "id": "xZba06glTBdd"
      },
      "source": [
        "## Define FGSM function"
      ]
    },
    {
      "cell_type": "markdown",
      "metadata": {
        "id": "L6fMf332KLgH"
      },
      "source": [
        "An Adversarial Attack is an attempt to cause a classifier to misclassify an image that it is presented with. Whilst Neural Networks are incredibly powerful and have unrivalled classification rates it is remarkably simple to fool them to misclassify the image they are shown.Part of the problem with Neural Nets is there interpretability.  Humans can perceive things in a way that Neural Nets cannot, but do not think humans cannot be tricked there are numerous illusions that many will be familiar with.  This is a problem if we consider the modern world and AI for example self-driving cars. \n",
        "\n",
        "There are several cases or types of attack that can be considered. For instance are we interested in the output class of the image or do we simply require that the image is misclassified ?\n",
        "\n",
        "Do we have information such as the architecture and weights of the model we wish to fool, or do we just know the output and input classes?\n",
        "\n",
        "The approach we pursue will depend on the answers to the above and are summarised below.\n",
        "Targeted (Here we want to fool the classifier to a specific class) / Untargeted (We do not care about the output class just that it is different from the ground truth) / Black box (Nothing about the model weights or its architecture is known only the corresponding inputs and outputs) / White box (All the details of the model are known) \n",
        "\n",
        "A single channel 28x28 image is made up of 784 pixels each pixel is represented by its intensity 0-255. \n",
        "We wish to fool a classifier subject to the requirement that any alteration that we make to the image be minimal. A norm that penalises changes is needed. Some commonly used are the p norm or l norm. \n",
        "The perturbation applied should be imperceptible, that is a human looking at the image should not be able to see the input has been tampered with.\n",
        "A successful attack is one which fools the classifier without being noticed by the user. \n"
      ]
    },
    {
      "cell_type": "markdown",
      "metadata": {
        "id": "1wdlW53-rYCQ"
      },
      "source": [
        "Here is the fgsm function from the pytorch tutorial. \n",
        "\n",
        "The function takes three arguments the base image epsilon the amount of pertubation and the data_gradient. "
      ]
    },
    {
      "cell_type": "code",
      "metadata": {
        "id": "mPg2dRPMTBde"
      },
      "source": [
        "def fgsm_attack(image, epsilon, data_grad):\n",
        "    # Collect the element-wise sign of the data gradient\n",
        "    sign_data_grad = data_grad.sign()\n",
        "    # Create the perturbed image by adjusting each pixel of the input image\n",
        "    perturbed_image = image + epsilon*sign_data_grad\n",
        "    # Adding clipping to maintain [0,1] range\n",
        "    perturbed_image = torch.clamp(perturbed_image, 0, 1)\n",
        "    # Return the perturbed image\n",
        "    return perturbed_image"
      ],
      "execution_count": null,
      "outputs": []
    },
    {
      "cell_type": "markdown",
      "metadata": {
        "id": "E5GiEiaJTBdh"
      },
      "source": [
        "## Importing Data and Transform"
      ]
    },
    {
      "cell_type": "markdown",
      "metadata": {
        "id": "TK8OvYzlsE3i"
      },
      "source": [
        "Torchvision is used to import the data and is used so that we do not need to worry about the preprocessing of the data. It is a very useful tool especially if you are interested in quickly validating your model using a well known dataset.  \n",
        "\n",
        "Data Augamentation \n",
        "\n",
        "- To train a deep Neural Net a large amount of labelled training data is required in the literature around 100K is an often referenced number. This sometimes is often not possible so data augamentation can be used to artificially increase the size of the training data. This is done by applying transformations, rotations and changing the contrast of images. It can increase the size of the data set by around 50x and makes the network invariant to small changes. It regularizes the model and stops overfitting. \n",
        "\n"
      ]
    },
    {
      "cell_type": "code",
      "metadata": {
        "id": "4XUcEjFWwnH8"
      },
      "source": [
        "import imgaug.augmenters as iaa\n",
        "import numpy as np\n",
        "from torchvision import datasets, transforms\n",
        "from torch.utils.data import DataLoader\n",
        "\n",
        "pic_size = 32\n",
        "aug = iaa.Sequential([\n",
        "        iaa.Affine(\n",
        "        scale=(0.8, 1.2), \n",
        "        rotate=(-5, 5), \n",
        "        order=[0],),\n",
        "        iaa.PadToFixedSize(pic_size, pic_size),\n",
        "        iaa.CropToFixedSize(pic_size, pic_size),\n",
        "        iaa.Sometimes(0.5, iaa.GaussianBlur(sigma=1.0)),\n",
        "        iaa.Sometimes(0.5, iaa.SaltAndPepper(0.06, per_channel=True)),\n",
        "        ])"
      ],
      "execution_count": null,
      "outputs": []
    },
    {
      "cell_type": "code",
      "metadata": {
        "id": "L_OIU2E2wnVq"
      },
      "source": [
        "class CIFAR10_iaa(datasets.CIFAR10):\n",
        "    def __getitem__(self, idx):\n",
        "        pil, target = super().__getitem__(idx)\n",
        "        img = aug(image=np.array(pil)) / 255\n",
        "        return img.transpose((2, 0, 1)), target"
      ],
      "execution_count": null,
      "outputs": []
    },
    {
      "cell_type": "code",
      "metadata": {
        "id": "WPKLx5ioTBdi",
        "outputId": "6f3ba185-2828-4f80-f704-6c0307373c75",
        "colab": {
          "base_uri": "https://localhost:8080/",
          "height": 124,
          "referenced_widgets": [
            "d7d6d3fe66874e088df22dbf7309d0cf",
            "41846fb076314eafb65d1aaf5b1f6e1b",
            "b79adb5698144ba6b01ca434c5d41d95",
            "ee5edf32e9ce4fb8bc3b5784c6a26e2b",
            "cdaa26a9a1164966b51d0bb3b536118e",
            "18a54bc061bc4ee783c137fc9c4b16f1",
            "188179b0630e4ebe9e468a6b08dc11a6",
            "57f69c956a5941f690397a8a5b088368"
          ]
        }
      },
      "source": [
        "from torchvision import datasets, transforms\n",
        "from torch.utils.data import DataLoader\n",
        "\n",
        "# Enter the training and testing batch size \n",
        "train_batch_size = 100\n",
        "test_batch_size = 1\n",
        "\n",
        "# To use autgrad we must convert to tensor\n",
        "transform = transforms.Compose(\n",
        "    [transforms.ToTensor(),])\n",
        "\n",
        "# Import CIFAR10 and specify batch size \n",
        "\n",
        "# Training data\n",
        "trainset = datasets.CIFAR10(root='./data', train=True, download=True, transform=transform)\n",
        "trainloader = DataLoader(trainset, batch_size=train_batch_size, shuffle=True, num_workers=2)\n",
        "\n",
        "# Testing data\n",
        "testset = datasets.CIFAR10(root='./data', train=False, download=True, transform=transform)\n",
        "testloader = DataLoader(testset, batch_size=test_batch_size, shuffle=False, num_workers=2)\n",
        "\n",
        "# Specify the classes in the dataset \n",
        "classes = ('plane', 'car', 'bird', 'cat',\n",
        "           'deer', 'dog', 'frog', 'horse', 'ship', 'truck')"
      ],
      "execution_count": null,
      "outputs": [
        {
          "output_type": "stream",
          "text": [
            "Downloading https://www.cs.toronto.edu/~kriz/cifar-10-python.tar.gz to ./data/cifar-10-python.tar.gz\n"
          ],
          "name": "stdout"
        },
        {
          "output_type": "display_data",
          "data": {
            "application/vnd.jupyter.widget-view+json": {
              "model_id": "d7d6d3fe66874e088df22dbf7309d0cf",
              "version_minor": 0,
              "version_major": 2
            },
            "text/plain": [
              "HBox(children=(IntProgress(value=1, bar_style='info', max=1), HTML(value='')))"
            ]
          },
          "metadata": {
            "tags": []
          }
        },
        {
          "output_type": "stream",
          "text": [
            "\n",
            "Extracting ./data/cifar-10-python.tar.gz to ./data\n",
            "Files already downloaded and verified\n"
          ],
          "name": "stdout"
        }
      ]
    },
    {
      "cell_type": "markdown",
      "metadata": {
        "id": "hiUDjav-TBdm"
      },
      "source": [
        "## Training of model"
      ]
    },
    {
      "cell_type": "markdown",
      "metadata": {
        "id": "fEKwo-zbTBdm"
      },
      "source": [
        "### Init Net and Device"
      ]
    },
    {
      "cell_type": "code",
      "metadata": {
        "id": "JnUi83FXTBdn"
      },
      "source": [
        "# Use the GPU if available to speed up training \n",
        "device = torch.device(\"cuda:0\" if torch.cuda.is_available() else \"cpu\")\n",
        "# device = torch.device(\"cuda:2\")\n",
        "net = Net().train().to(device)\n",
        "lenet = LeNet().train().to(device)\n",
        "resnet = ResNet18().train().to(device)"
      ],
      "execution_count": null,
      "outputs": []
    },
    {
      "cell_type": "markdown",
      "metadata": {
        "id": "dW01rjiSW-EH"
      },
      "source": [
        "###Summary of the architecture for all three networks###"
      ]
    },
    {
      "cell_type": "code",
      "metadata": {
        "id": "LbBhX_FpchHx",
        "outputId": "46747ce5-0357-47b3-a1b8-9d89b02324da",
        "colab": {
          "base_uri": "https://localhost:8080/",
          "height": 503
        }
      },
      "source": [
        "summary(net,(3,32,32))"
      ],
      "execution_count": null,
      "outputs": [
        {
          "output_type": "stream",
          "text": [
            "----------------------------------------------------------------\n",
            "        Layer (type)               Output Shape         Param #\n",
            "================================================================\n",
            "            Conv2d-1           [-1, 64, 32, 32]           1,792\n",
            "            Conv2d-2           [-1, 64, 32, 32]          36,928\n",
            "         MaxPool2d-3           [-1, 64, 16, 16]               0\n",
            "           Dropout-4           [-1, 64, 16, 16]               0\n",
            "            Conv2d-5          [-1, 128, 16, 16]          73,856\n",
            "            Conv2d-6          [-1, 128, 16, 16]         147,584\n",
            "         AvgPool2d-7            [-1, 128, 8, 8]               0\n",
            "           Dropout-8            [-1, 128, 8, 8]               0\n",
            "            Conv2d-9            [-1, 256, 8, 8]         295,168\n",
            "           Conv2d-10            [-1, 256, 8, 8]         590,080\n",
            "        AvgPool2d-11            [-1, 256, 1, 1]               0\n",
            "          Dropout-12            [-1, 256, 1, 1]               0\n",
            "           Linear-13                   [-1, 10]           2,570\n",
            "================================================================\n",
            "Total params: 1,147,978\n",
            "Trainable params: 1,147,978\n",
            "Non-trainable params: 0\n",
            "----------------------------------------------------------------\n",
            "Input size (MB): 0.01\n",
            "Forward/backward pass size (MB): 2.13\n",
            "Params size (MB): 4.38\n",
            "Estimated Total Size (MB): 6.52\n",
            "----------------------------------------------------------------\n"
          ],
          "name": "stdout"
        }
      ]
    },
    {
      "cell_type": "code",
      "metadata": {
        "id": "ZBBJHHJLcu_0",
        "outputId": "64a306d0-64c2-41df-f396-121055da0c1a",
        "colab": {
          "base_uri": "https://localhost:8080/",
          "height": 354
        }
      },
      "source": [
        "summary(lenet,(3,32,32))"
      ],
      "execution_count": null,
      "outputs": [
        {
          "output_type": "stream",
          "text": [
            "----------------------------------------------------------------\n",
            "        Layer (type)               Output Shape         Param #\n",
            "================================================================\n",
            "            Conv2d-1            [-1, 6, 28, 28]             456\n",
            "            Conv2d-2           [-1, 16, 10, 10]           2,416\n",
            "            Linear-3                  [-1, 120]          48,120\n",
            "            Linear-4                   [-1, 84]          10,164\n",
            "            Linear-5                   [-1, 10]             850\n",
            "================================================================\n",
            "Total params: 62,006\n",
            "Trainable params: 62,006\n",
            "Non-trainable params: 0\n",
            "----------------------------------------------------------------\n",
            "Input size (MB): 0.01\n",
            "Forward/backward pass size (MB): 0.05\n",
            "Params size (MB): 0.24\n",
            "Estimated Total Size (MB): 0.30\n",
            "----------------------------------------------------------------\n"
          ],
          "name": "stdout"
        }
      ]
    },
    {
      "cell_type": "code",
      "metadata": {
        "id": "yRnFy7x6c3b5",
        "outputId": "2136c517-c73c-41b2-eafa-a537b6359a60",
        "colab": {
          "base_uri": "https://localhost:8080/",
          "height": 1000
        }
      },
      "source": [
        "summary(resnet,(3,32,32))"
      ],
      "execution_count": null,
      "outputs": [
        {
          "output_type": "stream",
          "text": [
            "----------------------------------------------------------------\n",
            "        Layer (type)               Output Shape         Param #\n",
            "================================================================\n",
            "            Conv2d-1           [-1, 64, 32, 32]           1,728\n",
            "       BatchNorm2d-2           [-1, 64, 32, 32]             128\n",
            "            Conv2d-3           [-1, 64, 32, 32]          36,864\n",
            "       BatchNorm2d-4           [-1, 64, 32, 32]             128\n",
            "            Conv2d-5           [-1, 64, 32, 32]          36,864\n",
            "       BatchNorm2d-6           [-1, 64, 32, 32]             128\n",
            "        BasicBlock-7           [-1, 64, 32, 32]               0\n",
            "            Conv2d-8           [-1, 64, 32, 32]          36,864\n",
            "       BatchNorm2d-9           [-1, 64, 32, 32]             128\n",
            "           Conv2d-10           [-1, 64, 32, 32]          36,864\n",
            "      BatchNorm2d-11           [-1, 64, 32, 32]             128\n",
            "       BasicBlock-12           [-1, 64, 32, 32]               0\n",
            "           Conv2d-13          [-1, 128, 16, 16]          73,728\n",
            "      BatchNorm2d-14          [-1, 128, 16, 16]             256\n",
            "           Conv2d-15          [-1, 128, 16, 16]         147,456\n",
            "      BatchNorm2d-16          [-1, 128, 16, 16]             256\n",
            "           Conv2d-17          [-1, 128, 16, 16]           8,192\n",
            "      BatchNorm2d-18          [-1, 128, 16, 16]             256\n",
            "       BasicBlock-19          [-1, 128, 16, 16]               0\n",
            "           Conv2d-20          [-1, 128, 16, 16]         147,456\n",
            "      BatchNorm2d-21          [-1, 128, 16, 16]             256\n",
            "           Conv2d-22          [-1, 128, 16, 16]         147,456\n",
            "      BatchNorm2d-23          [-1, 128, 16, 16]             256\n",
            "       BasicBlock-24          [-1, 128, 16, 16]               0\n",
            "           Conv2d-25            [-1, 256, 8, 8]         294,912\n",
            "      BatchNorm2d-26            [-1, 256, 8, 8]             512\n",
            "           Conv2d-27            [-1, 256, 8, 8]         589,824\n",
            "      BatchNorm2d-28            [-1, 256, 8, 8]             512\n",
            "           Conv2d-29            [-1, 256, 8, 8]          32,768\n",
            "      BatchNorm2d-30            [-1, 256, 8, 8]             512\n",
            "       BasicBlock-31            [-1, 256, 8, 8]               0\n",
            "           Conv2d-32            [-1, 256, 8, 8]         589,824\n",
            "      BatchNorm2d-33            [-1, 256, 8, 8]             512\n",
            "           Conv2d-34            [-1, 256, 8, 8]         589,824\n",
            "      BatchNorm2d-35            [-1, 256, 8, 8]             512\n",
            "       BasicBlock-36            [-1, 256, 8, 8]               0\n",
            "           Conv2d-37            [-1, 512, 4, 4]       1,179,648\n",
            "      BatchNorm2d-38            [-1, 512, 4, 4]           1,024\n",
            "           Conv2d-39            [-1, 512, 4, 4]       2,359,296\n",
            "      BatchNorm2d-40            [-1, 512, 4, 4]           1,024\n",
            "           Conv2d-41            [-1, 512, 4, 4]         131,072\n",
            "      BatchNorm2d-42            [-1, 512, 4, 4]           1,024\n",
            "       BasicBlock-43            [-1, 512, 4, 4]               0\n",
            "           Conv2d-44            [-1, 512, 4, 4]       2,359,296\n",
            "      BatchNorm2d-45            [-1, 512, 4, 4]           1,024\n",
            "           Conv2d-46            [-1, 512, 4, 4]       2,359,296\n",
            "      BatchNorm2d-47            [-1, 512, 4, 4]           1,024\n",
            "       BasicBlock-48            [-1, 512, 4, 4]               0\n",
            "           Linear-49                   [-1, 10]           5,130\n",
            "================================================================\n",
            "Total params: 11,173,962\n",
            "Trainable params: 11,173,962\n",
            "Non-trainable params: 0\n",
            "----------------------------------------------------------------\n",
            "Input size (MB): 0.01\n",
            "Forward/backward pass size (MB): 11.25\n",
            "Params size (MB): 42.63\n",
            "Estimated Total Size (MB): 53.89\n",
            "----------------------------------------------------------------\n"
          ],
          "name": "stdout"
        }
      ]
    },
    {
      "cell_type": "markdown",
      "metadata": {
        "id": "CK1y3JpdTBdq"
      },
      "source": [
        "### Selecting the loss function and optimizer\n"
      ]
    },
    {
      "cell_type": "markdown",
      "metadata": {
        "id": "cO_1hCNcMsPF"
      },
      "source": [
        "Selecting the optimiser is very important on large data sets using gradient descent or batch gradient descent is not feasible so we must select another. The default is Stochastic Gradient Descent here Adam is used there are others available and can be experimented with such as RMSPROP. Adam is an adaptive variant of Stochastic Gradient Descent. It utilises different learning rates for different parameters.\n",
        "\n",
        "Also we can see cross entropy loss is used. Cross entropy measures and penalizes our model depending on whether its prediction matches the base truth and the strength of this prediction."
      ]
    },
    {
      "cell_type": "code",
      "metadata": {
        "id": "TWWa3tO_TBdr"
      },
      "source": [
        "import torch.optim as optim\n",
        "criterion = nn.CrossEntropyLoss()\n",
        "optimizer_net = optim.Adam(net.parameters(), lr=0.001)\n",
        "optimizer_lenet = optim.Adam(lenet.parameters(), lr=0.001)\n",
        "optimizer_resnet = optim.Adam(resnet.parameters(), lr=0.001)"
      ],
      "execution_count": null,
      "outputs": []
    },
    {
      "cell_type": "markdown",
      "metadata": {
        "id": "wdjms6miTBdv"
      },
      "source": [
        "### Training and saving the weights of the each model"
      ]
    },
    {
      "cell_type": "code",
      "metadata": {
        "id": "3GmLoCeKTBdw",
        "outputId": "ceea9650-0203-4cd5-e402-e02633baf312",
        "colab": {
          "base_uri": "https://localhost:8080/",
          "height": 1000
        }
      },
      "source": [
        "%%time\n",
        "epochs = 10\n",
        "for epoch in range(epochs):\n",
        "    running_loss = 0.\n",
        "    for i, data in enumerate(trainloader):\n",
        "        \n",
        "        inputs, labels = data\n",
        "        inputs, labels = inputs.to(device), labels.to(device)\n",
        "        \n",
        "        optimizer_net.zero_grad()\n",
        "        \n",
        "        outputs = net(inputs)\n",
        "        loss = criterion(outputs, labels)\n",
        "        loss.backward()\n",
        "        optimizer_net.step()\n",
        "        \n",
        "        if (i+1) % 100 == 0:\n",
        "            print('[%d, %5d] loss: %.4f' %(epoch + 1, (i+1)*train_batch_size, loss.item()))\n",
        "\n",
        "print('Finished Training')\n",
        "torch.save(net.state_dict(), './cifar10_net.pth')"
      ],
      "execution_count": null,
      "outputs": [
        {
          "output_type": "stream",
          "text": [
            "[1, 10000] loss: 2.0458\n",
            "[1, 20000] loss: 1.9338\n",
            "[1, 30000] loss: 1.7630\n",
            "[1, 40000] loss: 1.6730\n",
            "[1, 50000] loss: 1.5610\n",
            "[2, 10000] loss: 1.6417\n",
            "[2, 20000] loss: 1.5879\n",
            "[2, 30000] loss: 1.4433\n",
            "[2, 40000] loss: 1.7247\n",
            "[2, 50000] loss: 1.4355\n",
            "[3, 10000] loss: 1.3106\n",
            "[3, 20000] loss: 1.4207\n",
            "[3, 30000] loss: 1.3591\n",
            "[3, 40000] loss: 1.2209\n",
            "[3, 50000] loss: 1.2326\n",
            "[4, 10000] loss: 1.1032\n",
            "[4, 20000] loss: 1.2065\n",
            "[4, 30000] loss: 1.0471\n",
            "[4, 40000] loss: 1.1625\n",
            "[4, 50000] loss: 1.0990\n",
            "[5, 10000] loss: 0.9588\n",
            "[5, 20000] loss: 1.0296\n",
            "[5, 30000] loss: 0.9145\n",
            "[5, 40000] loss: 0.9370\n",
            "[5, 50000] loss: 0.9488\n",
            "[6, 10000] loss: 0.8890\n",
            "[6, 20000] loss: 0.9637\n",
            "[6, 30000] loss: 0.8035\n",
            "[6, 40000] loss: 0.9849\n",
            "[6, 50000] loss: 0.9404\n",
            "[7, 10000] loss: 0.8142\n",
            "[7, 20000] loss: 1.1104\n",
            "[7, 30000] loss: 0.9531\n",
            "[7, 40000] loss: 0.9807\n",
            "[7, 50000] loss: 0.8908\n",
            "[8, 10000] loss: 0.8111\n",
            "[8, 20000] loss: 0.8205\n",
            "[8, 30000] loss: 0.9020\n",
            "[8, 40000] loss: 0.7845\n",
            "[8, 50000] loss: 0.9036\n",
            "[9, 10000] loss: 0.7346\n",
            "[9, 20000] loss: 0.8296\n",
            "[9, 30000] loss: 0.6964\n",
            "[9, 40000] loss: 0.7144\n",
            "[9, 50000] loss: 0.7744\n",
            "[10, 10000] loss: 0.5861\n",
            "[10, 20000] loss: 0.7946\n",
            "[10, 30000] loss: 0.7901\n",
            "[10, 40000] loss: 0.8372\n",
            "[10, 50000] loss: 0.7396\n",
            "Finished Training\n",
            "CPU times: user 1min 43s, sys: 1min 5s, total: 2min 49s\n",
            "Wall time: 2min 56s\n"
          ],
          "name": "stdout"
        }
      ]
    },
    {
      "cell_type": "code",
      "metadata": {
        "id": "KhGjT-WPeXX5",
        "outputId": "b45df82b-334f-4b93-9dd8-8aea6ce65b56",
        "colab": {
          "base_uri": "https://localhost:8080/",
          "height": 1000
        }
      },
      "source": [
        "%%time\n",
        "epochs = 10\n",
        "for epoch in range(epochs):\n",
        "    running_loss = 0.\n",
        "    for i, data in enumerate(trainloader):\n",
        "        \n",
        "        inputs, labels = data\n",
        "        inputs, labels = inputs.to(device), labels.to(device)\n",
        "        \n",
        "        optimizer_lenet.zero_grad()\n",
        "        \n",
        "        outputs = lenet(inputs)\n",
        "        loss = criterion(outputs, labels)\n",
        "        loss.backward()\n",
        "        optimizer_lenet.step()\n",
        "        \n",
        "        if (i+1) % 100 == 0:\n",
        "            print('[%d, %5d] loss: %.4f' %(epoch + 1, (i+1)*train_batch_size, loss.item()))\n",
        "\n",
        "print('Finished Training')\n",
        "torch.save(lenet.state_dict(), './cifar10_lenet.pth')"
      ],
      "execution_count": null,
      "outputs": [
        {
          "output_type": "stream",
          "text": [
            "[1, 10000] loss: 1.8518\n",
            "[1, 20000] loss: 1.7383\n",
            "[1, 30000] loss: 1.6483\n",
            "[1, 40000] loss: 1.6215\n",
            "[1, 50000] loss: 1.4112\n",
            "[2, 10000] loss: 1.4330\n",
            "[2, 20000] loss: 1.4523\n",
            "[2, 30000] loss: 1.4943\n",
            "[2, 40000] loss: 1.5443\n",
            "[2, 50000] loss: 1.4060\n",
            "[3, 10000] loss: 1.3764\n",
            "[3, 20000] loss: 1.4191\n",
            "[3, 30000] loss: 1.3587\n",
            "[3, 40000] loss: 1.1262\n",
            "[3, 50000] loss: 1.3903\n",
            "[4, 10000] loss: 1.2965\n",
            "[4, 20000] loss: 1.4262\n",
            "[4, 30000] loss: 1.3086\n",
            "[4, 40000] loss: 1.3197\n",
            "[4, 50000] loss: 1.2511\n",
            "[5, 10000] loss: 1.4237\n",
            "[5, 20000] loss: 1.1058\n",
            "[5, 30000] loss: 1.2847\n",
            "[5, 40000] loss: 1.2106\n",
            "[5, 50000] loss: 1.1819\n",
            "[6, 10000] loss: 1.2585\n",
            "[6, 20000] loss: 1.1997\n",
            "[6, 30000] loss: 1.1290\n",
            "[6, 40000] loss: 1.1281\n",
            "[6, 50000] loss: 1.2251\n",
            "[7, 10000] loss: 1.1976\n",
            "[7, 20000] loss: 1.1328\n",
            "[7, 30000] loss: 1.0363\n",
            "[7, 40000] loss: 1.2337\n",
            "[7, 50000] loss: 1.3378\n",
            "[8, 10000] loss: 1.0624\n",
            "[8, 20000] loss: 1.2918\n",
            "[8, 30000] loss: 1.2419\n",
            "[8, 40000] loss: 0.9230\n",
            "[8, 50000] loss: 1.2838\n",
            "[9, 10000] loss: 1.2371\n",
            "[9, 20000] loss: 1.1191\n",
            "[9, 30000] loss: 1.1912\n",
            "[9, 40000] loss: 1.1939\n",
            "[9, 50000] loss: 1.2049\n",
            "[10, 10000] loss: 1.0736\n",
            "[10, 20000] loss: 1.1226\n",
            "[10, 30000] loss: 0.9468\n",
            "[10, 40000] loss: 1.1734\n",
            "[10, 50000] loss: 1.0058\n",
            "Finished Training\n",
            "CPU times: user 26 s, sys: 3.4 s, total: 29.4 s\n",
            "Wall time: 1min 3s\n"
          ],
          "name": "stdout"
        }
      ]
    },
    {
      "cell_type": "code",
      "metadata": {
        "id": "r2qS-QkxeXJ9",
        "outputId": "631de382-bd59-4457-e383-3a13a4f06330",
        "colab": {
          "base_uri": "https://localhost:8080/",
          "height": 1000
        }
      },
      "source": [
        "%%time\n",
        "epochs = 10\n",
        "for epoch in range(epochs):\n",
        "    running_loss = 0.\n",
        "    for i, data in enumerate(trainloader):\n",
        "        \n",
        "        inputs, labels = data\n",
        "        inputs, labels = inputs.to(device), labels.to(device)\n",
        "        \n",
        "        optimizer_resnet.zero_grad()\n",
        "        \n",
        "        outputs = resnet(inputs)\n",
        "        loss = criterion(outputs, labels)\n",
        "        loss.backward()\n",
        "        optimizer_resnet.step()\n",
        "        \n",
        "        if (i+1) % 100 == 0:\n",
        "            print('[%d, %5d] loss: %.4f' %(epoch + 1, (i+1)*train_batch_size, loss.item()))\n",
        "\n",
        "print('Finished Training')\n",
        "torch.save(resnet.state_dict(), './cifar10_resnet.pth')"
      ],
      "execution_count": null,
      "outputs": [
        {
          "output_type": "stream",
          "text": [
            "[1, 10000] loss: 1.4620\n",
            "[1, 20000] loss: 1.4030\n",
            "[1, 30000] loss: 1.3101\n",
            "[1, 40000] loss: 1.0417\n",
            "[1, 50000] loss: 1.0489\n",
            "[2, 10000] loss: 0.8957\n",
            "[2, 20000] loss: 0.7791\n",
            "[2, 30000] loss: 0.8098\n",
            "[2, 40000] loss: 0.7184\n",
            "[2, 50000] loss: 0.7826\n",
            "[3, 10000] loss: 0.6976\n",
            "[3, 20000] loss: 0.6272\n",
            "[3, 30000] loss: 0.6257\n",
            "[3, 40000] loss: 0.6254\n",
            "[3, 50000] loss: 0.6538\n",
            "[4, 10000] loss: 0.5311\n",
            "[4, 20000] loss: 0.5357\n",
            "[4, 30000] loss: 0.5554\n",
            "[4, 40000] loss: 0.5098\n",
            "[4, 50000] loss: 0.4877\n",
            "[5, 10000] loss: 0.2592\n",
            "[5, 20000] loss: 0.4607\n",
            "[5, 30000] loss: 0.3631\n",
            "[5, 40000] loss: 0.3851\n",
            "[5, 50000] loss: 0.4417\n",
            "[6, 10000] loss: 0.2543\n",
            "[6, 20000] loss: 0.2595\n",
            "[6, 30000] loss: 0.4753\n",
            "[6, 40000] loss: 0.2287\n",
            "[6, 50000] loss: 0.3357\n",
            "[7, 10000] loss: 0.1933\n",
            "[7, 20000] loss: 0.1758\n",
            "[7, 30000] loss: 0.2064\n",
            "[7, 40000] loss: 0.2163\n",
            "[7, 50000] loss: 0.2206\n",
            "[8, 10000] loss: 0.1105\n",
            "[8, 20000] loss: 0.1598\n",
            "[8, 30000] loss: 0.1630\n",
            "[8, 40000] loss: 0.1436\n",
            "[8, 50000] loss: 0.1663\n",
            "[9, 10000] loss: 0.0968\n",
            "[9, 20000] loss: 0.1351\n",
            "[9, 30000] loss: 0.1210\n",
            "[9, 40000] loss: 0.0932\n",
            "[9, 50000] loss: 0.2000\n",
            "[10, 10000] loss: 0.0934\n",
            "[10, 20000] loss: 0.0482\n",
            "[10, 30000] loss: 0.0933\n",
            "[10, 40000] loss: 0.1395\n",
            "[10, 50000] loss: 0.1193\n",
            "Finished Training\n",
            "CPU times: user 6min 43s, sys: 4min 22s, total: 11min 6s\n",
            "Wall time: 11min 17s\n"
          ],
          "name": "stdout"
        }
      ]
    },
    {
      "cell_type": "markdown",
      "metadata": {
        "id": "efNOMWi6TBdy"
      },
      "source": [
        "### Load weights"
      ]
    },
    {
      "cell_type": "code",
      "metadata": {
        "id": "aM_4kItLTBdz",
        "outputId": "20cd0249-2ad5-4442-efbe-2fcbd3a21264",
        "colab": {
          "base_uri": "https://localhost:8080/",
          "height": 36
        }
      },
      "source": [
        "# Loading the weights of the pretrained models\n",
        "net.load_state_dict(torch.load('./cifar10_net.pth', map_location='cpu'))\n",
        "lenet.load_state_dict(torch.load('./cifar10_lenet.pth', map_location='cpu'))\n",
        "resnet.load_state_dict(torch.load('./cifar10_resnet.pth', map_location='cpu'))"
      ],
      "execution_count": null,
      "outputs": [
        {
          "output_type": "execute_result",
          "data": {
            "text/plain": [
              "<All keys matched successfully>"
            ]
          },
          "metadata": {
            "tags": []
          },
          "execution_count": 22
        }
      ]
    },
    {
      "cell_type": "markdown",
      "metadata": {
        "id": "CQcq1buFTBd3"
      },
      "source": [
        "### Evaluate the mode & fix the weights"
      ]
    },
    {
      "cell_type": "code",
      "metadata": {
        "id": "f7EBNe3gTBd3"
      },
      "source": [
        "net.eval()\n",
        "for p in net.parameters():\n",
        "    p.requires_grad = False"
      ],
      "execution_count": null,
      "outputs": []
    },
    {
      "cell_type": "code",
      "metadata": {
        "id": "0w3kS_6pfzfm"
      },
      "source": [
        "lenet.eval()\n",
        "for p in lenet.parameters():\n",
        "    p.requires_grad = False"
      ],
      "execution_count": null,
      "outputs": []
    },
    {
      "cell_type": "code",
      "metadata": {
        "id": "TqDus0GsfzQh"
      },
      "source": [
        "resnet.eval()\n",
        "for p in resnet.parameters():\n",
        "    p.requires_grad = False"
      ],
      "execution_count": null,
      "outputs": []
    },
    {
      "cell_type": "markdown",
      "metadata": {
        "id": "NZ3JlHBeTBd6"
      },
      "source": [
        "### Accuracy of the Net model "
      ]
    },
    {
      "cell_type": "code",
      "metadata": {
        "id": "KRV81qDyTBd6",
        "outputId": "4a5b3d6a-56a5-4780-fdce-3e7c618b0310",
        "colab": {
          "base_uri": "https://localhost:8080/",
          "height": 223
        }
      },
      "source": [
        "correct = 0\n",
        "total = 0\n",
        "with torch.no_grad():\n",
        "    for data in testloader:\n",
        "        images, labels = data\n",
        "        images, labels = images.to(device), labels.to(device)\n",
        "        outputs = net(images)\n",
        "        _, predicted = torch.max(outputs.data, 1)\n",
        "        total += labels.size(0)\n",
        "        correct += (predicted == labels).sum().item()\n",
        " \n",
        "print('Accuracy of the Net network on the 10000 test images: %d %%' % (\n",
        "    100 * correct / total))\n",
        " \n",
        "class_correct = list(0. for i in range(10))\n",
        "class_total = list(0. for i in range(10))\n",
        "with torch.no_grad():\n",
        "    for data in testloader:\n",
        "        images, labels = data\n",
        "        images, labels = images.to(device), labels.to(device)\n",
        "        outputs = net(images)\n",
        "        _, predicted = torch.max(outputs, 1)\n",
        "        c = (predicted == labels).squeeze()\n",
        "        for i in range(test_batch_size):\n",
        "            label = labels[i]\n",
        "#           class_correct[label] += c[i].item()\n",
        "            class_correct[label] += c.item()\n",
        "            class_total[label] += 1\n",
        " \n",
        " \n",
        "for i in range(10):\n",
        "    print('Net Network: Accuracy of %5s : %2d %%' % (\n",
        "        classes[i], 100 * class_correct[i] / class_total[i]))"
      ],
      "execution_count": null,
      "outputs": [
        {
          "output_type": "stream",
          "text": [
            "Accuracy of the Net network on the 10000 test images: 77 %\n",
            "Net Network: Accuracy of plane : 86 %\n",
            "Net Network: Accuracy of   car : 93 %\n",
            "Net Network: Accuracy of  bird : 61 %\n",
            "Net Network: Accuracy of   cat : 57 %\n",
            "Net Network: Accuracy of  deer : 75 %\n",
            "Net Network: Accuracy of   dog : 64 %\n",
            "Net Network: Accuracy of  frog : 84 %\n",
            "Net Network: Accuracy of horse : 79 %\n",
            "Net Network: Accuracy of  ship : 87 %\n",
            "Net Network: Accuracy of truck : 82 %\n"
          ],
          "name": "stdout"
        }
      ]
    },
    {
      "cell_type": "markdown",
      "metadata": {
        "id": "H6-DoCK9egJW"
      },
      "source": [
        "### Accuracy of the LeNet-5 model "
      ]
    },
    {
      "cell_type": "code",
      "metadata": {
        "id": "RwwDrDocf_PZ",
        "outputId": "11467e67-fadb-435d-d65b-aaa76bd12172",
        "colab": {
          "base_uri": "https://localhost:8080/",
          "height": 223
        }
      },
      "source": [
        "correct = 0\n",
        "total = 0\n",
        "with torch.no_grad():\n",
        "    for data in testloader:\n",
        "        images, labels = data\n",
        "        images, labels = images.to(device), labels.to(device)\n",
        "        outputs = lenet(images)\n",
        "        _, predicted = torch.max(outputs.data, 1)\n",
        "        total += labels.size(0)\n",
        "        correct += (predicted == labels).sum().item()\n",
        " \n",
        "print('Accuracy of the LeNet network on the 10000 test images: %d %%' % (\n",
        "    100 * correct / total))\n",
        " \n",
        "class_correct = list(0. for i in range(10))\n",
        "class_total = list(0. for i in range(10))\n",
        "with torch.no_grad():\n",
        "    for data in testloader:\n",
        "        images, labels = data\n",
        "        images, labels = images.to(device), labels.to(device)\n",
        "        outputs = lenet(images)\n",
        "        _, predicted = torch.max(outputs, 1)\n",
        "        c = (predicted == labels).squeeze()\n",
        "        for i in range(test_batch_size):\n",
        "            label = labels[i]\n",
        "#           class_correct[label] += c[i].item()\n",
        "            class_correct[label] += c.item()\n",
        "            class_total[label] += 1\n",
        " \n",
        " \n",
        "for i in range(10):\n",
        "    print('LeNet Network: Accuracy of %5s : %2d %%' % (\n",
        "        classes[i], 100 * class_correct[i] / class_total[i]))"
      ],
      "execution_count": null,
      "outputs": [
        {
          "output_type": "stream",
          "text": [
            "Accuracy of the LeNet network on the 10000 test images: 59 %\n",
            "LeNet Network: Accuracy of plane : 73 %\n",
            "LeNet Network: Accuracy of   car : 74 %\n",
            "LeNet Network: Accuracy of  bird : 51 %\n",
            "LeNet Network: Accuracy of   cat : 42 %\n",
            "LeNet Network: Accuracy of  deer : 43 %\n",
            "LeNet Network: Accuracy of   dog : 44 %\n",
            "LeNet Network: Accuracy of  frog : 63 %\n",
            "LeNet Network: Accuracy of horse : 61 %\n",
            "LeNet Network: Accuracy of  ship : 73 %\n",
            "LeNet Network: Accuracy of truck : 65 %\n"
          ],
          "name": "stdout"
        }
      ]
    },
    {
      "cell_type": "markdown",
      "metadata": {
        "id": "OTah70K7ekoo"
      },
      "source": [
        "### Accuracy of the ResNet model "
      ]
    },
    {
      "cell_type": "code",
      "metadata": {
        "id": "rghet3eVf--h",
        "outputId": "dfb0e512-fecd-41d2-a2e6-6fc71b80a5c0",
        "colab": {
          "base_uri": "https://localhost:8080/",
          "height": 223
        }
      },
      "source": [
        "correct = 0\n",
        "total = 0\n",
        "with torch.no_grad():\n",
        "    for data in testloader:\n",
        "        images, labels = data\n",
        "        images, labels = images.to(device), labels.to(device)\n",
        "        outputs = resnet(images)\n",
        "        _, predicted = torch.max(outputs.data, 1)\n",
        "        total += labels.size(0)\n",
        "        correct += (predicted == labels).sum().item()\n",
        " \n",
        "print('Accuracy of the ResNet network on the 10000 test images: %d %%' % (\n",
        "    100 * correct / total))\n",
        " \n",
        "class_correct = list(0. for i in range(10))\n",
        "class_total = list(0. for i in range(10))\n",
        "with torch.no_grad():\n",
        "    for data in testloader:\n",
        "        images, labels = data\n",
        "        images, labels = images.to(device), labels.to(device)\n",
        "        outputs = resnet(images)\n",
        "        _, predicted = torch.max(outputs, 1)\n",
        "        c = (predicted == labels).squeeze()\n",
        "        for i in range(test_batch_size):\n",
        "            label = labels[i]\n",
        "#           class_correct[label] += c[i].item()\n",
        "            class_correct[label] += c.item()\n",
        "            class_total[label] += 1\n",
        " \n",
        " \n",
        "for i in range(10):\n",
        "    print('ResNet Network: Accuracy of %5s : %2d %%' % (\n",
        "        classes[i], 100 * class_correct[i] / class_total[i]))"
      ],
      "execution_count": null,
      "outputs": [
        {
          "output_type": "stream",
          "text": [
            "Accuracy of the ResNet network on the 10000 test images: 82 %\n",
            "ResNet Network: Accuracy of plane : 84 %\n",
            "ResNet Network: Accuracy of   car : 90 %\n",
            "ResNet Network: Accuracy of  bird : 81 %\n",
            "ResNet Network: Accuracy of   cat : 68 %\n",
            "ResNet Network: Accuracy of  deer : 72 %\n",
            "ResNet Network: Accuracy of   dog : 70 %\n",
            "ResNet Network: Accuracy of  frog : 87 %\n",
            "ResNet Network: Accuracy of horse : 93 %\n",
            "ResNet Network: Accuracy of  ship : 84 %\n",
            "ResNet Network: Accuracy of truck : 93 %\n"
          ],
          "name": "stdout"
        }
      ]
    },
    {
      "cell_type": "markdown",
      "metadata": {
        "id": "Cj7m2maSVYRn"
      },
      "source": [
        "Interestingly all three networks they had simarlaly poor performance on the bird,cat,deer and dog classes. It is only possible to speculate why this may be as with only this information it cannot be known for certain ,as it appears in all three there it is likely some underlying cause is responsible. A possible approach would be to check the correlation between these classes. "
      ]
    },
    {
      "cell_type": "markdown",
      "metadata": {
        "id": "BBEgtoCGTBd9"
      },
      "source": [
        "### Adversarial Attack using FGSM"
      ]
    },
    {
      "cell_type": "code",
      "metadata": {
        "id": "W5RCESxBTBd9"
      },
      "source": [
        "# Here we define the function that tests our model\n",
        "def test( model, device, test_loader, epsilon ):\n",
        "\n",
        "    # Accuracy counter\n",
        "    correct = 0\n",
        "    adv_examples = []\n",
        "\n",
        "    # Loop over all examples in test set\n",
        "    for data, target in test_loader:\n",
        "\n",
        "        # Send the data and label to the device\n",
        "        data, target = data.to(device), target.to(device)\n",
        "\n",
        "        # Set requires_grad attribute of tensor. Important for Attack\n",
        "        data.requires_grad = True\n",
        "\n",
        "        # Forward pass the data through the model\n",
        "        output = model(data)\n",
        "        init_pred = output.max(1, keepdim=True)[1] # get the index of the max log-probability\n",
        "\n",
        "        # If the initial prediction is wrong, dont bother attacking, just move on\n",
        "        if init_pred.item() != target.item():\n",
        "            continue\n",
        "\n",
        "        # Calculate the loss\n",
        "        loss = F.nll_loss(output, target)\n",
        "\n",
        "        # Zero all existing gradients\n",
        "        model.zero_grad()\n",
        "\n",
        "        # Calculate gradients of model in backward pass\n",
        "        loss.backward()\n",
        "\n",
        "        # Collect datagrad\n",
        "        data_grad = data.grad.data\n",
        "\n",
        "        # Call FGSM Attack\n",
        "        perturbed_data = fgsm_attack(data, epsilon, data_grad)\n",
        "\n",
        "        # Re-classify the perturbed image\n",
        "        output = model(perturbed_data)\n",
        "\n",
        "        # Check for success\n",
        "        final_pred = output.max(1, keepdim=True)[1] # get the index of the max log-probability\n",
        "        if final_pred.item() == target.item():\n",
        "            correct += 1\n",
        "            # Special case for saving 0 epsilon examples\n",
        "            if (epsilon == 0) and (len(adv_examples) < 5):\n",
        "                adv_ex = perturbed_data.squeeze().detach().cpu().numpy()\n",
        "                adv_examples.append( (init_pred.item(), final_pred.item(), adv_ex) )\n",
        "        else:\n",
        "            # Save some adv examples for visualization later\n",
        "            if len(adv_examples) < 5:\n",
        "                adv_ex = perturbed_data.squeeze().detach().cpu().numpy()\n",
        "                adv_examples.append( (init_pred.item(), final_pred.item(), adv_ex) )\n",
        "\n",
        "    # Calculate final accuracy for this epsilon\n",
        "    final_acc = correct/float(len(test_loader))\n",
        "    print(\"Epsilon: {}\\tTest Accuracy = {} / {} = {}\".format(epsilon, correct, len(test_loader), final_acc))\n",
        "\n",
        "    # Return the accuracy and an adversarial example\n",
        "    return final_acc, adv_examples"
      ],
      "execution_count": null,
      "outputs": []
    },
    {
      "cell_type": "markdown",
      "metadata": {
        "id": "jbtCXyKfgRC5"
      },
      "source": [
        "### Here we run the attacks and evaluate the accuracy for different values of epsilon"
      ]
    },
    {
      "cell_type": "code",
      "metadata": {
        "id": "LSRDapUsTBeB",
        "outputId": "0a0dc008-81dd-4b29-cc7a-c0b64e058474",
        "colab": {
          "base_uri": "https://localhost:8080/",
          "height": 260
        }
      },
      "source": [
        "%%time\n",
        "accuracies_net = []\n",
        "examples_net = []\n",
        "epsilons_net = [0, .01, .02, .03, .04, .05, .06,.07,.08,.09,.1]\n",
        "# Run test for each epsilon\n",
        "# testloader batchsize should be 1\n",
        "for eps in epsilons_net:\n",
        "    acc, ex = test(net, device, testloader, eps)\n",
        "    accuracies_net.append(acc)\n",
        "    examples_net.append(ex)"
      ],
      "execution_count": null,
      "outputs": [
        {
          "output_type": "stream",
          "text": [
            "Epsilon: 0\tTest Accuracy = 7739 / 10000 = 0.7739\n",
            "Epsilon: 0.01\tTest Accuracy = 4071 / 10000 = 0.4071\n",
            "Epsilon: 0.02\tTest Accuracy = 2080 / 10000 = 0.208\n",
            "Epsilon: 0.03\tTest Accuracy = 1156 / 10000 = 0.1156\n",
            "Epsilon: 0.04\tTest Accuracy = 777 / 10000 = 0.0777\n",
            "Epsilon: 0.05\tTest Accuracy = 595 / 10000 = 0.0595\n",
            "Epsilon: 0.06\tTest Accuracy = 542 / 10000 = 0.0542\n",
            "Epsilon: 0.07\tTest Accuracy = 507 / 10000 = 0.0507\n",
            "Epsilon: 0.08\tTest Accuracy = 506 / 10000 = 0.0506\n",
            "Epsilon: 0.09\tTest Accuracy = 520 / 10000 = 0.052\n",
            "Epsilon: 0.1\tTest Accuracy = 507 / 10000 = 0.0507\n",
            "CPU times: user 6min 11s, sys: 40.8 s, total: 6min 52s\n",
            "Wall time: 7min 39s\n"
          ],
          "name": "stdout"
        }
      ]
    },
    {
      "cell_type": "code",
      "metadata": {
        "id": "TvFSugaJi5IY",
        "outputId": "1c7a9da0-0a47-4cf0-95c3-bd9b6b7754ca",
        "colab": {
          "base_uri": "https://localhost:8080/",
          "height": 260
        }
      },
      "source": [
        "%%time\n",
        "accuracies_net2 = []\n",
        "examples_net2 = []\n",
        "epsilons_net2 = [0, .02, .04, .06, .08, .1, .12,.14,.16,.18,.2]\n",
        "\n",
        "# Run test for each epsilon\n",
        "# testloader batchsize should be 1\n",
        "for eps in epsilons_net2:\n",
        "    acc, ex = test(net, device, testloader, eps)\n",
        "    accuracies_net2.append(acc)\n",
        "    examples_net2.append(ex)"
      ],
      "execution_count": null,
      "outputs": [
        {
          "output_type": "stream",
          "text": [
            "Epsilon: 0\tTest Accuracy = 7739 / 10000 = 0.7739\n",
            "Epsilon: 0.02\tTest Accuracy = 2080 / 10000 = 0.208\n",
            "Epsilon: 0.04\tTest Accuracy = 777 / 10000 = 0.0777\n",
            "Epsilon: 0.06\tTest Accuracy = 542 / 10000 = 0.0542\n",
            "Epsilon: 0.08\tTest Accuracy = 506 / 10000 = 0.0506\n",
            "Epsilon: 0.1\tTest Accuracy = 507 / 10000 = 0.0507\n",
            "Epsilon: 0.12\tTest Accuracy = 553 / 10000 = 0.0553\n",
            "Epsilon: 0.14\tTest Accuracy = 587 / 10000 = 0.0587\n",
            "Epsilon: 0.16\tTest Accuracy = 629 / 10000 = 0.0629\n",
            "Epsilon: 0.18\tTest Accuracy = 694 / 10000 = 0.0694\n",
            "Epsilon: 0.2\tTest Accuracy = 728 / 10000 = 0.0728\n",
            "CPU times: user 6min 12s, sys: 40.5 s, total: 6min 52s\n",
            "Wall time: 7min 36s\n"
          ],
          "name": "stdout"
        }
      ]
    },
    {
      "cell_type": "code",
      "metadata": {
        "id": "roIpHiVHkjt2",
        "outputId": "9f1083b0-e8d3-40e4-dd2b-cd2e96883ded",
        "colab": {
          "base_uri": "https://localhost:8080/",
          "height": 260
        }
      },
      "source": [
        "%%time\n",
        "accuracies_net3 = []\n",
        "examples_net3 = []\n",
        "epsilons_net3 = [0, .05, .1, .15, .2, .25, .3,.35,.4,.45,.5]\n",
        "\n",
        "# Run test for each epsilon\n",
        "# testloader batchsize should be 1\n",
        "for eps in epsilons_net3:\n",
        "    acc, ex = test(net, device, testloader, eps)\n",
        "    accuracies_net3.append(acc)\n",
        "    examples_net3.append(ex)"
      ],
      "execution_count": null,
      "outputs": [
        {
          "output_type": "stream",
          "text": [
            "Epsilon: 0\tTest Accuracy = 7739 / 10000 = 0.7739\n",
            "Epsilon: 0.05\tTest Accuracy = 595 / 10000 = 0.0595\n",
            "Epsilon: 0.1\tTest Accuracy = 507 / 10000 = 0.0507\n",
            "Epsilon: 0.15\tTest Accuracy = 598 / 10000 = 0.0598\n",
            "Epsilon: 0.2\tTest Accuracy = 728 / 10000 = 0.0728\n",
            "Epsilon: 0.25\tTest Accuracy = 825 / 10000 = 0.0825\n",
            "Epsilon: 0.3\tTest Accuracy = 851 / 10000 = 0.0851\n",
            "Epsilon: 0.35\tTest Accuracy = 875 / 10000 = 0.0875\n",
            "Epsilon: 0.4\tTest Accuracy = 903 / 10000 = 0.0903\n",
            "Epsilon: 0.45\tTest Accuracy = 919 / 10000 = 0.0919\n",
            "Epsilon: 0.5\tTest Accuracy = 944 / 10000 = 0.0944\n",
            "CPU times: user 6min 13s, sys: 40.8 s, total: 6min 54s\n",
            "Wall time: 7min 37s\n"
          ],
          "name": "stdout"
        }
      ]
    },
    {
      "cell_type": "code",
      "metadata": {
        "id": "GFh6g91Wh-IB",
        "outputId": "97b6a59f-b44c-49dd-85b2-5a1adcdee44e",
        "colab": {
          "base_uri": "https://localhost:8080/",
          "height": 223
        }
      },
      "source": [
        "accuracies_lenet = []\n",
        "examples_lenet = []\n",
        "epsilons_lenet = [0, .01, .02, .03, .04, .05, .06,.07,.08,.09,.1]\n",
        "\n",
        "# Run test for each epsilon\n",
        "# testloader batchsize should be 1\n",
        "for eps in epsilons_lenet:\n",
        "    acc, ex = test(lenet, device, testloader, eps)\n",
        "    accuracies_lenet.append(acc)\n",
        "    examples_lenet.append(ex)"
      ],
      "execution_count": null,
      "outputs": [
        {
          "output_type": "stream",
          "text": [
            "Epsilon: 0\tTest Accuracy = 5931 / 10000 = 0.5931\n",
            "Epsilon: 0.01\tTest Accuracy = 3037 / 10000 = 0.3037\n",
            "Epsilon: 0.02\tTest Accuracy = 1501 / 10000 = 0.1501\n",
            "Epsilon: 0.03\tTest Accuracy = 757 / 10000 = 0.0757\n",
            "Epsilon: 0.04\tTest Accuracy = 415 / 10000 = 0.0415\n",
            "Epsilon: 0.05\tTest Accuracy = 242 / 10000 = 0.0242\n",
            "Epsilon: 0.06\tTest Accuracy = 146 / 10000 = 0.0146\n",
            "Epsilon: 0.07\tTest Accuracy = 91 / 10000 = 0.0091\n",
            "Epsilon: 0.08\tTest Accuracy = 67 / 10000 = 0.0067\n",
            "Epsilon: 0.09\tTest Accuracy = 55 / 10000 = 0.0055\n",
            "Epsilon: 0.1\tTest Accuracy = 36 / 10000 = 0.0036\n"
          ],
          "name": "stdout"
        }
      ]
    },
    {
      "cell_type": "code",
      "metadata": {
        "id": "fvOXzSQuh95_",
        "outputId": "bd22a63b-5c69-411d-d6e0-97076f46671d",
        "colab": {
          "base_uri": "https://localhost:8080/",
          "height": 223
        }
      },
      "source": [
        "accuracies_resnet = []\n",
        "examples_resnet = []\n",
        "epsilons_resnet = [0, .01, .02, .03, .04, .05, .06,.07,.08,.09,.1]\n",
        "\n",
        "# Run test for each epsilon\n",
        "# testloader batchsize should be 1\n",
        "for eps in epsilons_resnet:\n",
        "    acc, ex = test(resnet, device, testloader, eps)\n",
        "    accuracies_resnet.append(acc)\n",
        "    examples_resnet.append(ex)"
      ],
      "execution_count": null,
      "outputs": [
        {
          "output_type": "stream",
          "text": [
            "Epsilon: 0\tTest Accuracy = 8256 / 10000 = 0.8256\n",
            "Epsilon: 0.01\tTest Accuracy = 1580 / 10000 = 0.158\n",
            "Epsilon: 0.02\tTest Accuracy = 324 / 10000 = 0.0324\n",
            "Epsilon: 0.03\tTest Accuracy = 125 / 10000 = 0.0125\n",
            "Epsilon: 0.04\tTest Accuracy = 78 / 10000 = 0.0078\n",
            "Epsilon: 0.05\tTest Accuracy = 69 / 10000 = 0.0069\n",
            "Epsilon: 0.06\tTest Accuracy = 74 / 10000 = 0.0074\n",
            "Epsilon: 0.07\tTest Accuracy = 92 / 10000 = 0.0092\n",
            "Epsilon: 0.08\tTest Accuracy = 112 / 10000 = 0.0112\n",
            "Epsilon: 0.09\tTest Accuracy = 137 / 10000 = 0.0137\n",
            "Epsilon: 0.1\tTest Accuracy = 155 / 10000 = 0.0155\n"
          ],
          "name": "stdout"
        }
      ]
    },
    {
      "cell_type": "markdown",
      "metadata": {
        "id": "bati9vmognj5"
      },
      "source": [
        "### Plots showing the Accuracy vs Epsilon Plots "
      ]
    },
    {
      "cell_type": "code",
      "metadata": {
        "id": "_SqPHEFE6USM",
        "outputId": "4424cfdc-0299-4a68-e8ab-7e719beb3702",
        "colab": {
          "base_uri": "https://localhost:8080/",
          "height": 1000
        }
      },
      "source": [
        "# Plot of Accuracy vs Epsilon with 0.01 step size \n",
        "plt.figure(figsize=(5,5))\n",
        "plt.plot(epsilons_net, accuracies_net, \"*-\")\n",
        "plt.yticks(np.arange(0, 1.1, step=0.1))\n",
        "plt.xticks(np.arange(0, .1, step=0.01))\n",
        "plt.title(\"0.01 step\")\n",
        "plt.xlabel(\"Epsilon\")\n",
        "plt.ylabel(\"Accuracy\")\n",
        "plt.show()\n",
        "\n",
        "# Plot of Accuracy vs Epsilon with 0.02 step size \n",
        "plt.figure(figsize=(5,5))\n",
        "plt.plot(epsilons_net2, accuracies_net2, \"*-\")\n",
        "plt.yticks(np.arange(0, 1.1, step=0.1))\n",
        "plt.xticks(np.arange(0, .2, step=0.02))\n",
        "plt.title(\"0.02 step\")\n",
        "plt.xlabel(\"Epsilon\")\n",
        "plt.ylabel(\"Accuracy\")\n",
        "plt.show()\n",
        "\n",
        "# Plot of Accuracy vs Epsilon with 0.05 step size \n",
        "plt.figure(figsize=(5,5))\n",
        "plt.plot(epsilons_net3, accuracies_net3, \"*-\")\n",
        "plt.yticks(np.arange(0, 1.1, step=0.1))\n",
        "plt.xticks(np.arange(0, .5, step=0.05))\n",
        "plt.title(\"0.05 step\")\n",
        "plt.xlabel(\"Epsilon\")\n",
        "plt.ylabel(\"Accuracy\")\n",
        "plt.show()"
      ],
      "execution_count": null,
      "outputs": [
        {
          "output_type": "display_data",
          "data": {
            "image/png": "[encoded data removed]",
            "text/plain": [
              "<Figure size 360x360 with 1 Axes>"
            ]
          },
          "metadata": {
            "tags": []
          }
        },
        {
          "output_type": "display_data",
          "data": {
            "image/png": "[encoded data removed]",
            "text/plain": [
              "<Figure size 360x360 with 1 Axes>"
            ]
          },
          "metadata": {
            "tags": []
          }
        },
        {
          "output_type": "display_data",
          "data": {
            "image/png": "[encoded data removed]",
            "text/plain": [
              "<Figure size 360x360 with 1 Axes>"
            ]
          },
          "metadata": {
            "tags": []
          }
        }
      ]
    },
    {
      "cell_type": "markdown",
      "metadata": {
        "id": "E7mKvE83NbZC"
      },
      "source": [
        "Changing the epsilon value beyond a certain point does not seem to further deteriorate the rate of misclassification in this case around 0.05. This pertubation is small especially compared with the epsillon required in a single channel greyscale image like FashionMNIST. Models that classify three channel images are less robust to adversarial attacks it seems. "
      ]
    },
    {
      "cell_type": "code",
      "metadata": {
        "id": "wY0kMDLduWU_",
        "outputId": "2e2c7876-4a5f-4ebb-c671-1dcd45c6576a",
        "colab": {
          "base_uri": "https://localhost:8080/",
          "height": 284
        }
      },
      "source": [
        "# Using matplotlib to plot the degradation in accuracy for three different architectures \n",
        "plt.plot( epsilons_net, accuracies_net, color='skyblue', linewidth=2, label=\"Net Architecture\")\n",
        "plt.plot( epsilons_lenet, accuracies_lenet, color='olive', linewidth=2, label=\"LeNet Architecture\")\n",
        "plt.plot( epsilons_resnet, accuracies_resnet, color='red',linewidth=2, label=\"ResNet Architecture\")\n",
        "plt.legend()"
      ],
      "execution_count": null,
      "outputs": [
        {
          "output_type": "execute_result",
          "data": {
            "text/plain": [
              "<matplotlib.legend.Legend at 0x7f31502038d0>"
            ]
          },
          "metadata": {
            "tags": []
          },
          "execution_count": 36
        },
        {
          "output_type": "display_data",
          "data": {
            "image/png": "[encoded data removed]",
            "text/plain": [
              "<Figure size 432x288 with 1 Axes>"
            ]
          },
          "metadata": {
            "tags": []
          }
        }
      ]
    },
    {
      "cell_type": "markdown",
      "metadata": {
        "id": "XhWZy3NVN5oP"
      },
      "source": [
        "The three architectures and there response to adversarial attacks. \n",
        "\n",
        "The best performing architecture seems to be the least robust. Why this could be? It could be overfitting. \n",
        "\n",
        "LeNet performed poorly on the training set it is not surprising that a larger pertubation is required to fool this model. "
      ]
    },
    {
      "cell_type": "markdown",
      "metadata": {
        "id": "zq7-RobVQEm6"
      },
      "source": [
        "Conclusion and summary \n",
        "\n",
        "Three Neural Networks were trained then attacked using the fast gradient sign method there robustness varied.\n",
        "\n",
        "To protect our model we could train it using some adversarial examples, this however would reduce the accuracy of our training data i.e it would be a worse classifier and for that reason it would be harder to attack.  There are other techniques that could be used however there is no simple way to combat adversarial examples what is required is an adaptive method which does not exist.\n",
        "\n",
        "Further Reading \n",
        "\n",
        "- Adversarial training can result in regularization even further regularization than dropout. \n",
        "\n",
        "- Models that are easy to optimize are easy to perturb.\n",
        "\n",
        "- Ensembles are not resistant to adversarial examples.\n",
        "\n",
        "\n"
      ]
    }
  ]
}